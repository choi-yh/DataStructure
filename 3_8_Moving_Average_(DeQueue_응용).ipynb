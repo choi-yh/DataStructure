{
  "nbformat": 4,
  "nbformat_minor": 0,
  "metadata": {
    "colab": {
      "name": "3_8_Moving_Average_(DeQueue_응용).ipynb",
      "provenance": [],
      "collapsed_sections": [],
      "authorship_tag": "ABX9TyMVFU3I9U8EMgyfKK7aurzg",
      "include_colab_link": true
    },
    "kernelspec": {
      "name": "python3",
      "display_name": "Python 3"
    }
  },
  "cells": [
    {
      "cell_type": "markdown",
      "metadata": {
        "id": "view-in-github",
        "colab_type": "text"
      },
      "source": [
        "<a href=\"https://colab.research.google.com/github/choi-yh/DataStructure/blob/master/3_8_Moving_Average_(DeQueue_%EC%9D%91%EC%9A%A9).ipynb\" target=\"_parent\"><img src=\"https://colab.research.google.com/assets/colab-badge.svg\" alt=\"Open In Colab\"/></a>"
      ]
    },
    {
      "cell_type": "code",
      "metadata": {
        "id": "MVTOZvKJyxLe",
        "colab_type": "code",
        "colab": {}
      },
      "source": [
        "class Dequeue:\n",
        "    def __init__(self):\n",
        "        self.dq = []\n",
        "\n",
        "    def insertFirst(self, item):\n",
        "        self.dq.insert(0, item)\n",
        "    \n",
        "    def insertLast(self, item):\n",
        "        self.dq.append(item)\n",
        "\n",
        "    def isEmpty(self):\n",
        "        if len(self.dq) == 0:\n",
        "            return True\n",
        "        else:\n",
        "            return False\n",
        "\n",
        "    # element return 후 삭제\n",
        "    def popFirst(self):\n",
        "        if self.isEmpty() == True:\n",
        "            return None\n",
        "        else:\n",
        "            return self.dq.pop(0)\n",
        "\n",
        "    def popLast(self):\n",
        "        if self.isEmpty() == True:\n",
        "            return None\n",
        "        else:\n",
        "            return self.dq.pop(-1)\n",
        "\n",
        "    # element 삭제\n",
        "    def removeFirst(self):\n",
        "        if self.isEmpty() == True:\n",
        "            return None\n",
        "        else:\n",
        "            del self.dq[0]\n",
        "\n",
        "    def removeLast(self):\n",
        "        if self.isEmpty() == True:\n",
        "            return None\n",
        "        else:\n",
        "            del self.dq[-1]\n",
        "\n",
        "    # return element\n",
        "    def peekFisrt(self):\n",
        "        if self.isEmpty() == True:\n",
        "            return None\n",
        "        else:\n",
        "            return self.dq[0]\n",
        "\n",
        "    def peekLast(self):\n",
        "        if self.isEmpty() == True:\n",
        "            return None\n",
        "        else:\n",
        "            return self.dq[-1]\n",
        "\n",
        "    def print(self):\n",
        "        print(self.dq)\n",
        "\n",
        "    def sum(self):\n",
        "        return sum(self.dq)"
      ],
      "execution_count": 0,
      "outputs": []
    },
    {
      "cell_type": "markdown",
      "metadata": {
        "id": "P7ZflaS5gUz2",
        "colab_type": "text"
      },
      "source": [
        "#### Moving Average\n",
        "* 시계열 자료의 Smoothing 방법으로 주가 추세를 이해하는데 많이 사용됨\n",
        "* $ y_1, y_2,\\cdots, y_n$의 k-이동평균은 $y_i$ 에 대해 $y_i, y_{i+1}, y_{i+2}, \\cdots , y_{i+k-1}$  데이터를 선택해 평균을 낸 값이 $ m_{i+(k//2)} $ 이다.\n",
        "\n",
        "* 3-이동평균은 $y_1, y_2, y_3$ 3개의 자료에 대해 평균을 구해 $m_2$에 저장한다. 다음으로는 $y_2, y_3, y_4$ 의 평균을 이 자료의 가운데 위치에 $m_3$ 로 저장한다.\n",
        "<center><img src=\"https://drive.google.com/uc?id=1B0PuhMcVrUD1UJklof4nIJqloDsXVxsf\" width=\"500\" height=\"200\"></center>\n",
        "\n",
        "\n",
        "* 이를 Dequeue를 이용해 구현하면 이전 Dequeue에서 popFirst하고 다음 자료를 insertLast 하면 된다.\n"
      ]
    },
    {
      "cell_type": "code",
      "metadata": {
        "id": "IorXAeuz1ABL",
        "colab_type": "code",
        "outputId": "d2dba731-f54e-49b2-e271-ac1e9dbe194f",
        "colab": {
          "base_uri": "https://localhost:8080/",
          "height": 125
        }
      },
      "source": [
        "# Dequeue 응용문제(이동평균)\n",
        "\n",
        "from google.colab import drive\n",
        "drive.mount('/gdrive')"
      ],
      "execution_count": 0,
      "outputs": [
        {
          "output_type": "stream",
          "text": [
            "Go to this URL in a browser: https://accounts.google.com/o/oauth2/auth?client_id=947318989803-6bn6qk8qdgf4n4g3pfee6491hc0brc4i.apps.googleusercontent.com&redirect_uri=urn%3aietf%3awg%3aoauth%3a2.0%3aoob&response_type=code&scope=email%20https%3a%2f%2fwww.googleapis.com%2fauth%2fdocs.test%20https%3a%2f%2fwww.googleapis.com%2fauth%2fdrive%20https%3a%2f%2fwww.googleapis.com%2fauth%2fdrive.photos.readonly%20https%3a%2f%2fwww.googleapis.com%2fauth%2fpeopleapi.readonly\n",
            "\n",
            "Enter your authorization code:\n",
            "··········\n",
            "Mounted at /gdrive\n"
          ],
          "name": "stdout"
        }
      ]
    },
    {
      "cell_type": "code",
      "metadata": {
        "id": "0XEuOUnF1FOO",
        "colab_type": "code",
        "outputId": "c9b9dcb6-c834-4a6a-c5f8-283636b4383d",
        "colab": {
          "base_uri": "https://localhost:8080/",
          "height": 263
        }
      },
      "source": [
        "import numpy as np\n",
        "import matplotlib.pyplot as plt\n",
        "import csv\n",
        "\n",
        "with open('/gdrive/My Drive/Python/GitHub/DataStructure/data/stock_daily.csv', 'r') as f:\n",
        "    reader = csv.reader(f, delimiter=',')\n",
        "    data = list(reader)\n",
        "    data = np.array(data).astype(float)\n",
        "\n",
        "data.shape, data"
      ],
      "execution_count": 0,
      "outputs": [
        {
          "output_type": "execute_result",
          "data": {
            "text/plain": [
              "((732, 5),\n",
              " array([[8.28659973e+02, 8.33450012e+02, 8.28349976e+02, 1.24770000e+06,\n",
              "         8.31659973e+02],\n",
              "        [8.23020020e+02, 8.28070007e+02, 8.21655029e+02, 1.59780000e+06,\n",
              "         8.28070007e+02],\n",
              "        [8.19929993e+02, 8.24400024e+02, 8.18979980e+02, 1.28170000e+06,\n",
              "         8.24159973e+02],\n",
              "        ...,\n",
              "        [5.66892592e+02, 5.67002574e+02, 5.56932537e+02, 1.08000000e+04,\n",
              "         5.56972503e+02],\n",
              "        [5.61202549e+02, 5.66432590e+02, 5.58672539e+02, 4.12000000e+04,\n",
              "         5.59992565e+02],\n",
              "        [5.68002570e+02, 5.68002570e+02, 5.52922516e+02, 1.31000000e+04,\n",
              "         5.58462551e+02]]))"
            ]
          },
          "metadata": {
            "tags": []
          },
          "execution_count": 6
        }
      ]
    },
    {
      "cell_type": "code",
      "metadata": {
        "id": "jYa0ZJYx1nVW",
        "colab_type": "code",
        "outputId": "b0ad30d8-5bc2-4769-ba01-f901eae71e1e",
        "colab": {
          "base_uri": "https://localhost:8080/",
          "height": 34
        }
      },
      "source": [
        "data = data[:,-1] # 마지막 컬럼만 선택\n",
        "data = data[::-1] # 데이터 순서 뒤집기 (첫 데이터가 가장 최신 데이터)\n",
        "data.shape"
      ],
      "execution_count": 0,
      "outputs": [
        {
          "output_type": "execute_result",
          "data": {
            "text/plain": [
              "(732,)"
            ]
          },
          "metadata": {
            "tags": []
          },
          "execution_count": 7
        }
      ]
    },
    {
      "cell_type": "code",
      "metadata": {
        "id": "SYHDZPDx2LcA",
        "colab_type": "code",
        "outputId": "ec57a878-2125-4018-ca72-5ae3f234e27b",
        "colab": {
          "base_uri": "https://localhost:8080/",
          "height": 268
        }
      },
      "source": [
        "# plot\n",
        "\n",
        "time = np.arange(0, data.shape[0])\n",
        "plt.plot(time, data)\n",
        "plt.show()"
      ],
      "execution_count": 0,
      "outputs": [
        {
          "output_type": "display_data",
          "data": {
            "image/png": "[encoded data removed]",
            "text/plain": [
              "<Figure size 432x288 with 1 Axes>"
            ]
          },
          "metadata": {
            "tags": [],
            "needs_background": "light"
          }
        }
      ]
    },
    {
      "cell_type": "code",
      "metadata": {
        "id": "OC5Fz91HdiI0",
        "colab_type": "code",
        "outputId": "20741b51-b7b3-450d-9a5b-edc04098722b",
        "colab": {
          "base_uri": "https://localhost:8080/",
          "height": 34
        }
      },
      "source": [
        "# 위 그래프에서 5점 이동평균 그래프를 그려보자\n",
        "dq = Dequeue()\n",
        "mavg = []\n",
        "interval = 5\n",
        "\n",
        "for i in range(interval):\n",
        "    dq.insertLast(data[i])\n",
        "mavg.append(dq.sum() / interval)\n",
        "\n",
        "# blank 부분을 gap이라는 변수로 활용하셨는데 굳이 사용을 하지 않아도 되지않을까?\n",
        "# interval 만큼 바로 dq에 넣고 빼면서 계산했다.\n",
        "for tmp in data[interval+1:]:\n",
        "    dq.removeFirst()\n",
        "    dq.insertLast(tmp)\n",
        "    mavg.append(dq.sum() / interval)\n",
        "\n",
        "mavg = np.array(mavg)\n",
        "mavg.shape"
      ],
      "execution_count": 0,
      "outputs": [
        {
          "output_type": "execute_result",
          "data": {
            "text/plain": [
              "(727,)"
            ]
          },
          "metadata": {
            "tags": []
          },
          "execution_count": 26
        }
      ]
    },
    {
      "cell_type": "code",
      "metadata": {
        "id": "L5yfkHFmd4Qf",
        "colab_type": "code",
        "outputId": "ba4a4c95-82ad-4492-8ec9-8278aabd594f",
        "colab": {
          "base_uri": "https://localhost:8080/",
          "height": 268
        }
      },
      "source": [
        "time2 = np.arange(0, mavg.shape[0])\n",
        "plt.plot(time, data)\n",
        "plt.plot(time2, mavg)\n",
        "plt.show()"
      ],
      "execution_count": 0,
      "outputs": [
        {
          "output_type": "display_data",
          "data": {
            "image/png": "[encoded data removed]",
            "text/plain": [
              "<Figure size 432x288 with 1 Axes>"
            ]
          },
          "metadata": {
            "tags": [],
            "needs_background": "light"
          }
        }
      ]
    },
    {
      "cell_type": "code",
      "metadata": {
        "id": "0aZKN0eZj6yK",
        "colab_type": "code",
        "colab": {}
      },
      "source": [
        ""
      ],
      "execution_count": 0,
      "outputs": []
    }
  ]
}