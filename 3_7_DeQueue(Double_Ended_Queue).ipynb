{
  "nbformat": 4,
  "nbformat_minor": 0,
  "metadata": {
    "colab": {
      "name": "3_7_DeQueue(Double_Ended_Queue).ipynb",
      "provenance": [],
      "collapsed_sections": [],
      "authorship_tag": "ABX9TyMHr/TTBhiuEej0pG28Lm45",
      "include_colab_link": true
    },
    "kernelspec": {
      "name": "python3",
      "display_name": "Python 3"
    }
  },
  "cells": [
    {
      "cell_type": "markdown",
      "metadata": {
        "id": "view-in-github",
        "colab_type": "text"
      },
      "source": [
        "<a href=\"https://colab.research.google.com/github/choi-yh/DataStructure/blob/master/3_7_DeQueue(Double_Ended_Queue).ipynb\" target=\"_parent\"><img src=\"https://colab.research.google.com/assets/colab-badge.svg\" alt=\"Open In Colab\"/></a>"
      ]
    },
    {
      "cell_type": "markdown",
      "metadata": {
        "id": "Yx4ZLhm2sXvD",
        "colab_type": "text"
      },
      "source": [
        "* Queue는 좌측에서 입력하고 우측에서 출력하는데 DeQueue는 양쪽에서 입력과 출력이 가능하다.  \n",
        "* 윈도우의 스크롤에서 덱을 사용하면 효율적  \n",
        "    * createDeque\n",
        "    * insertFirst\n",
        "    * insertLast\n",
        "    * isEmpty\n",
        "    * popFirst : element를 return하고 삭제\n",
        "    * popLast\n",
        "    * removeFirst : element를 삭제\n",
        "    * removeLast\n",
        "    * peekFirst : element return 만\n",
        "    * peekLast"
      ]
    },
    {
      "cell_type": "code",
      "metadata": {
        "id": "qU5RTYC_tVfz",
        "colab_type": "code",
        "colab": {
          "base_uri": "https://localhost:8080/",
          "height": 107
        },
        "outputId": "70825778-394d-42db-ba29-68b33e85a611"
      },
      "source": [
        "class Dequeue:\n",
        "    def __init__(self):\n",
        "        self.dq = []\n",
        "\n",
        "    def insertFirst(self, item):\n",
        "        self.dq.insert(0, item)\n",
        "    \n",
        "    def insertLast(self, item):\n",
        "        self.dq.append(item)\n",
        "\n",
        "    def isEmpty(self):\n",
        "        if len(self.dq) == 0:\n",
        "            return True\n",
        "        else:\n",
        "            return False\n",
        "\n",
        "    # element return 후 삭제\n",
        "    def popFirst(self):\n",
        "        if self.isEmpty() == True:\n",
        "            return None\n",
        "        else:\n",
        "            return self.dq.pop(0)\n",
        "\n",
        "    def popLast(self):\n",
        "        if self.isEmpty() == True:\n",
        "            return None\n",
        "        else:\n",
        "            return self.dq.pop(-1)\n",
        "\n",
        "    # element 삭제\n",
        "    def removeFirst(self):\n",
        "        if self.isEmpty() == True:\n",
        "            return None\n",
        "        else:\n",
        "            del self.dq[0]\n",
        "\n",
        "    def removeLast(self):\n",
        "        if self.isEmpty() == True:\n",
        "            return None\n",
        "        else:\n",
        "            del self.dq[-1]\n",
        "\n",
        "    # return element\n",
        "    def peekFisrt(self):\n",
        "        if self.isEmpty() == True:\n",
        "            return None\n",
        "        else:\n",
        "            return self.dq[0]\n",
        "\n",
        "    def peekLast(self):\n",
        "        if self.isEmpty() == True:\n",
        "            return None\n",
        "        else:\n",
        "            return self.dq[-1]\n",
        "\n",
        "    def print(self):\n",
        "        print(self.dq)\n",
        "\n",
        "    def sum(self):\n",
        "        return sum(self.dq)\n",
        "\n",
        "\n",
        "a = Dequeue()\n",
        "a.insertFirst(2)\n",
        "a.insertFirst(1)\n",
        "a.insertLast(3)\n",
        "a.insertLast(4)\n",
        "\n",
        "a.print()\n",
        "print(a.sum())\n",
        "\n",
        "print(a.popFirst())\n",
        "print(a.popLast())\n",
        "a.print()"
      ],
      "execution_count": 2,
      "outputs": [
        {
          "output_type": "stream",
          "text": [
            "[1, 2, 3, 4]\n",
            "10\n",
            "1\n",
            "4\n",
            "[2, 3]\n"
          ],
          "name": "stdout"
        }
      ]
    },
    {
      "cell_type": "code",
      "metadata": {
        "id": "ITkzUdljxqDx",
        "colab_type": "code",
        "colab": {}
      },
      "source": [
        ""
      ],
      "execution_count": 0,
      "outputs": []
    }
  ]
}