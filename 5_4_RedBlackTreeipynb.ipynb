{
  "nbformat": 4,
  "nbformat_minor": 0,
  "metadata": {
    "colab": {
      "name": "5_4_RedBlackTreeipynb",
      "provenance": [],
      "authorship_tag": "ABX9TyMtWaf/fK55v05fa7ABzxZF",
      "include_colab_link": true
    },
    "kernelspec": {
      "name": "python3",
      "display_name": "Python 3"
    }
  },
  "cells": [
    {
      "cell_type": "markdown",
      "metadata": {
        "id": "view-in-github",
        "colab_type": "text"
      },
      "source": [
        "<a href=\"https://colab.research.google.com/github/choi-yh/DataStructure/blob/master/5_4_RedBlackTreeipynb.ipynb\" target=\"_parent\"><img src=\"https://colab.research.google.com/assets/colab-badge.svg\" alt=\"Open In Colab\"/></a>"
      ]
    },
    {
      "cell_type": "markdown",
      "metadata": {
        "id": "cVg7_vGJDz_W",
        "colab_type": "text"
      },
      "source": [
        "#### Red Black Tree\n",
        "\n",
        "* Red Black 트리는 기본적으로 균형 이진탐색트리다.\n",
        "*  Red-Black Tree는 탐색, 삽입, 삭제 모두 시간복잡도가 log(n) 이다.\n",
        "* 일반적으로 이진탐색트리는 많이 사용된다. 하지만, 연산 속도차이가 나면 안되는 경우, 균형 이진 탐색트리로 AVL, Red-Black Tree를 사용할 수 있는데 이 때, AVL 보다는 Red-Black Tree가  많이 사용된다.\n",
        "* 하지만, 프로그램 구조가 복잡하다는 단점이 있다.\n",
        "* 탐색은 이진탐색트리 알고리즘과 동일하고 삽입, 삭제시 트리의 높이를 log(n)이 되도록 재배열하는 작업을 수행한다.\n",
        "* Red Black Tree는 아래의 조건을 만족한다.\n",
        "  1. 각 노드는 레드 혹은 블랙 이다.\n",
        "  2. 루트노드는 블랙이다.\n",
        "  3. 모든 NIL 노드는 블랙이다. (NIL은 None을 의미함)\n",
        "  4. 레드 노드의 자식은 블랙이다. (double red condition)\n",
        "  5. 모든 노드에 대해 해당 노드부터 잎 노드까지 경로에 존재하는 블랙노드 수는 같다.\n",
        "  \n",
        "        ![]( https://drive.google.com/uc?id=1p6O--rUTPlmwZAy-Fsg5P9HQDsvGPtPw) </center>\n",
        "\n",
        "* Red Black Tree의 특정 노드의 높이는 2 log(n+1) 보다 작다.\n",
        "\n",
        "  "
      ]
    },
    {
      "cell_type": "code",
      "metadata": {
        "id": "i9j66Sx4D5Xp",
        "colab_type": "code",
        "colab": {
          "base_uri": "https://localhost:8080/",
          "height": 193
        },
        "outputId": "996afbf7-ad8d-4fde-e582-210ee01c127b"
      },
      "source": [
        "# python bintrees library\n",
        "!pip install bintrees"
      ],
      "execution_count": 1,
      "outputs": [
        {
          "output_type": "stream",
          "text": [
            "Collecting bintrees\n",
            "\u001b[?25l  Downloading https://files.pythonhosted.org/packages/ba/a2/91500400b145c8ee668992654ff43afec3ebbb8ed80bc5f0717dd07a7349/bintrees-2.1.0.zip (107kB)\n",
            "\r\u001b[K     |███                             | 10kB 20.5MB/s eta 0:00:01\r\u001b[K     |██████                          | 20kB 6.5MB/s eta 0:00:01\r\u001b[K     |█████████▏                      | 30kB 9.1MB/s eta 0:00:01\r\u001b[K     |████████████▏                   | 40kB 11.5MB/s eta 0:00:01\r\u001b[K     |███████████████▏                | 51kB 7.5MB/s eta 0:00:01\r\u001b[K     |██████████████████▎             | 61kB 8.7MB/s eta 0:00:01\r\u001b[K     |█████████████████████▎          | 71kB 9.8MB/s eta 0:00:01\r\u001b[K     |████████████████████████▎       | 81kB 10.2MB/s eta 0:00:01\r\u001b[K     |███████████████████████████▍    | 92kB 8.8MB/s eta 0:00:01\r\u001b[K     |██████████████████████████████▍ | 102kB 9.5MB/s eta 0:00:01\r\u001b[K     |████████████████████████████████| 112kB 9.5MB/s \n",
            "\u001b[?25hBuilding wheels for collected packages: bintrees\n",
            "  Building wheel for bintrees (setup.py) ... \u001b[?25l\u001b[?25hdone\n",
            "  Created wheel for bintrees: filename=bintrees-2.1.0-cp36-cp36m-linux_x86_64.whl size=178348 sha256=08b110a9b5aa7c981f243703b422ca16d7eee5585034e3365c0c2bac5f9ee6f6\n",
            "  Stored in directory: /root/.cache/pip/wheels/6b/6d/b3/d4326a182471a662850c40d047503efcb3a30025b367b631e2\n",
            "Successfully built bintrees\n",
            "Installing collected packages: bintrees\n",
            "Successfully installed bintrees-2.1.0\n"
          ],
          "name": "stdout"
        }
      ]
    },
    {
      "cell_type": "code",
      "metadata": {
        "id": "zeNvxK_sEFDX",
        "colab_type": "code",
        "colab": {
          "base_uri": "https://localhost:8080/",
          "height": 122
        },
        "outputId": "c0ce7ab5-3406-4c3a-904b-6576c23a6238"
      },
      "source": [
        "import bintrees\n",
        "\n",
        "x = [(13,'a13'),(8,'a8'), (17,'a17'), (1,'a1'), (11,'a11'), (15,'a15'), (25,'a25'), (6,'a6'), (22,'a22'), (27,'a27')]\n",
        "\n",
        "t = bintrees.RBTree(x)\n",
        "\n",
        "\n",
        "print(t._root.value)\n",
        "print(t._root.left.key, t._root.left.value)\n",
        "print(t.get_value(25))\n",
        "print(t.min_item(),t.max_item())\n",
        "\n",
        "t.insert(0,'a0')\n",
        "print(t.min_item(),t.max_item())\n",
        "t.remove(0)\n",
        "print(t.min_item(),t.max_item())\n"
      ],
      "execution_count": 2,
      "outputs": [
        {
          "output_type": "stream",
          "text": [
            "a13\n",
            "8 a8\n",
            "a25\n",
            "(1, 'a1') (27, 'a27')\n",
            "(0, 'a0') (27, 'a27')\n",
            "(1, 'a1') (27, 'a27')\n"
          ],
          "name": "stdout"
        }
      ]
    },
    {
      "cell_type": "code",
      "metadata": {
        "id": "hcSpX9OZEJ6y",
        "colab_type": "code",
        "colab": {}
      },
      "source": [
        ""
      ],
      "execution_count": 0,
      "outputs": []
    }
  ]
}