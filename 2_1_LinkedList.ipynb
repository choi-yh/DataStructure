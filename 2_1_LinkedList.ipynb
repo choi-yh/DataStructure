{
  "nbformat": 4,
  "nbformat_minor": 0,
  "metadata": {
    "colab": {
      "name": "2_1_LinkedList.ipynb",
      "provenance": [],
      "collapsed_sections": [],
      "authorship_tag": "ABX9TyMC/TzIXnaauYb0RWArSLHe",
      "include_colab_link": true
    },
    "kernelspec": {
      "name": "python3",
      "display_name": "Python 3"
    }
  },
  "cells": [
    {
      "cell_type": "markdown",
      "metadata": {
        "id": "view-in-github",
        "colab_type": "text"
      },
      "source": [
        "<a href=\"https://colab.research.google.com/github/choi-yh/DataStructure/blob/master/2_1_LinkedList.ipynb\" target=\"_parent\"><img src=\"https://colab.research.google.com/assets/colab-badge.svg\" alt=\"Open In Colab\"/></a>"
      ]
    },
    {
      "cell_type": "markdown",
      "metadata": {
        "id": "fMgm2hOVtPFf",
        "colab_type": "text"
      },
      "source": [
        "* Array List와 Linked List  \n",
        "    Array List: 메모리가 물리적으로 연결되어 있어 수정, 삭제, 삽입이 불가 $\\Rightarrow$ 수정, 삽입이 없는 경우엔 사용\n",
        "  \n",
        "    Linked List: 메모리가 물리적으로 떨어져있어 각 linker의 주소를 통해서 연결 / 수정, 삽입, 삭제는 용이하나 메모리를 더 많이 사용한다.   \n",
        "    $\\Rightarrow$ 삽입, 삭제가 많은 자료형에서 사용\n"
      ]
    },
    {
      "cell_type": "markdown",
      "metadata": {
        "id": "Fku_gIIjtftX",
        "colab_type": "text"
      },
      "source": [
        "* Linked List의 노드에는 주소가 저장된다. (linker에는 다음 노드의 주소 저장)  "
      ]
    },
    {
      "cell_type": "markdown",
      "metadata": {
        "id": "IOLgCJ52i563",
        "colab_type": "text"
      },
      "source": [
        "* Node를 먼저 생성한다."
      ]
    },
    {
      "cell_type": "markdown",
      "metadata": {
        "id": "pdrYDamMi-HZ",
        "colab_type": "text"
      },
      "source": [
        "\n",
        "\n",
        "---\n",
        "\n",
        "\n",
        "* ADT\n",
        "\n",
        "* 기본적으로 아무것도 들어있지 않은 root 노드를 먼저 생성한다.  \n",
        "* append 메소드: 링크를 따라가면서 맨 마지막 노드 (link에 None이 있음)의 link에 새로운 노드를 추가한다.\n",
        "* insert 메소드: item과 인덱스를 입력받아서 해당 위치에 추가한다.  \n",
        "    index == 0 이라면 root 노드를 newNode로 설정  \n",
        "    index < 0 or index > listSize의 경우 error 출력  \n",
        "    이외의 경우 index-1 번째의 item을 찾아 해당 노드 뒤에 newNode를 삽입\n",
        "* del 메소드: item을 입력 받아 해당 노드를 지운다.  \n",
        "    root일 경우 다음 노드를 root로 지정한다.  \n",
        "    마지막 노드일 경우 이전 노드의 link를 None으로 지정한다. (preNode 확인 필요)  \n",
        "    일반 노드 경우 이전 노드의 link를 다음 노드의 주소로 지정한다.  \n",
        "\n",
        "* find 메소드: 해당 item의 인덱스를 리턴한다.\n",
        "* listSize 메소드: 현재 리스트의 길이를 리턴한다.  \n",
        "* print 메소드: 현재 리스트에 있는 노드들의 item을 리턴한다.  \n"
      ]
    },
    {
      "cell_type": "code",
      "metadata": {
        "id": "2Skn0mN8uwXP",
        "colab_type": "code",
        "outputId": "9aa4fa5a-4c8d-4984-d6f4-547480d51b75",
        "colab": {
          "base_uri": "https://localhost:8080/",
          "height": 70
        }
      },
      "source": [
        "class Node:\n",
        "    def __init__(self, item=None, link=None):\n",
        "        self.item = item\n",
        "        self.link = link\n",
        "\n",
        "a = Node('사과')\n",
        "\n",
        "print(a.item)\n",
        "print(a.link)\n",
        "print(id(a))"
      ],
      "execution_count": 1,
      "outputs": [
        {
          "output_type": "stream",
          "text": [
            "사과\n",
            "None\n",
            "139695147218592\n"
          ],
          "name": "stdout"
        }
      ]
    },
    {
      "cell_type": "code",
      "metadata": {
        "id": "24f8CxKdftRz",
        "colab_type": "code",
        "outputId": "9c4742c0-ed82-42ef-8f66-c5cb9a749871",
        "colab": {
          "base_uri": "https://localhost:8080/",
          "height": 140
        }
      },
      "source": [
        "class LinkedList:\n",
        "    def __init__(self):\n",
        "        self.root = None\n",
        "\n",
        "    def append(self, item):\n",
        "        newNode = Node(item)\n",
        "        curNode = self.root\n",
        "        if self.root == None:\n",
        "            self.root = newNode\n",
        "        else:\n",
        "            while curNode.link != None:\n",
        "                curNode = curNode.link\n",
        "            curNode.link = newNode\n",
        "\n",
        "    def insert(self, item, idx):\n",
        "        curNode = self.root\n",
        "        newNode = Node(item)\n",
        "        if idx == 0:\n",
        "            newNode.link = self.root\n",
        "            self.root = newNode\n",
        "        elif idx > self.listSize() or idx < 0:\n",
        "            print('index error')\n",
        "        else:\n",
        "            for i in range(idx-1):\n",
        "                curNode = curNode.link\n",
        "            newNode.link = curNode.link\n",
        "            curNode.link = newNode\n",
        "\n",
        "    def delNode(self, item):\n",
        "        curNode = self.root\n",
        "        preNode = self.root\n",
        "        delItem = False\n",
        "        if self.root.item == item:\n",
        "            self.root = curNode.link\n",
        "            delItem = True\n",
        "        elif curNode.link == None and curNode.item == item: # 맨 마지막 노드의 item을 지울 경우\n",
        "            preNode.link = None\n",
        "            delItem = True\n",
        "        else:\n",
        "            while curNode.link != None:\n",
        "                curNode = curNode.link\n",
        "                if curNode.item == item:\n",
        "                    preNode.link = curNode.link\n",
        "                    delItem = True\n",
        "                else:\n",
        "                    preNode = preNode.link\n",
        "        if delItem == False:\n",
        "            print(\"해당 아이템은 리스트 안에 없습니다.\")\n",
        "\n",
        "    def idxFind(self, item):\n",
        "        curNode = self.root\n",
        "        curIdx = 0\n",
        "        if curNode.item == item:\n",
        "            return 0\n",
        "        else:\n",
        "            while curNode.link != None:\n",
        "                curNode = curNode.link\n",
        "                curIdx += 1\n",
        "                if curNode.item == item:\n",
        "                    return curIdx\n",
        "        return -1            \n",
        "\n",
        "    def listSize(self):\n",
        "        curNode = self.root\n",
        "        cnt = 1\n",
        "        while curNode.link != None:\n",
        "            curNode = curNode.link\n",
        "            cnt += 1\n",
        "        return cnt\n",
        "\n",
        "    def print(self):\n",
        "        curNode = self.root\n",
        "        print(curNode.item, end=' ')\n",
        "        while curNode.link != None:\n",
        "            curNode = curNode.link\n",
        "            print('-', curNode.item, end=' ')\n",
        "        print('')\n",
        "\n",
        "\n",
        "# list 생성 및 append\n",
        "fruit = LinkedList()\n",
        "fruit.append('사과')\n",
        "fruit.append('배')\n",
        "fruit.append('포도')\n",
        "fruit.print()\n",
        "\n",
        "print('listSize:', fruit.listSize()) # listSize\n",
        "\n",
        "print('배의 인덱스:', fruit.idxFind('배')) # 아이템 인덱스 찾기\n",
        "\n",
        "fruit.insert('참외', 1) # insert\n",
        "fruit.print()\n",
        "\n",
        "fruit.delNode('배') # delNode\n",
        "fruit.print()\n",
        "\n",
        "fruit.delNode('감귤') # delNode 없을때\n",
        "fruit.print()"
      ],
      "execution_count": 40,
      "outputs": [
        {
          "output_type": "stream",
          "text": [
            "사과 - 배 - 포도 \n",
            "listSize: 3\n",
            "배의 인덱스: 1\n",
            "사과 - 참외 - 배 - 포도 \n",
            "사과 - 참외 - 포도 \n",
            "해당 아이템은 리스트 안에 없습니다.\n",
            "사과 - 참외 - 포도 \n"
          ],
          "name": "stdout"
        }
      ]
    },
    {
      "cell_type": "code",
      "metadata": {
        "id": "zTQFt5DHaIG4",
        "colab_type": "code",
        "colab": {}
      },
      "source": [
        ""
      ],
      "execution_count": 0,
      "outputs": []
    }
  ]
}