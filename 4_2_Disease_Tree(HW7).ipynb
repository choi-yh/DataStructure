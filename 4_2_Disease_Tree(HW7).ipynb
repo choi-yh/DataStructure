{
  "nbformat": 4,
  "nbformat_minor": 0,
  "metadata": {
    "colab": {
      "name": "4_2_Disease_Tree(HW7).ipynb",
      "provenance": [],
      "collapsed_sections": [],
      "authorship_tag": "ABX9TyM/WK7ziRKqyMUDL1NB9HzS",
      "include_colab_link": true
    },
    "kernelspec": {
      "name": "python3",
      "display_name": "Python 3"
    }
  },
  "cells": [
    {
      "cell_type": "markdown",
      "metadata": {
        "id": "view-in-github",
        "colab_type": "text"
      },
      "source": [
        "<a href=\"https://colab.research.google.com/github/choi-yh/DataStructure/blob/master/4_2_Disease_Tree(HW7).ipynb\" target=\"_parent\"><img src=\"https://colab.research.google.com/assets/colab-badge.svg\" alt=\"Open In Colab\"/></a>"
      ]
    },
    {
      "cell_type": "markdown",
      "metadata": {
        "id": "0rJsPLYck2Nf",
        "colab_type": "text"
      },
      "source": [
        "<H.W # 7> 아래 트리를 구현하고 단말 노드 질병 간의 거리를 계산하는 메소드를 구현하시오.  \n",
        "                대장염과 대장암의 거리는 1/3 이고, 대장염과 위궤양의 거리는 2/3, 대장염과 독감의 거리는 3/3 이다.</font>\n",
        "\n",
        "                \n",
        " ![](https://drive.google.com/uc?id=14Y5yfehCM5U7zj4OM2F8N55IK0xoGC9S) </center>\n"
      ]
    },
    {
      "cell_type": "code",
      "metadata": {
        "id": "CcdzdeDjlLXZ",
        "colab_type": "code",
        "colab": {}
      },
      "source": [
        "class BinaryTree:\n",
        "    def __init__(self):\n",
        "        self.t = [None]\n",
        "\n",
        "    def append(self, item):\n",
        "        self.t.append(item)\n",
        "\n",
        "    def size(self):\n",
        "        return len(self.t) - 1\n",
        "\n",
        "    def getChild(self, item):\n",
        "        if item in self.t:\n",
        "            k = self.t.index(item)\n",
        "            lidx = 2 * k\n",
        "            ridx = 2 * k + 1\n",
        "\n",
        "            if lidx <= self.size(): # 왼쪽 자식 노드\n",
        "                lnode = self.t[lidx]\n",
        "            else:\n",
        "                lnode = None\n",
        "\n",
        "            if ridx <= self.size(): # 오른쪽 자식 노드\n",
        "                rnode = self.t[ridx]\n",
        "            else:\n",
        "                rnode = None\n",
        "            return lnode, rnode\n",
        "        else:\n",
        "            print('item not Found')\n",
        "\n",
        "    def getParent(self, item):\n",
        "        if item in self.t:\n",
        "            k = self.t.index(item)\n",
        "            pidx = k // 2\n",
        "            if pidx > 0: # pidx == 0일 경우 부모 노드가 없다.\n",
        "                return self.t[pidx]\n",
        "            else:\n",
        "                return None\n",
        "        else:\n",
        "            print('item not Found')\n",
        "\n",
        "    # Tree의 높이 계산\n",
        "    def height(self): \n",
        "        idx = self.size()\n",
        "        h = 0\n",
        "        while idx != 0:\n",
        "            idx = idx // 2\n",
        "            h += 1\n",
        "        return h\n",
        "\n",
        "    # 단말 노드간의 거리 계산\n",
        "    def getDist(self, a, b):\n",
        "        k = 1\n",
        "        while True:\n",
        "            aParent = self.getParent(a)\n",
        "            bParent = self.getParent(b)\n",
        "            if aParent != bParent:\n",
        "                k += 1\n",
        "                a = aParent\n",
        "                b = bParent\n",
        "            else:\n",
        "                break\n",
        "        return round(k / (self.height()-1), 3) # 소수 3자리까지만 리턴\n",
        "\n",
        "    def print(self):\n",
        "        print(self.t)"
      ],
      "execution_count": 0,
      "outputs": []
    },
    {
      "cell_type": "code",
      "metadata": {
        "id": "ePGfzYv2lV33",
        "colab_type": "code",
        "colab": {
          "base_uri": "https://localhost:8080/",
          "height": 87
        },
        "outputId": "c6ea9333-6bdb-4fcc-ed51-77616eb7d8b5"
      },
      "source": [
        "dList = ['호흡기/소화기병', '호흡기병', '소화기병', '호흡기감염', '폐질환', '위질환', '결장질환', '독감', '기관지염', '폐부종', '폐색전증', '위궤양', '위암', '대장염', '대장암']\n",
        "\n",
        "dTree = BinaryTree()\n",
        "for d in dList:\n",
        "    dTree.append(d)\n",
        "dTree.print()\n",
        "\n",
        "print(dTree.size())\n",
        "print(dTree.height())\n",
        "\n",
        "dTree.getDist('기관지염', '폐부종')"
      ],
      "execution_count": 47,
      "outputs": [
        {
          "output_type": "stream",
          "text": [
            "[None, '호흡기/소화기병', '호흡기병', '소화기병', '호흡기감염', '폐질환', '위질환', '결장질환', '독감', '기관지염', '폐부종', '폐색전증', '위궤양', '위암', '대장염', '대장암']\n",
            "15\n",
            "4\n"
          ],
          "name": "stdout"
        },
        {
          "output_type": "execute_result",
          "data": {
            "text/plain": [
              "0.667"
            ]
          },
          "metadata": {
            "tags": []
          },
          "execution_count": 47
        }
      ]
    },
    {
      "cell_type": "code",
      "metadata": {
        "id": "hYHPOi79ugUm",
        "colab_type": "code",
        "colab": {}
      },
      "source": [
        ""
      ],
      "execution_count": 0,
      "outputs": []
    }
  ]
}