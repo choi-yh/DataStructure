{
  "nbformat": 4,
  "nbformat_minor": 0,
  "metadata": {
    "colab": {
      "name": "3_2_Reverse_String.ipynb",
      "provenance": [],
      "collapsed_sections": [],
      "authorship_tag": "ABX9TyMXI7SIoriOXlLAQfPypJnC",
      "include_colab_link": true
    },
    "kernelspec": {
      "name": "python3",
      "display_name": "Python 3"
    }
  },
  "cells": [
    {
      "cell_type": "markdown",
      "metadata": {
        "id": "view-in-github",
        "colab_type": "text"
      },
      "source": [
        "<a href=\"https://colab.research.google.com/github/choi-yh/DataStructure/blob/master/3_2_Reverse_String.ipynb\" target=\"_parent\"><img src=\"https://colab.research.google.com/assets/colab-badge.svg\" alt=\"Open In Colab\"/></a>"
      ]
    },
    {
      "cell_type": "code",
      "metadata": {
        "id": "itHpKDjkVgWu",
        "colab_type": "code",
        "colab": {}
      },
      "source": [
        "class Stack:\n",
        "    def __init__(self):\n",
        "        self.s = []\n",
        "\n",
        "    def push(self, item):\n",
        "        self.s.append(item)\n",
        "\n",
        "    def pop(self):\n",
        "        if self.isEmpty() == True:\n",
        "            return None\n",
        "        else:\n",
        "            return self.s.pop(-1)\n",
        "\n",
        "    def delete(self):\n",
        "        if self.isEmpty() == True:\n",
        "            return None\n",
        "        else:\n",
        "            del self.s[-1]\n",
        "\n",
        "    def peek(self):\n",
        "        if self.isEmpty() == True:\n",
        "            return None\n",
        "        else:\n",
        "            return self.s[-1]\n",
        "\n",
        "    def isEmpty(self):\n",
        "        if len(self.s) == 0:\n",
        "            return True\n",
        "        else:\n",
        "            return False\n",
        "\n",
        "    def print(self):\n",
        "        print(self.s)"
      ],
      "execution_count": 0,
      "outputs": []
    },
    {
      "cell_type": "code",
      "metadata": {
        "id": "YwY4yqBMVl7y",
        "colab_type": "code",
        "colab": {
          "base_uri": "https://localhost:8080/",
          "height": 35
        },
        "outputId": "c214a281-6d0e-415e-f03d-fe481952aa2d"
      },
      "source": [
        "# Stack 응용문제: 문자열 reverse\n",
        "\n",
        "def reverse(a):\n",
        "    s = Stack()\n",
        "    rev = ''\n",
        "    for tmp in a:\n",
        "        s.push(tmp)\n",
        "\n",
        "    while s.isEmpty() == False:\n",
        "        rev += s.pop()\n",
        "    return rev\n",
        "\n",
        "a = 'choi_young_hyo'\n",
        "reverse(a)"
      ],
      "execution_count": 7,
      "outputs": [
        {
          "output_type": "execute_result",
          "data": {
            "text/plain": [
              "'oyh_gnuoy_iohc'"
            ]
          },
          "metadata": {
            "tags": []
          },
          "execution_count": 7
        }
      ]
    },
    {
      "cell_type": "code",
      "metadata": {
        "id": "skU5bkuKWEAp",
        "colab_type": "code",
        "colab": {}
      },
      "source": [
        ""
      ],
      "execution_count": 0,
      "outputs": []
    }
  ]
}