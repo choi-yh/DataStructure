{
  "nbformat": 4,
  "nbformat_minor": 0,
  "metadata": {
    "colab": {
      "name": "2_2_3_Polynomial3 (LinkedList)(HW).ipynb",
      "provenance": [],
      "collapsed_sections": [],
      "authorship_tag": "ABX9TyOwQuVQXsserlIFHIW3ghZS",
      "include_colab_link": true
    },
    "kernelspec": {
      "name": "python3",
      "display_name": "Python 3"
    }
  },
  "cells": [
    {
      "cell_type": "markdown",
      "metadata": {
        "id": "view-in-github",
        "colab_type": "text"
      },
      "source": [
        "<a href=\"https://colab.research.google.com/github/choi-yh/DataStructure/blob/master/2_2_3_Polynomial3_(LinkedList)(HW).ipynb\" target=\"_parent\"><img src=\"https://colab.research.google.com/assets/colab-badge.svg\" alt=\"Open In Colab\"/></a>"
      ]
    },
    {
      "cell_type": "markdown",
      "metadata": {
        "id": "v5Goy8h9kaJ2",
        "colab_type": "text"
      },
      "source": [
        "$p(x) = 4x^4 + 3x^2 + 3, \\ q(x) = 3x^3 + 4x^2 + 2x + 1$ 를 더하면  \n",
        "$p(x) + q(x) = 4x^4 + 3x^3 + 7x^2 + 2x + 4$ 가 된다.  \n",
        "\n",
        "이 연산을 수행하는 프로그램을 만들어보자 (LinkedList를 이용)"
      ]
    },
    {
      "cell_type": "markdown",
      "metadata": {
        "id": "pDtjOrzF1pqI",
        "colab_type": "text"
      },
      "source": [
        "insert / print  \n",
        "add (@classmethod)"
      ]
    },
    {
      "cell_type": "code",
      "metadata": {
        "id": "Hf2noz2qkftJ",
        "colab_type": "code",
        "colab": {}
      },
      "source": [
        "# Node 클래스: coef와 order, link를 받는다.\n",
        "class Node:\n",
        "    def __init__(self, coef=None, order=None, link=None):\n",
        "        self.coef = coef\n",
        "        self.order = order\n",
        "        self.link = link"
      ],
      "execution_count": 0,
      "outputs": []
    },
    {
      "cell_type": "code",
      "metadata": {
        "id": "cIaz4MrAiAd8",
        "colab_type": "code",
        "outputId": "f2e3ab5a-6275-45dd-a36d-c47ddd25cd9f",
        "colab": {
          "base_uri": "https://localhost:8080/",
          "height": 370
        }
      },
      "source": [
        "class PolyList:\n",
        "    def __init__(self):\n",
        "        self.root = None\n",
        "\n",
        "    def append(self, coef, order):\n",
        "        curNode = self.root\n",
        "        newNode = Node(coef, order)\n",
        "        if self.root == None:\n",
        "            self.root = newNode\n",
        "        else:\n",
        "            while curNode.link != None:\n",
        "                curNode = curNode.link\n",
        "            curNode.link = newNode\n",
        "\n",
        "    def insert(self, coef, order):\n",
        "        curNode = self.root\n",
        "        newNode = Node(coef, order)\n",
        "        if self.root == None:\n",
        "            self.root = newNode\n",
        "        else:\n",
        "            while curNode.order > newNode.order: # preNode 개념을 이용하여 order 계산을 하여 삽입한다.\n",
        "                preNode = curNode\n",
        "                curNode = curNode.link\n",
        "            preNode.link = newNode\n",
        "            newNode.link = curNode\n",
        "\n",
        "    def lastOrder(self):\n",
        "        curNode = self.root\n",
        "        while curNode.link != None:\n",
        "            curNode = curNode.link\n",
        "        return curNode.order\n",
        "\n",
        "    def size(self):\n",
        "        curNode = self.root\n",
        "        cnt = 1\n",
        "        while curNode.link != None:\n",
        "            curNode = curNode.link\n",
        "            cnt += 1\n",
        "        return cnt\n",
        "    \n",
        "    def print(self):\n",
        "        curNode = self.root\n",
        "        while curNode.link != None:\n",
        "            print(f'{curNode.coef}x^{curNode.order} + ', end='')\n",
        "            curNode = curNode.link\n",
        "        if curNode.order == 0:\n",
        "            print(f'{curNode.coef}')\n",
        "        else:\n",
        "            print(f'{curNode.coef}x^{curNode.order}')\n",
        "\n",
        "    @classmethod\n",
        "    def add(cls, p, q):\n",
        "        r = PolyList()\n",
        "        pNode = p.root\n",
        "        qNode = q.root\n",
        "        while (pNode.link == None) or (qNode.link == None):\n",
        "            if pNode.order > qNode.order:\n",
        "                r.append(pNode.coef, qNode.order)\n",
        "                pNode = pNode.link\n",
        "            elif pNode.order < qNode.order:\n",
        "                r.append(qNode.coef, qNode.order)\n",
        "                qNode = qNode.link\n",
        "            else:\n",
        "                r.append(pNode.coef + qNode.coef, pNode.order)\n",
        "                pNode = pNode.link\n",
        "                qNode = qNode.link\n",
        "\n",
        "        if pNode.link == None:\n",
        "            while True:\n",
        "                if pNode.order > qNode.order:\n",
        "                    r.append(pNode.coef, qNode.order)\n",
        "                elif pNode.order < qNode.order:\n",
        "                    r.append(qNode.coef, qNode.order)\n",
        "                    qNode = qNode.link\n",
        "                else:\n",
        "                    r.append(pNode.coef + qNode.coef, pNode.order)\n",
        "                    break\n",
        "            \n",
        "        elif \n",
        "\n",
        "        return r\n",
        "\n",
        "p = PolyList()\n",
        "p.append(4, 4)\n",
        "p.append(3, 2)\n",
        "# p.append(3, 0)\n",
        "p.print()\n",
        "\n",
        "q = PolyList()\n",
        "q.append(3, 3)\n",
        "q.append(4, 2)\n",
        "q.append(2, 1)\n",
        "q.append(1, 0)\n",
        "q.print()\n",
        "\n",
        "r = PolyList.add(p, q)\n",
        "r.print()"
      ],
      "execution_count": 0,
      "outputs": [
        {
          "output_type": "stream",
          "text": [
            "4x^4 + 3x^2\n",
            "3x^3 + 4x^2 + 2x^1 + 1\n"
          ],
          "name": "stdout"
        },
        {
          "output_type": "error",
          "ename": "AttributeError",
          "evalue": "ignored",
          "traceback": [
            "\u001b[0;31m---------------------------------------------------------------------------\u001b[0m",
            "\u001b[0;31mAttributeError\u001b[0m                            Traceback (most recent call last)",
            "\u001b[0;32m<ipython-input-2-201a7c2bb776>\u001b[0m in \u001b[0;36m<module>\u001b[0;34m()\u001b[0m\n\u001b[1;32m     71\u001b[0m \u001b[0;34m\u001b[0m\u001b[0m\n\u001b[1;32m     72\u001b[0m \u001b[0mr\u001b[0m \u001b[0;34m=\u001b[0m \u001b[0mPolyList\u001b[0m\u001b[0;34m.\u001b[0m\u001b[0madd\u001b[0m\u001b[0;34m(\u001b[0m\u001b[0mp\u001b[0m\u001b[0;34m,\u001b[0m \u001b[0mq\u001b[0m\u001b[0;34m)\u001b[0m\u001b[0;34m\u001b[0m\u001b[0;34m\u001b[0m\u001b[0m\n\u001b[0;32m---> 73\u001b[0;31m \u001b[0mr\u001b[0m\u001b[0;34m.\u001b[0m\u001b[0mprint\u001b[0m\u001b[0;34m(\u001b[0m\u001b[0;34m)\u001b[0m\u001b[0;34m\u001b[0m\u001b[0;34m\u001b[0m\u001b[0m\n\u001b[0m",
            "\u001b[0;32m<ipython-input-2-201a7c2bb776>\u001b[0m in \u001b[0;36mprint\u001b[0;34m(self)\u001b[0m\n\u001b[1;32m     41\u001b[0m     \u001b[0;32mdef\u001b[0m \u001b[0mprint\u001b[0m\u001b[0;34m(\u001b[0m\u001b[0mself\u001b[0m\u001b[0;34m)\u001b[0m\u001b[0;34m:\u001b[0m\u001b[0;34m\u001b[0m\u001b[0;34m\u001b[0m\u001b[0m\n\u001b[1;32m     42\u001b[0m         \u001b[0mcurNode\u001b[0m \u001b[0;34m=\u001b[0m \u001b[0mself\u001b[0m\u001b[0;34m.\u001b[0m\u001b[0mroot\u001b[0m\u001b[0;34m\u001b[0m\u001b[0;34m\u001b[0m\u001b[0m\n\u001b[0;32m---> 43\u001b[0;31m         \u001b[0;32mwhile\u001b[0m \u001b[0mcurNode\u001b[0m\u001b[0;34m.\u001b[0m\u001b[0mlink\u001b[0m \u001b[0;34m!=\u001b[0m \u001b[0;32mNone\u001b[0m\u001b[0;34m:\u001b[0m\u001b[0;34m\u001b[0m\u001b[0;34m\u001b[0m\u001b[0m\n\u001b[0m\u001b[1;32m     44\u001b[0m             \u001b[0mprint\u001b[0m\u001b[0;34m(\u001b[0m\u001b[0;34mf'{curNode.coef}x^{curNode.order} + '\u001b[0m\u001b[0;34m,\u001b[0m \u001b[0mend\u001b[0m\u001b[0;34m=\u001b[0m\u001b[0;34m''\u001b[0m\u001b[0;34m)\u001b[0m\u001b[0;34m\u001b[0m\u001b[0;34m\u001b[0m\u001b[0m\n\u001b[1;32m     45\u001b[0m             \u001b[0mcurNode\u001b[0m \u001b[0;34m=\u001b[0m \u001b[0mcurNode\u001b[0m\u001b[0;34m.\u001b[0m\u001b[0mlink\u001b[0m\u001b[0;34m\u001b[0m\u001b[0;34m\u001b[0m\u001b[0m\n",
            "\u001b[0;31mAttributeError\u001b[0m: 'NoneType' object has no attribute 'link'"
          ]
        }
      ]
    },
    {
      "cell_type": "code",
      "metadata": {
        "id": "n4Nr3ipk-A9n",
        "colab_type": "code",
        "colab": {}
      },
      "source": [
        "while pNode.link != None:\n",
        "        if pNode.order > qNode.order:\n",
        "            r.append(pNode.coef, pNode.order)\n",
        "            pNode = pNode.link\n",
        "        elif pNode.order < qNode.order:\n",
        "            r.append(qNode.coef, qNode.order)\n",
        "            qNode = qNode.link\n",
        "        else:\n",
        "            r.append(pNode.coef + qNode.coef, pNode.order)\n",
        "            pNode = pNode.link\n",
        "            qNode = qNode.link\n",
        "        \n",
        "        if qNode.link == None:\n",
        "            r.append(pNode.coef, pNode.order)\n",
        "            pNode = pNode.link\n",
        "    r.append(pNode.coef, pNode.order)\n",
        "    if qNode.link != None:\n",
        "        \n",
        "\n",
        "            \n",
        "    while (pNode.link != None) or (qNode.link != None):\n",
        "        # 마지막 노드 전까지의 계산\n",
        "        if pNode.order > qNode.order:\n",
        "            r.append(pNode.coef, pNode.order)\n",
        "            pNode = pNode.link\n",
        "        elif pNode.order < qNode.order:\n",
        "            r.append(qNode.coef, qNode.order)\n",
        "            qNode = qNode.link\n",
        "        else:\n",
        "            r.append(pNode.coef + qNode.coef, pNode.order)\n",
        "            pNode = pNode.link\n",
        "            qNode = qNode.link\n",
        "    \n",
        "    if pNode.link == None:\n",
        "        while qNode.link != None:\n",
        "            if pNode.order == qNode.order:\n",
        "                r.append(pNode.coef + qNode.coef, pNode.order)\n",
        "            else:\n",
        "                r.append(qNode.coef, qNode.order)\n",
        "                qNode = qNode.link\n",
        "        if pNode.order == qNode.order:\n",
        "            r.append(pNode.coef + qNode.coef, pNode.order)\n",
        "        else:\n",
        "            r.append(qNode.coef, qNode.order)\n",
        "    elif qNode.link == None:\n",
        "        while pNode.link != None:\n",
        "            if pNode.order == qNode.order:\n",
        "                r.append(pNode.coef + qNode.coef, pNode.order)\n",
        "            else:\n",
        "                r.append(pNode.coef, pNode.order)\n",
        "                pNode = pNode.link\n",
        "        if pNode.order == qNode.order:\n",
        "            r.append(pNode.coef + qNode.coef, pNode.order)\n",
        "        else:\n",
        "            r.append(pNode.coef, pNode.order)\n",
        "\n",
        "    # 각 다항식의 마지막 차수의 수 계산\n",
        "    if pNode.order > qNode.order:\n",
        "        r.append(pNode.coef, pNode.order)\n",
        "        r.append(qNode.coef, qNode.order)\n",
        "    elif pNode.order < qNode.order:\n",
        "        r.append(qNode.coef, qNode.order)\n",
        "        r.append(pNode.coef, pNode.order)\n",
        "    else:\n",
        "        r.append(pNode.coef + qNode.coef, pNode.order)"
      ],
      "execution_count": 0,
      "outputs": []
    },
    {
      "cell_type": "code",
      "metadata": {
        "id": "sp9Z0ps3ZF0n",
        "colab_type": "code",
        "colab": {}
      },
      "source": [
        ""
      ],
      "execution_count": 0,
      "outputs": []
    }
  ]
}