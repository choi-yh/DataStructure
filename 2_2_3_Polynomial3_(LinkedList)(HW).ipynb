{
  "nbformat": 4,
  "nbformat_minor": 0,
  "metadata": {
    "colab": {
      "name": "2_2_3_Polynomial3 (LinkedList)(HW).ipynb",
      "provenance": [],
      "collapsed_sections": [],
      "authorship_tag": "ABX9TyPgDvr8W3HHFOBDPqj0t/XS",
      "include_colab_link": true
    },
    "kernelspec": {
      "name": "python3",
      "display_name": "Python 3"
    }
  },
  "cells": [
    {
      "cell_type": "markdown",
      "metadata": {
        "id": "view-in-github",
        "colab_type": "text"
      },
      "source": [
        "<a href=\"https://colab.research.google.com/github/choi-yh/DataStructure/blob/master/2_2_3_Polynomial3_(LinkedList)(HW).ipynb\" target=\"_parent\"><img src=\"https://colab.research.google.com/assets/colab-badge.svg\" alt=\"Open In Colab\"/></a>"
      ]
    },
    {
      "cell_type": "markdown",
      "metadata": {
        "id": "v5Goy8h9kaJ2",
        "colab_type": "text"
      },
      "source": [
        "$p(x) = 4x^4 + 3x^2 + 3, \\ q(x) = 3x^3 + 4x^2 + 2x + 1$ 를 더하면  \n",
        "$p(x) + q(x) = 4x^4 + 3x^3 + 7x^2 + 2x + 4$ 가 된다.  \n",
        "\n",
        "이 연산을 수행하는 프로그램을 만들어보자 (LinkedList를 이용)"
      ]
    },
    {
      "cell_type": "markdown",
      "metadata": {
        "id": "pDtjOrzF1pqI",
        "colab_type": "text"
      },
      "source": [
        "insert / print  \n",
        "add (@classmethod)"
      ]
    },
    {
      "cell_type": "code",
      "metadata": {
        "id": "cIaz4MrAiAd8",
        "colab_type": "code",
        "outputId": "9ea0a63b-2047-40bf-b668-f7ed2c8b0bdc",
        "colab": {
          "base_uri": "https://localhost:8080/",
          "height": 70
        }
      },
      "source": [
        "# Node 클래스: coef와 order, link를 받는다.\n",
        "class Node:\n",
        "    def __init__(self, coef=None, order=None, link=None):\n",
        "        self.coef = coef\n",
        "        self.order = order\n",
        "        self.link = link\n",
        "\n",
        "class PolyList:\n",
        "    def __init__(self):\n",
        "        self.root = None\n",
        "\n",
        "    def append(self, coef, order):\n",
        "        curNode = self.root\n",
        "        newNode = Node(coef, order)\n",
        "        if self.root == None:\n",
        "            self.root = newNode\n",
        "        else:\n",
        "            while curNode.link != None:\n",
        "                curNode = curNode.link\n",
        "            curNode.link = newNode\n",
        "\n",
        "    def insert(self, coef, order):\n",
        "        curNode = self.root\n",
        "        newNode = Node(coef, order)\n",
        "        if self.root == None:\n",
        "            self.root = newNode\n",
        "        else:\n",
        "            while curNode.order > newNode.order: # preNode 개념을 이용하여 order 계산을 하여 삽입한다.\n",
        "                preNode = curNode\n",
        "                curNode = curNode.link\n",
        "            preNode.link = newNode\n",
        "            newNode.link = curNode\n",
        "\n",
        "    def lastOrder(self):\n",
        "        curNode = self.root\n",
        "        while curNode.link != None:\n",
        "            curNode = curNode.link\n",
        "        return curNode.order\n",
        "\n",
        "    def size(self):\n",
        "        curNode = self.root\n",
        "        if curNode == None:\n",
        "            return 0\n",
        "        else:\n",
        "            cnt = 1\n",
        "            while curNode.link != None:\n",
        "                curNode = curNode.link\n",
        "                cnt += 1\n",
        "            return cnt\n",
        "    \n",
        "    def print(self):\n",
        "        curNode = self.root\n",
        "        while curNode.link != None:\n",
        "            print(f'{curNode.coef}x^{curNode.order} + ', end='')\n",
        "            curNode = curNode.link\n",
        "        if curNode.order == 0:\n",
        "            print(f'{curNode.coef}')\n",
        "        else:\n",
        "            print(f'{curNode.coef}x^{curNode.order}')\n",
        "\n",
        "    @classmethod\n",
        "    def add(cls, p, q):\n",
        "        r = PolyList()\n",
        "        pNode = p.root\n",
        "        qNode = q.root\n",
        "        while (p.size() > 0) and (q.size() > 0): # 사이즈를 이용한다.\n",
        "            if pNode.order > qNode.order:\n",
        "                r.append(pNode.coef, pNode.order)\n",
        "                pNode = pNode.link\n",
        "                p.root = pNode # root를 지워주는 개념\n",
        "            elif pNode.order < qNode.order:\n",
        "                r.append(qNode.coef, qNode.order)\n",
        "                qNode = qNode.link\n",
        "                q.root = qNode\n",
        "            else:\n",
        "                r.append(pNode.coef + qNode.coef, pNode.order)\n",
        "                pNode = pNode.link\n",
        "                qNode = qNode.link\n",
        "                p.root = pNode\n",
        "                q.root = qNode\n",
        "\n",
        "        if p.size() == 0:\n",
        "            while q.size() > 0:\n",
        "                r.append(qNode.coef, qNode.order)\n",
        "                qNode = qNode.link\n",
        "                q.root = qNode\n",
        "        else:\n",
        "            while p.size() > 0:\n",
        "                r.append(pNode.coef, pNode.order)\n",
        "                qNode = qNode.link\n",
        "        return r\n",
        "\n",
        "p = PolyList()\n",
        "p.append(4, 4)\n",
        "p.append(3, 2)\n",
        "p.append(3, 0)\n",
        "p.print()\n",
        "\n",
        "q = PolyList()\n",
        "q.append(3, 3)\n",
        "q.append(4, 2)\n",
        "q.append(2, 1)\n",
        "q.append(1, 0)\n",
        "q.print()\n",
        "\n",
        "r = PolyList.add(p, q)\n",
        "r.print()"
      ],
      "execution_count": 0,
      "outputs": [
        {
          "output_type": "stream",
          "text": [
            "4x^4 + 3x^2 + 3\n",
            "3x^3 + 4x^2 + 2x^1 + 1\n",
            "4x^4 + 3x^3 + 7x^2 + 2x^1 + 4\n"
          ],
          "name": "stdout"
        }
      ]
    },
    {
      "cell_type": "code",
      "metadata": {
        "id": "TGG4l5W_n1T3",
        "colab_type": "code",
        "colab": {}
      },
      "source": [
        ""
      ],
      "execution_count": 0,
      "outputs": []
    }
  ]
}