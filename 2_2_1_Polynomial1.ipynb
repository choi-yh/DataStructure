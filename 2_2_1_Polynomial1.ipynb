{
  "nbformat": 4,
  "nbformat_minor": 0,
  "metadata": {
    "colab": {
      "name": "2_2_1_Polynomial1.ipynb",
      "provenance": [],
      "collapsed_sections": [],
      "authorship_tag": "ABX9TyM+4eDBw8lGJz5rV0ihWr0y",
      "include_colab_link": true
    },
    "kernelspec": {
      "name": "python3",
      "display_name": "Python 3"
    }
  },
  "cells": [
    {
      "cell_type": "markdown",
      "metadata": {
        "id": "view-in-github",
        "colab_type": "text"
      },
      "source": [
        "<a href=\"https://colab.research.google.com/github/choi-yh/DataStructure/blob/master/2_2_1_Polynomial1.ipynb\" target=\"_parent\"><img src=\"https://colab.research.google.com/assets/colab-badge.svg\" alt=\"Open In Colab\"/></a>"
      ]
    },
    {
      "cell_type": "markdown",
      "metadata": {
        "id": "TzqCcgAqDhLb",
        "colab_type": "text"
      },
      "source": [
        "$p(x) = 4x^4 + 3x^2 + 3, \\ q(x) = 3x^3 + 4x^2 + 2x + 1$ 를 더하면  \n",
        "$p(x) + q(x) = 4x^4 + 3x^3 + 7x^2 + 2x + 4$ 가 된다.  \n",
        "\n",
        "이 연산을 수행하는 프로그램을 만들어보자"
      ]
    },
    {
      "cell_type": "markdown",
      "metadata": {
        "id": "f06909aOF3d2",
        "colab_type": "text"
      },
      "source": [
        "#### method 1  \n"
      ]
    },
    {
      "cell_type": "markdown",
      "metadata": {
        "id": "usJWyOz1GifK",
        "colab_type": "text"
      },
      "source": [
        "k차 다항식의 계수를 1차원 배열에 저장하는 방법  \n",
        "($x^{1000} + 2x^2 +1$ 같은 다항식의 경우 메모리 소모가 증가한다.)"
      ]
    },
    {
      "cell_type": "code",
      "metadata": {
        "id": "p0SOwrLkGrIr",
        "colab_type": "code",
        "colab": {
          "base_uri": "https://localhost:8080/",
          "height": 71
        },
        "outputId": "91e308a7-73a4-435f-f462-5906461af67b"
      },
      "source": [
        "class Poly1:\n",
        "    def __init__(self, maxOrder):\n",
        "        self.coef = [0] * (maxOrder+1)\n",
        "        self.maxOrder = maxOrder\n",
        "\n",
        "    def setCoef(self, coef, order):\n",
        "        self.coef[order] = coef\n",
        "\n",
        "    def print(self):\n",
        "        for i in range(self.maxOrder, 0, -1):\n",
        "            if self.coef[i] != 0:\n",
        "                print(f'{self.coef[i]}x^{i} + ', end='')\n",
        "        print(self.coef[0])\n",
        "\n",
        "    # 차수를 비교해서 낮은 쪽까지는 같은 차수끼리 더해서 계산, 나머지는 그대로 추가\n",
        "    @classmethod\n",
        "    def add(cls, p, q):\n",
        "        if p.maxOrder >= q.maxOrder:\n",
        "            r = Poly1(p.maxOrder)\n",
        "            for i in range(q.maxOrder+1):\n",
        "                r.coef[i] = p.coef[i] + q.coef[i]\n",
        "            for j in  range(q.maxOrder+1, p.maxOrder+1):\n",
        "                r.coef[j] = p.coef[j]\n",
        "        else:\n",
        "            r = Poly1(q.maxOrder)\n",
        "            for i in range(p.maxOrder+1):\n",
        "                r.coef[i] = p.coef[i] + q.coef[i]\n",
        "            for j in  range(p.maxOrder+1, q.maxOrder+1):\n",
        "                r.coef[j] = q.coef[j]\n",
        "        return r\n",
        "\n",
        "\n",
        "p = Poly1(4)\n",
        "p.setCoef(4, 4)\n",
        "p.setCoef(3, 2)\n",
        "p.setCoef(3, 0)\n",
        "p.print()\n",
        "\n",
        "q = Poly1(3)\n",
        "q.setCoef(3, 3)\n",
        "q.setCoef(4, 2)\n",
        "q.setCoef(2, 1)\n",
        "q.setCoef(1, 0)\n",
        "q.print()\n",
        "\n",
        "r = Poly1.add(p, q)\n",
        "r.print()"
      ],
      "execution_count": 18,
      "outputs": [
        {
          "output_type": "stream",
          "text": [
            "4x^4 + 3x^2 + 3\n",
            "3x^3 + 4x^2 + 2x^1 + 1\n",
            "4x^4 + 3x^3 + 7x^2 + 2x^1 + 4\n"
          ],
          "name": "stdout"
        }
      ]
    },
    {
      "cell_type": "code",
      "metadata": {
        "id": "xDjMuCIRTrdH",
        "colab_type": "code",
        "colab": {}
      },
      "source": [
        ""
      ],
      "execution_count": 0,
      "outputs": []
    }
  ]
}