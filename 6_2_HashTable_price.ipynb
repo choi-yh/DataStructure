{
  "nbformat": 4,
  "nbformat_minor": 0,
  "metadata": {
    "colab": {
      "name": "6_2_HashTable_price.ipynb",
      "provenance": [],
      "collapsed_sections": [],
      "authorship_tag": "ABX9TyPOdMgClZqyb6CM112OxI3F",
      "include_colab_link": true
    },
    "kernelspec": {
      "name": "python3",
      "display_name": "Python 3"
    }
  },
  "cells": [
    {
      "cell_type": "markdown",
      "metadata": {
        "id": "view-in-github",
        "colab_type": "text"
      },
      "source": [
        "<a href=\"https://colab.research.google.com/github/choi-yh/DataStructure/blob/master/6_2_HashTable_price.ipynb\" target=\"_parent\"><img src=\"https://colab.research.google.com/assets/colab-badge.svg\" alt=\"Open In Colab\"/></a>"
      ]
    },
    {
      "cell_type": "code",
      "metadata": {
        "id": "ozUcpHTmKtSc",
        "colab_type": "code",
        "colab": {}
      },
      "source": [
        "class Node:\n",
        "    def __init__(self, key=None, value=None):\n",
        "        self.key = key\n",
        "        self.value = value\n",
        "        self.link = None\n",
        "\n",
        "class LinkedList:\n",
        "    def __init__(self):\n",
        "        self.root = Node()\n",
        "        self.cnt = 0\n",
        "\n",
        "    def append(self, key, value):\n",
        "        newNode = Node(key, value)\n",
        "        curNode = self.root\n",
        "        if curNode.key == None:\n",
        "            self.root = newNode\n",
        "            self.cnt += 1\n",
        "        else:\n",
        "            while curNode.link != None:\n",
        "                self.cnt += 1\n",
        "                curNode = curNode.link\n",
        "            curNode.link = newNode\n",
        "        return self.cnt\n",
        "    \n",
        "    def get(self, key):\n",
        "        cnt = 0\n",
        "        curNode = self.root\n",
        "        if curNode.key == key:\n",
        "            return curNode.value, cnt\n",
        "        else:\n",
        "            while curNode.link != None:\n",
        "                curNode = curNode.link\n",
        "                cnt += 1\n",
        "                if curNode.key == key:\n",
        "                    return curNode.value, cnt\n",
        "            return None"
      ],
      "execution_count": 0,
      "outputs": []
    },
    {
      "cell_type": "code",
      "metadata": {
        "id": "bA9oAu2AK1Bl",
        "colab_type": "code",
        "colab": {}
      },
      "source": [
        "class ChainHash:\n",
        "    def __init__(self, k):\n",
        "        # 데이터 수의 3배를 기준으로 소수 리턴\n",
        "        self.m = self._getPrime(3 * k)\n",
        "        self.h = [None] * self.m\n",
        "\n",
        "    def _getPrime(self, n):\n",
        "        # 1 ~ n 사이의 소수를 구하고 가장 큰 두 개의 소수를 리턴한다.\n",
        "        import numpy as np\n",
        "        is_prime = np.array(list(range(n+1)))\n",
        "        N_max = int(np.sqrt(len(is_prime) - 1)) # looping 2 to sqrt(n)\n",
        "\n",
        "        for j in range(2, N_max + 1):\n",
        "            is_prime[2*j::j] = 0\n",
        "        is_prime = np.setdiff1d(is_prime, np.array([0, 1])) # Find the set difference of two arrays.\n",
        "        return is_prime[-1]\n",
        "\n",
        "    def insert(self, key, item):\n",
        "        idx = key % self.m\n",
        "        if self.h[idx] == None:\n",
        "            self.h[idx] = LinkedList()\n",
        "            self.h[idx].append(key, item)\n",
        "        else:\n",
        "            print(key, '충돌')\n",
        "            curNode = self.h[idx].root\n",
        "            while curNode.link != None:\n",
        "                curNode = curNode.link\n",
        "            curNode.link = Node(key, item)\n",
        "\n",
        "    def get(self, key):\n",
        "        idx = key % self.m\n",
        "        xList = self.h[idx]\n",
        "        return xList.get(key)"
      ],
      "execution_count": 0,
      "outputs": []
    },
    {
      "cell_type": "code",
      "metadata": {
        "id": "uMRBsK-GK17x",
        "colab_type": "code",
        "colab": {
          "base_uri": "https://localhost:8080/",
          "height": 127
        },
        "outputId": "29fc3ad0-3735-44b3-ab81-ef5bacbb3b9b"
      },
      "source": [
        "from google.colab import drive\n",
        "drive.mount('/gdrive')"
      ],
      "execution_count": 3,
      "outputs": [
        {
          "output_type": "stream",
          "text": [
            "Go to this URL in a browser: https://accounts.google.com/o/oauth2/auth?client_id=947318989803-6bn6qk8qdgf4n4g3pfee6491hc0brc4i.apps.googleusercontent.com&redirect_uri=urn%3aietf%3awg%3aoauth%3a2.0%3aoob&response_type=code&scope=email%20https%3a%2f%2fwww.googleapis.com%2fauth%2fdocs.test%20https%3a%2f%2fwww.googleapis.com%2fauth%2fdrive%20https%3a%2f%2fwww.googleapis.com%2fauth%2fdrive.photos.readonly%20https%3a%2f%2fwww.googleapis.com%2fauth%2fpeopleapi.readonly\n",
            "\n",
            "Enter your authorization code:\n",
            "··········\n",
            "Mounted at /gdrive\n"
          ],
          "name": "stdout"
        }
      ]
    },
    {
      "cell_type": "code",
      "metadata": {
        "id": "3lWDpVU1K62B",
        "colab_type": "code",
        "colab": {
          "base_uri": "https://localhost:8080/",
          "height": 1000
        },
        "outputId": "8c22b28f-53d2-41d8-94f8-a9505d1db117"
      },
      "source": [
        "!cat /gdrive/My\\ Drive/Python/DataStructure/data/price.csv"
      ],
      "execution_count": 5,
      "outputs": [
        {
          "output_type": "stream",
          "text": [
            "칠성사이다(Pet)(1.5ℓ)-롯데, 1880 \r\n",
            "코카콜라(Pet)(1.5ℓ)-코카콜라, 2480 \r\n",
            "펩시콜라(Pet)(1.5ℓ)-펩시, 2180 \r\n",
            "포카리스웨트(Pet)(1.5ℓ)-포카, 1980 \r\n",
            "게토레이(Pet)(1.5ℓ)-게토, 2580 \r\n",
            "환타(Pet)(1.5ℓ)-환타, 2180 \r\n",
            "2%복숭아(Pet)(1.5ℓ)-2%, 1680 \r\n",
            "아이시스(2.0ℓ)-아이시스, 630 \r\n",
            "삼다수(2.0ℓ)-삼다수, 980 \r\n",
            "처음처렁 병소주(360㎖)-처음처럼, 1190 \r\n",
            "참이슬 병소주(360㎖)-참이슬, 1190 \r\n",
            "카스캔맥주(355㎖)-카스, 1370 \r\n",
            "카스병맥주(500㎖)-카스, 1410 \r\n",
            "불가리스(사과)(150g x4)-불가리스, 4980 \r\n",
            "서울우유(1.0ℓ)-서울우유, 2570 \r\n",
            "아인슈타인(900㎖)-남양, 2850 \r\n",
            "신라면(봉지)(120g)-농심, 676 \r\n",
            "삼양라면(봉지)(120g)-삼양, 656 \r\n",
            "진라면(봉지)(120g)-오뚜기, 550 \r\n",
            "안성탕면(봉지)(125g)-농심, 494 \r\n",
            "신라면 큰사발(114g)-농심, 950 \r\n",
            "짜파게티(봉지)(125g)-농심, 770 \r\n",
            "동원참치 살코기(150g)-동원, 2560 \r\n",
            "오뚜기참치 살코기(150g)-오뚜기, 2600 \r\n",
            "골드 고소한 마요네즈(500g), 3780 \r\n",
            "청정원고소한마요네즈(500g), 3965 \r\n",
            "오뚜기 케찹(500g)-오뚜기, 2180 \r\n",
            "옛날당면(500g)-옛날 당면, 5055 \r\n",
            "옛날국수(소면)(900g)-옛날국수, 1980 \r\n",
            "청정원돼지갈비양념(560g)-청정원, 3280 \r\n",
            "청정원소갈비양념(560g)-청정원, 3280 \r\n",
            "백설돼지갈비양념(480g)-백설, 3400 \r\n",
            "백설소갈비양념(480g)-백설, 3400 \r\n",
            "백설밀가루(중력분)(1kg)-백설, 1780 \r\n",
            "곰표밀가루(중력)(1kg)-곰표, 1280 \r\n",
            "백설옥수수유(1.8ℓ)-백설, 4980 \r\n",
            "오뚜기고소한참기름(병)(320㎖)-오뚜기, 7250 \r\n",
            "청정원사과식초(500㎖)-청정원, 1250 \r\n",
            "오뚜기사과식초(500㎖)-오뚜기, 1150 \r\n",
            "백설하얀설탕(1kg)-백설, 1680 \r\n",
            "청정원햇살담은진간장(930mℓ)-청정원, 4985 \r\n",
            "샘표진간장금F-3(930㎖)-샘표, 5480 \r\n",
            "순창찰고추장(500g)-순창, 8300 \r\n",
            "순창쌈장(500g)-순창, 3900 \r\n",
            "해찬들태양초고추장(500g)-해찬들, 8500 \r\n",
            "해찬들사계절쌈장(500g)-해찬들, 3900 \r\n",
            "미원맛소금(500g)-미원, 1440 \r\n",
            "백설맛소금(500g)-백설, 4050 \r\n",
            "버섯감치미(300g)-버섯감치미, 4600 \r\n",
            "미원(500g)-미원, 7650 \r\n",
            "옛날물엿(1.2kg)-옛날물엿, 3250 \r\n",
            "백설요리당(1.2kg)-백설, 3250 \r\n",
            "애경트리오(1kg)-애경, 5690 \r\n",
            "LG자연퐁(1kg)-LG, 11800 \r\n",
            "페브리지(리필)(320㎖)-페브리지 플러스 리필, 4900 \r\n",
            "드봉(4EA)-드봉(비누), 3450 \r\n",
            "오이(4EA)-오이(비누), 4250 \r\n",
            "도브(4EA)-도브(비누), 6350 \r\n"
          ],
          "name": "stdout"
        }
      ]
    },
    {
      "cell_type": "code",
      "metadata": {
        "id": "rBNsvplqLDjW",
        "colab_type": "code",
        "colab": {
          "base_uri": "https://localhost:8080/",
          "height": 35
        },
        "outputId": "bbdb948b-e5fb-48d4-b053-b5e0742d08d4"
      },
      "source": [
        "import csv\n",
        "\n",
        "with open('/gdrive/My Drive/Python/DataStructure/data/price.csv', 'r') as f:\n",
        "    reader = csv.reader(f)\n",
        "    prices = list(reader)\n",
        "\n",
        "len(prices)"
      ],
      "execution_count": 7,
      "outputs": [
        {
          "output_type": "execute_result",
          "data": {
            "text/plain": [
              "58"
            ]
          },
          "metadata": {
            "tags": []
          },
          "execution_count": 7
        }
      ]
    },
    {
      "cell_type": "code",
      "metadata": {
        "id": "jgvT6zcOLOPB",
        "colab_type": "code",
        "colab": {
          "base_uri": "https://localhost:8080/",
          "height": 35
        },
        "outputId": "c4e57fb0-018a-40f7-9516-6868f78a21e7"
      },
      "source": [
        "s = 'The quick brown fox jumps over the lazy dog.'.encode('utf-8')\n",
        "s1 = s.hex()\n",
        "s2 = int(s1,16)\n",
        "s2"
      ],
      "execution_count": 8,
      "outputs": [
        {
          "output_type": "execute_result",
          "data": {
            "text/plain": [
              "3024830571690175283291907639196436031967763819210983988162282536502237781693262640684650930677706176554798"
            ]
          },
          "metadata": {
            "tags": []
          },
          "execution_count": 8
        }
      ]
    },
    {
      "cell_type": "code",
      "metadata": {
        "id": "p-C3eoR2LRcu",
        "colab_type": "code",
        "colab": {
          "base_uri": "https://localhost:8080/",
          "height": 35
        },
        "outputId": "de571dba-2647-4910-cd9a-15b709429dfc"
      },
      "source": [
        "def str2int(x):\n",
        "    x = x.encode('utf-8')\n",
        "    _x = x.hex()\n",
        "    return int(_x,16)\n",
        "\n",
        "str2int(\"칠성사이다(Pet)(1.5ℓ)-롯데\")"
      ],
      "execution_count": 9,
      "outputs": [
        {
          "output_type": "execute_result",
          "data": {
            "text/plain": [
              "1796400432081435316474551643708220549524396647996648748699494543518233003060827491760"
            ]
          },
          "metadata": {
            "tags": []
          },
          "execution_count": 9
        }
      ]
    },
    {
      "cell_type": "code",
      "metadata": {
        "id": "fTas4hIfLUla",
        "colab_type": "code",
        "colab": {
          "base_uri": "https://localhost:8080/",
          "height": 143
        },
        "outputId": "105af749-3525-4217-ee9a-c6e0207ad547"
      },
      "source": [
        "h = ChainHash(len(prices))\n",
        "for price in prices:\n",
        "    h.insert(str2int(price[0]), price[1])"
      ],
      "execution_count": 11,
      "outputs": [
        {
          "output_type": "stream",
          "text": [
            "117711596824963718725609513901202180359825121613189962127099920623409418718344809676573356 충돌\n",
            "27402746573365250027311011804803522014880720641814578354952221844196906956000172 충돌\n",
            "505366557958173239860737621184768286996728096664031840517498364020821702792149828568073029508839600 충돌\n",
            "1781047327860417989109367406068594176928077286478511713743739152601913524237353456028 충돌\n",
            "7711281707125446164867210995894284277331940051155914023505977975541610531394509177626668218544 충돌\n",
            "5255982698153804804984763472694215965577878416 충돌\n",
            "378531325157180988205964751119543710391291062680015807814599721 충돌\n"
          ],
          "name": "stdout"
        }
      ]
    },
    {
      "cell_type": "code",
      "metadata": {
        "id": "g3YfeghyLfnf",
        "colab_type": "code",
        "colab": {
          "base_uri": "https://localhost:8080/",
          "height": 1000
        },
        "outputId": "b8da03fc-57cc-431e-88a5-fe6f1034e9e1"
      },
      "source": [
        "for price in prices:\n",
        "    print(h.get(str2int(price[0])))"
      ],
      "execution_count": 12,
      "outputs": [
        {
          "output_type": "stream",
          "text": [
            "(' 1880 ', 0)\n",
            "(' 2480 ', 0)\n",
            "(' 2180 ', 0)\n",
            "(' 1980 ', 0)\n",
            "(' 2580 ', 0)\n",
            "(' 2180 ', 0)\n",
            "(' 1680 ', 0)\n",
            "(' 630 ', 0)\n",
            "(' 980 ', 0)\n",
            "(' 1190 ', 0)\n",
            "(' 1190 ', 1)\n",
            "(' 1370 ', 0)\n",
            "(' 1410 ', 0)\n",
            "(' 4980 ', 0)\n",
            "(' 2570 ', 0)\n",
            "(' 2850 ', 0)\n",
            "(' 676 ', 0)\n",
            "(' 656 ', 0)\n",
            "(' 550 ', 0)\n",
            "(' 494 ', 0)\n",
            "(' 950 ', 0)\n",
            "(' 770 ', 1)\n",
            "(' 2560 ', 0)\n",
            "(' 2600 ', 1)\n",
            "(' 3780 ', 0)\n",
            "(' 3965 ', 0)\n",
            "(' 2180 ', 0)\n",
            "(' 5055 ', 0)\n",
            "(' 1980 ', 0)\n",
            "(' 3280 ', 0)\n",
            "(' 3280 ', 0)\n",
            "(' 3400 ', 0)\n",
            "(' 3400 ', 0)\n",
            "(' 1780 ', 0)\n",
            "(' 1280 ', 2)\n",
            "(' 4980 ', 0)\n",
            "(' 7250 ', 0)\n",
            "(' 1250 ', 0)\n",
            "(' 1150 ', 1)\n",
            "(' 1680 ', 0)\n",
            "(' 4985 ', 0)\n",
            "(' 5480 ', 0)\n",
            "(' 8300 ', 0)\n",
            "(' 3900 ', 0)\n",
            "(' 8500 ', 0)\n",
            "(' 3900 ', 0)\n",
            "(' 1440 ', 0)\n",
            "(' 4050 ', 0)\n",
            "(' 4600 ', 0)\n",
            "(' 7650 ', 1)\n",
            "(' 3250 ', 0)\n",
            "(' 3250 ', 0)\n",
            "(' 5690 ', 0)\n",
            "(' 11800 ', 0)\n",
            "(' 4900 ', 0)\n",
            "(' 3450 ', 0)\n",
            "(' 4250 ', 0)\n",
            "(' 6350 ', 2)\n"
          ],
          "name": "stdout"
        }
      ]
    },
    {
      "cell_type": "code",
      "metadata": {
        "id": "jKLCTBefLlbS",
        "colab_type": "code",
        "colab": {}
      },
      "source": [
        ""
      ],
      "execution_count": 0,
      "outputs": []
    }
  ]
}