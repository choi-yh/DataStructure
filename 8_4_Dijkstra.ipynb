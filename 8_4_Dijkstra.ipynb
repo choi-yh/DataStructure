{
  "nbformat": 4,
  "nbformat_minor": 0,
  "metadata": {
    "colab": {
      "name": "8_4_Dijkstra.ipynb",
      "provenance": [],
      "collapsed_sections": [],
      "authorship_tag": "ABX9TyNuo3kiPQN0DBjDVqjKldd4",
      "include_colab_link": true
    },
    "kernelspec": {
      "name": "python3",
      "display_name": "Python 3"
    }
  },
  "cells": [
    {
      "cell_type": "markdown",
      "metadata": {
        "id": "view-in-github",
        "colab_type": "text"
      },
      "source": [
        "<a href=\"https://colab.research.google.com/github/choi-yh/DataStructure/blob/master/8_4_Dijkstra.ipynb\" target=\"_parent\"><img src=\"https://colab.research.google.com/assets/colab-badge.svg\" alt=\"Open In Colab\"/></a>"
      ]
    },
    {
      "cell_type": "markdown",
      "metadata": {
        "id": "xJkwOx6Ciusl",
        "colab_type": "text"
      },
      "source": [
        "* BFS를 사용해 최소 거리 경로를 찾을 수 있다.\n",
        "* 다익스트라 알고리즘은 최소 Cost를 가지는 경로를 찾을 수 있는 알고리즘이다.\n",
        "* Cost: 시간, 신호등 수, 주변 경관 등 점수화한 지표  \n",
        "ex) 시간이 오래 걸리거나 신호등이 많거나 차선이 좁으면 상승하는 Cost Function을 만들 수 있다면 Cost Function을 최소화하는 경로를 찾을 수 있다는 의미\n",
        "* 이를 이용하면 네비게이션 알고리즘에서 최단 경로, 최소 시간, 최소 비용, 최적 경로라는 이름으로 경로를 탐색하고 사용자는 이 중 적절한 경로를 선택하도록 하는 것이 가능하다.  \n",
        "* 다익스트라 알고리즘은 현재 노드를 통해 연결된 노드로 가는 것과 다른 경로를 통해 가는 Cost를 비교하여 더 작은 Cost가 있을 경우, 업데이트 하는 방법\n",
        "* 아래의 그림에서 A로 가는 방법은 Start에서 A로 가는 방법과 Start -> B -> A 의 방법이 있고 이 중 후자가 더 빠르다.\n",
        "\n",
        "<center><img src=\"https://drive.google.com/uc?id=17-N_4cqBA_H9BKKVgTeZDuhCgwVKSH8s\" width=\"300\" height=\"150\" ></center>"
      ]
    },
    {
      "cell_type": "code",
      "metadata": {
        "id": "sWSkKu81jiCd",
        "colab_type": "code",
        "outputId": "67b83905-0d2e-4ff1-a7e5-5d944d47716c",
        "colab": {
          "base_uri": "https://localhost:8080/",
          "height": 107
        }
      },
      "source": [
        "# 경로 그래프 생성\n",
        "graph = (['start', 'A', 6], ['start', 'B', 2], ['A', 'finish', 1], ['B', 'finish', 5], ['B', 'A', 3])\n",
        "graph"
      ],
      "execution_count": 0,
      "outputs": [
        {
          "output_type": "execute_result",
          "data": {
            "text/plain": [
              "(['start', 'A', 6],\n",
              " ['start', 'B', 2],\n",
              " ['A', 'finish', 1],\n",
              " ['B', 'finish', 5],\n",
              " ['B', 'A', 3])"
            ]
          },
          "metadata": {
            "tags": []
          },
          "execution_count": 1
        }
      ]
    },
    {
      "cell_type": "code",
      "metadata": {
        "id": "-p5Eo3OljtW7",
        "colab_type": "code",
        "outputId": "2a5555d3-e7ec-4ea3-cff5-66cd1e7fb30e",
        "colab": {
          "base_uri": "https://localhost:8080/",
          "height": 35
        }
      },
      "source": [
        "# 노드 집합을 만들고 노드 집합에서 노드를 꺼내 visits로 옮기는 작업 진행\n",
        "# nodes에 있는 모든 노드가 visits로 이동하면 알고리즘이 끝난다.\n",
        "\n",
        "nodes = set()\n",
        "for edge in graph:\n",
        "    nodes.add(edge[0])\n",
        "    nodes.add(edge[1])\n",
        "nodes"
      ],
      "execution_count": 0,
      "outputs": [
        {
          "output_type": "execute_result",
          "data": {
            "text/plain": [
              "{'A', 'B', 'finish', 'start'}"
            ]
          },
          "metadata": {
            "tags": []
          },
          "execution_count": 2
        }
      ]
    },
    {
      "cell_type": "code",
      "metadata": {
        "id": "VYWjZuJoj7_p",
        "colab_type": "code",
        "outputId": "d014bc9f-9d21-4fc9-cf60-75e11826f4dd",
        "colab": {
          "base_uri": "https://localhost:8080/",
          "height": 35
        }
      },
      "source": [
        "# 방문한 노드를 기록하기 위한 집합\n",
        "visits = set()\n",
        "\n",
        "# 출발점에서 모든 노드와 거리는 무한대로 설정, 각 노드의 부모노드는 '모름'으로 초기 설정\n",
        "cost = {}\n",
        "\n",
        "for node in nodes:\n",
        "    cost[node] = [float(\"inf\"), None]\n",
        "\n",
        "# 시작과 끝 노드를 정의\n",
        "start = 'start'\n",
        "end = 'end'\n",
        "\n",
        "# 시작 노드의 거리는 0으로 설정\n",
        "curNode = start\n",
        "cost[curNode][0] = 0\n",
        "\n",
        "print(cost)"
      ],
      "execution_count": 0,
      "outputs": [
        {
          "output_type": "stream",
          "text": [
            "{'B': [inf, None], 'A': [inf, None], 'start': [0, None], 'finish': [inf, None]}\n"
          ],
          "name": "stdout"
        }
      ]
    },
    {
      "cell_type": "code",
      "metadata": {
        "id": "GWqImg_ckQzV",
        "colab_type": "code",
        "outputId": "0efe089d-0f8b-4f03-9b72-1d568d67fdeb",
        "colab": {
          "base_uri": "https://localhost:8080/",
          "height": 35
        }
      },
      "source": [
        "# 'start'에서 갈 수 있는 노드는 'A', 'B'\n",
        "\n",
        "def _neighbor(curNode):\n",
        "    neighbor = {}\n",
        "    for edge in graph:\n",
        "        if edge[0] == curNode:\n",
        "            neighbor[edge[1]] = edge[2]\n",
        "        elif edge[1] == curNode:\n",
        "            neighbor[edge[0]] = edge[2]\n",
        "    return neighbor\n",
        "\n",
        "neighbors = _neighbor(curNode)\n",
        "neighbors"
      ],
      "execution_count": 0,
      "outputs": [
        {
          "output_type": "execute_result",
          "data": {
            "text/plain": [
              "{'A': 6, 'B': 2}"
            ]
          },
          "metadata": {
            "tags": []
          },
          "execution_count": 4
        }
      ]
    },
    {
      "cell_type": "code",
      "metadata": {
        "id": "2gP4zHIVkkOK",
        "colab_type": "code",
        "outputId": "df8a5d9a-95ba-48cd-dad6-55ce583853cd",
        "colab": {
          "base_uri": "https://localhost:8080/",
          "height": 53
        }
      },
      "source": [
        "def _getWeight(n1, n2):\n",
        "    # 그래프에서 노드 n1, n2의 가중값을 리턴\n",
        "    for edge in graph:\n",
        "        if (edge[0] == n1 and edge[1] == n2) or (edge[0] == n2 and edge[1] == n1):\n",
        "            return edge[2]\n",
        "    return None\n",
        "\n",
        "visits.add(curNode)\n",
        "nodes.remove(curNode)\n",
        "\n",
        "# 모든 이웃에 대해 현재 노드를 통해 이웃노드에 접근하는 cost가 더 작을 경우, cost 값을 갱신하고 부모노드를 변경한다.\n",
        "# 'A': [6, 'start'] 는 'A'에 'start'를 통해 접근할 경우, cost가 6이란 의미다. 만약, 'A'에 다른 노드를 통해 접근할 때 더 작은 cost가 있다면 갱신한다.\n",
        "# curNode에서 갈 수 있는 모든 이웃에 대해 \n",
        "# curNode를 통해 node로 가는 비용은 curNode까지 오는 비용 + curNode에서 node 까지 가는 비용이므로  cost[curNode][0] + _getWeight(curNode,node)이 된다.\n",
        "# 이 비용이 현재시점에서 알고있는 node의 비용보다 작다면 node의 비용과 parent 노드를 curNode를 통해 가는 것으로 갱신한다.\n",
        "\n",
        "for node in neighbors:\n",
        "    if cost[curNode][0] + _getWeight(curNode, node) < cost[node][0]:\n",
        "        cost[node][0] = cost[curNode][0] + _getWeight(curNode, node)\n",
        "        cost[node][1] = curNode\n",
        "\n",
        "print(nodes)\n",
        "print(cost)"
      ],
      "execution_count": 0,
      "outputs": [
        {
          "output_type": "stream",
          "text": [
            "{'B', 'A', 'finish'}\n",
            "{'B': [2, 'start'], 'A': [6, 'start'], 'start': [0, None], 'finish': [inf, None]}\n"
          ],
          "name": "stdout"
        }
      ]
    },
    {
      "cell_type": "code",
      "metadata": {
        "id": "er13OcCdlHxl",
        "colab_type": "code",
        "outputId": "2de3875c-df28-495c-f99b-fdc7fdb69333",
        "colab": {
          "base_uri": "https://localhost:8080/",
          "height": 53
        }
      },
      "source": [
        "# 다시 nodes 집합 {'finish', 'B', 'A'} 중에 최소 비용을 가지는 노드를 curNode로 선정하고 위 과정 반복\n",
        "# 여기서는 B가 선택\n",
        "# 이를 위해서는 cost에서 nodes에 있는 키를 대상으로 최소 비용 노드를 선택해야 한다.\n",
        "# 딕셔너리 부분집합 정의\n",
        "\n",
        "def dicFilter(cost, nodes):\n",
        "    import sys\n",
        "    mini = sys.maxsize\n",
        "    for key, value in cost.items():\n",
        "        if key in nodes:\n",
        "            if value[0] < mini:\n",
        "                mini = value[0]\n",
        "                curNode = key\n",
        "    return curNode\n",
        "\n",
        "print(cost, nodes)\n",
        "curNode = dicFilter(cost, nodes)\n",
        "curNode"
      ],
      "execution_count": 0,
      "outputs": [
        {
          "output_type": "stream",
          "text": [
            "{'B': [2, 'start'], 'A': [6, 'start'], 'start': [0, None], 'finish': [inf, None]} {'B', 'A', 'finish'}\n"
          ],
          "name": "stdout"
        },
        {
          "output_type": "execute_result",
          "data": {
            "text/plain": [
              "'B'"
            ]
          },
          "metadata": {
            "tags": []
          },
          "execution_count": 7
        }
      ]
    },
    {
      "cell_type": "code",
      "metadata": {
        "id": "ky5d9RQslPYd",
        "colab_type": "code",
        "outputId": "36c2565e-e01f-474d-dac3-481f1460f974",
        "colab": {
          "base_uri": "https://localhost:8080/",
          "height": 35
        }
      },
      "source": [
        "# 'B'에서 갈 수 있는 노드는 'start', 'A', 'finish'\n",
        "neighbors = _neighbor(curNode)\n",
        "print(neighbors)"
      ],
      "execution_count": 0,
      "outputs": [
        {
          "output_type": "stream",
          "text": [
            "{'start': 2, 'finish': 5, 'A': 3}\n"
          ],
          "name": "stdout"
        }
      ]
    },
    {
      "cell_type": "code",
      "metadata": {
        "id": "r_3p700SmEZd",
        "colab_type": "code",
        "outputId": "3e2b7d5d-2141-4437-b52d-338bb1935560",
        "colab": {
          "base_uri": "https://localhost:8080/",
          "height": 53
        }
      },
      "source": [
        "# 모든 이웃에 대해 현재 노드를 통해 이웃노드에 접근하는 cost가 더 작을 경우, dist 값을 갱신하고 부모노드를 변경한다.\n",
        "# 'A' 로 갈 수 있는 방법이 'start'에서 직접 가는 것 보다 'B'를 통과해 가는 것이 비용이 작아 'A'의 비용과 부모노드가 갱신되었다.\n",
        "\n",
        "visits.add(curNode)\n",
        "nodes.remove(curNode)\n",
        "for node in neighbors:\n",
        "    if cost[curNode][0] + _getWeight(curNode, node) < cost[node][0]:\n",
        "        cost[node][0] = cost[curNode][0] + _getWeight(curNode, node)\n",
        "        cost[node][1] = curNode\n",
        "print(nodes)\n",
        "print(cost)"
      ],
      "execution_count": 0,
      "outputs": [
        {
          "output_type": "stream",
          "text": [
            "{'A', 'finish'}\n",
            "{'B': [2, 'start'], 'A': [5, 'B'], 'start': [0, None], 'finish': [7, 'B']}\n"
          ],
          "name": "stdout"
        }
      ]
    },
    {
      "cell_type": "code",
      "metadata": {
        "id": "uZQSSPoTmUCT",
        "colab_type": "code",
        "outputId": "3f12c66c-4d5b-40a4-a144-4965be3edc85",
        "colab": {
          "base_uri": "https://localhost:8080/",
          "height": 35
        }
      },
      "source": [
        "# {'end', 'A'} 중에 비용이 작은 노드는 'A'\n",
        "curNode = dicFilter(cost, nodes)\n",
        "print(curNode)"
      ],
      "execution_count": 0,
      "outputs": [
        {
          "output_type": "stream",
          "text": [
            "A\n"
          ],
          "name": "stdout"
        }
      ]
    },
    {
      "cell_type": "code",
      "metadata": {
        "id": "J8I41bljmZpe",
        "colab_type": "code",
        "outputId": "a9b26f5c-e589-42e1-f400-7b594854c24f",
        "colab": {
          "base_uri": "https://localhost:8080/",
          "height": 71
        }
      },
      "source": [
        "neighbors = _neighbor(curNode)\n",
        "print(neighbors)\n",
        "\n",
        "visits.add(curNode)\n",
        "nodes.remove(curNode)\n",
        "for node in neighbors:\n",
        "    if cost[curNode][0] + _getWeight(curNode, node) < cost[node][0]:\n",
        "        cost[node][0] = cost[curNode][0] + _getWeight(curNode, node)\n",
        "        cost[node][1] = curNode\n",
        "\n",
        "print(nodes)\n",
        "print(cost)"
      ],
      "execution_count": 0,
      "outputs": [
        {
          "output_type": "stream",
          "text": [
            "{'start': 6, 'finish': 1, 'B': 3}\n",
            "{'finish'}\n",
            "{'B': [2, 'start'], 'A': [5, 'B'], 'start': [0, None], 'finish': [6, 'A']}\n"
          ],
          "name": "stdout"
        }
      ]
    },
    {
      "cell_type": "markdown",
      "metadata": {
        "id": "bEsX73HsmpRz",
        "colab_type": "text"
      },
      "source": [
        "* 이제 노드에는 finish 하나만 남았고 finish의 이웃이 없으므로 알고리즘은 종료해도 된다.\n",
        "* 실제로는 node가 완전히 비워질 때까지 알고리즘을 반복해야 한다.\n",
        "* cost에서 최소비용 경로는 아래와 같이 구할 수 있다.\n",
        "   finish <- finish의 부모인 'A' <- 'A'의 부모인 'B' <- 'B'의 부모인 'start' 순서다.\n",
        "* 최종적으로 start -> 'B' -> 'A' -> 'finish' 가 최소비용경로다.   "
      ]
    },
    {
      "cell_type": "markdown",
      "metadata": {
        "id": "fe4oJ5nimut3",
        "colab_type": "text"
      },
      "source": [
        "#### 예제:아래의 그래프에서 0->3으로 가는 최소비용경로는?\n",
        "\n",
        "<center><img src=\"https://drive.google.com/uc?id=1ld8EGLdOA37raFZwAx5xzeLtuSLqmhDv\" width=\"400\" height=\"300\" ></center>"
      ]
    },
    {
      "cell_type": "code",
      "metadata": {
        "id": "tRQkxG61mxsM",
        "colab_type": "code",
        "outputId": "8dcd8131-ce0b-4088-95cd-b26e5673228f",
        "colab": {
          "base_uri": "https://localhost:8080/",
          "height": 35
        }
      },
      "source": [
        "# 그래프를 정의한다.(이 그래프는 양방향이다.)\n",
        "\n",
        "graph = [(0, 1, 7), (0, 4, 3), (0, 5, 10), (1, 2, 4), (1, 4, 2), \n",
        "         (1, 5, 6), (1, 3, 10), (2, 3, 2),(3, 5, 9), (3, 6, 4), (4, 6, 5)]\n",
        "nodes = set()\n",
        "for edge in graph:\n",
        "    nodes.add(edge[0])\n",
        "    nodes.add(edge[1])\n",
        "nodes"
      ],
      "execution_count": 0,
      "outputs": [
        {
          "output_type": "execute_result",
          "data": {
            "text/plain": [
              "{0, 1, 2, 3, 4, 5, 6}"
            ]
          },
          "metadata": {
            "tags": []
          },
          "execution_count": 12
        }
      ]
    },
    {
      "cell_type": "code",
      "metadata": {
        "id": "xBt2Wu5bm0kc",
        "colab_type": "code",
        "outputId": "b489d8ad-8a40-4308-bd6a-ab1f9c3e70ca",
        "colab": {
          "base_uri": "https://localhost:8080/",
          "height": 35
        }
      },
      "source": [
        "# 방문한 노드를 기록하기 위한 집합\n",
        "visits = set()\n",
        "\n",
        "# 출발점에서 모든 노드와 거리는 무한대로 설정하고 각 노드의 부모 노드는 '모름'으로 초기 설정\n",
        "cost = {}\n",
        "\n",
        "for node in nodes:\n",
        "    cost[node] = [float('inf'), None]\n",
        "\n",
        "# 시작과 끝 노드를 정의\n",
        "start = 0\n",
        "end = 3\n",
        "\n",
        "# 시작 노드의 거리는 0으로 설정한다\n",
        "curNode = start\n",
        "cost[curNode][0] = 0\n",
        "\n",
        "print(cost)"
      ],
      "execution_count": 0,
      "outputs": [
        {
          "output_type": "stream",
          "text": [
            "{0: [0, None], 1: [inf, None], 2: [inf, None], 3: [inf, None], 4: [inf, None], 5: [inf, None], 6: [inf, None]}\n"
          ],
          "name": "stdout"
        }
      ]
    },
    {
      "cell_type": "markdown",
      "metadata": {
        "id": "OnQUA0BAnQQH",
        "colab_type": "text"
      },
      "source": [
        "* Step 0: nodes에서 최소 거리 노드를 찾는다. 처음에는 시작점의 거리가 0이고, 나머지는 inf이므로 시작점이 현재 노드가 된다.  \n",
        "* Step 1: 현재 노드를 방문한 것으로 처리한다.\n",
        "* Step 2: 현재 노드의 이웃 노드를 구하고 현재 노드를 통해 이웃 노드로 가는 비용과 이 노드를 거치지 않고 가는 비용을 비교하여 만약, 현재 노드를 통해 가는 것이 작으면 비욕과 부모 노드를 업데이트 한다.\n",
        "* Step 3: 방문하지 않은 노드들 중에 최소 비용 노드를 찾아 현재 노드로 지정하고 Step 1으로 이동한다"
      ]
    },
    {
      "cell_type": "code",
      "metadata": {
        "id": "SglkqST2nkWH",
        "colab_type": "code",
        "outputId": "c84d5e8b-9e9d-46e3-b174-adc74ce6c631",
        "colab": {
          "base_uri": "https://localhost:8080/",
          "height": 35
        }
      },
      "source": [
        "def _neighbor(curNode):\n",
        "    # curNode에 연결된 이웃 노드를 리스트로 리턴\n",
        "    neighbor = {}\n",
        "    for edge in graph:\n",
        "        if edge[0] == curNode:\n",
        "            neighbor[edge[1]] = edge[2]\n",
        "        elif edge[1] == curNode:\n",
        "            neighbor[edge[0]] = edge[2]\n",
        "    return neighbor\n",
        "\n",
        "def _getWeight(n1, n2):\n",
        "    # 그래프에서 노드 n1, n2의 가중값을 리턴\n",
        "    for edge in graph:\n",
        "        if edge[0] == n1 and edge[1] == n2:\n",
        "            return edge[2]\n",
        "        elif edge[0] == n2 and edge[1] == n1:\n",
        "            return edge[2]\n",
        "    return None\n",
        "\n",
        "def dicFilter(cost, nodes):\n",
        "    import sys\n",
        "    mini = sys.maxsize\n",
        "    for key, value in cost.items():\n",
        "        if key in nodes:\n",
        "            if value[0] < mini:\n",
        "                mini = value[0]\n",
        "                curNode = key\n",
        "    return curNode\n",
        "\n",
        "while True:\n",
        "    visits.add(curNode)\n",
        "    nodes.remove(curNode)\n",
        "    neighbors = _neighbor(curNode)\n",
        "    for node in neighbors:\n",
        "        if cost[curNode][0] + _getWeight(curNode, node) < cost[node][0]:\n",
        "            cost[node][0] = cost[curNode][0] + _getWeight(curNode, node)\n",
        "            cost[node][1] = curNode\n",
        "\n",
        "    if len(nodes) > 0:\n",
        "        curNode = dicFilter(cost, nodes)\n",
        "    else:\n",
        "        break\n",
        "\n",
        "path = [end]\n",
        "\n",
        "while end != start:\n",
        "    path.append(cost[end][1])\n",
        "    end = cost[end][1]\n",
        "\n",
        "print(path[::-1])"
      ],
      "execution_count": 0,
      "outputs": [
        {
          "output_type": "stream",
          "text": [
            "[0, 4, 1, 2, 3]\n"
          ],
          "name": "stdout"
        }
      ]
    },
    {
      "cell_type": "code",
      "metadata": {
        "id": "wSO6cueFopOG",
        "colab_type": "code",
        "colab": {}
      },
      "source": [
        ""
      ],
      "execution_count": 0,
      "outputs": []
    }
  ]
}