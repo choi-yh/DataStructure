{
  "nbformat": 4,
  "nbformat_minor": 0,
  "metadata": {
    "colab": {
      "name": "2_2_2_Polynomial2.ipynb",
      "provenance": [],
      "collapsed_sections": [],
      "authorship_tag": "ABX9TyMh0KV51XeHjuPjjqmXJipj",
      "include_colab_link": true
    },
    "kernelspec": {
      "name": "python3",
      "display_name": "Python 3"
    }
  },
  "cells": [
    {
      "cell_type": "markdown",
      "metadata": {
        "id": "view-in-github",
        "colab_type": "text"
      },
      "source": [
        "<a href=\"https://colab.research.google.com/github/choi-yh/DataStructure/blob/master/2_2_2_Polynomial2.ipynb\" target=\"_parent\"><img src=\"https://colab.research.google.com/assets/colab-badge.svg\" alt=\"Open In Colab\"/></a>"
      ]
    },
    {
      "cell_type": "markdown",
      "metadata": {
        "id": "msRfVQdCWrX-",
        "colab_type": "text"
      },
      "source": [
        "$p(x) = 4x^4 + 3x^2 + 3, \\ q(x) = 3x^3 + 4x^2 + 2x + 1$ 를 더하면  \n",
        "$p(x) + q(x) = 4x^4 + 3x^3 + 7x^2 + 2x + 4$ 가 된다.  \n",
        "\n",
        "이 연산을 수행하는 프로그램을 만들어보자"
      ]
    },
    {
      "cell_type": "markdown",
      "metadata": {
        "id": "8NuiC9sqWuwg",
        "colab_type": "text"
      },
      "source": [
        "#### method 2"
      ]
    },
    {
      "cell_type": "markdown",
      "metadata": {
        "id": "oxwU3V_6Wxwr",
        "colab_type": "text"
      },
      "source": [
        "* k차 다항식의 계수와 차수를 2차원 배열에 저장하는 방법  \n",
        "(arrayList이기 때문에 수정이 어렵다.)  \n",
        "* peek 개념과  pop 개념"
      ]
    },
    {
      "cell_type": "code",
      "metadata": {
        "id": "hrbLU0lSW9Yo",
        "colab_type": "code",
        "colab": {
          "base_uri": "https://localhost:8080/",
          "height": 71
        },
        "outputId": "35489884-eaa9-4aca-df32-b5c53c915122"
      },
      "source": [
        "from operator import itemgetter\n",
        "\n",
        "class Poly2:\n",
        "    def __init__(self):\n",
        "        self.parm = []\n",
        "\n",
        "    def setParm(self, coef, order):\n",
        "        self.parm.append([coef, order])\n",
        "        self.parm.sort(key=itemgetter(1), reverse=True) # 계산의 편의를 위한 차수 내림차순 정리\n",
        "\n",
        "    def peek(self): # 다항식의 차수를 리턴\n",
        "        return self.parm[0][1]\n",
        "    \n",
        "    def pop(self):\n",
        "        return self.parm.pop(0)\n",
        "\n",
        "    def size(self):\n",
        "        return len(self.parm)\n",
        "\n",
        "    def print(self):\n",
        "        for i in range(len(self.parm)-1):\n",
        "            coef = self.parm[i][0]\n",
        "            order = self.parm[i][1]\n",
        "            print(f'{coef}x^{order} + ', end='')\n",
        "        print(self.parm[-1][0])\n",
        "    \n",
        "    \n",
        "    # 하나씩 peek 해서 차수를 비교한다. 차수가 같다면 둘다 pop 해서 계수를 더하여 추가, 다르다면 차수가 큰 쪽을 pop해서 추가한다.\n",
        "    # 두 다항식 안에 원소가 있는 동안 계산   \n",
        "    @classmethod\n",
        "    def add(cls, p, q):\n",
        "        r = Poly2()\n",
        "        while (p.size() > 0) and (q.size() > 0):\n",
        "            if p.peek() > q.peek():\n",
        "                _tmp = p.pop()\n",
        "                r.setParm(_tmp[0], _tmp[1])\n",
        "            elif p.peek() < q.peek():\n",
        "                _tmp = q.pop()\n",
        "                r.setParm(_tmp[0], _tmp[1])\n",
        "            else:\n",
        "                _tmp1 = p.pop()\n",
        "                _tmp2 = q.pop()\n",
        "                r.setParm(_tmp1[0]+_tmp2[0], _tmp1[1])\n",
        "        if p.size() > 0:\n",
        "            while p.size() > 0:\n",
        "                _tmp = p.pop()\n",
        "                r.setParm(_tmp[0], _tmp[1])\n",
        "        else:\n",
        "            while q.size() > 0:\n",
        "                _tmp = q.pop()\n",
        "                r.setParm(_tmp[0], _tmp[1])\n",
        "        return r\n",
        "        \n",
        "\n",
        "p = Poly2()\n",
        "p.setParm(4, 4)\n",
        "p.setParm(3, 2)\n",
        "p.setParm(3, 0)\n",
        "p.print()\n",
        "\n",
        "q = Poly2()\n",
        "q.setParm(3, 3)\n",
        "q.setParm(4, 2)\n",
        "q.setParm(2, 1)\n",
        "q.setParm(1, 0)\n",
        "q.print()\n",
        "\n",
        "r = Poly2.add(p, q)\n",
        "r.print()"
      ],
      "execution_count": 29,
      "outputs": [
        {
          "output_type": "stream",
          "text": [
            "4x^4 + 3x^2 + 3\n",
            "3x^3 + 4x^2 + 2x^1 + 1\n",
            "4x^4 + 3x^3 + 7x^2 + 2x^1 + 4\n"
          ],
          "name": "stdout"
        }
      ]
    },
    {
      "cell_type": "code",
      "metadata": {
        "id": "AOUeHLtZYYfy",
        "colab_type": "code",
        "colab": {}
      },
      "source": [
        ""
      ],
      "execution_count": 0,
      "outputs": []
    }
  ]
}