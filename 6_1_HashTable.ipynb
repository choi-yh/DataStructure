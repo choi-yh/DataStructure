{
  "nbformat": 4,
  "nbformat_minor": 0,
  "metadata": {
    "colab": {
      "name": "6_1_HashTable.ipynb",
      "provenance": [],
      "collapsed_sections": [],
      "authorship_tag": "ABX9TyPi8Wck9a74xG8ggJn/WzL5",
      "include_colab_link": true
    },
    "kernelspec": {
      "name": "python3",
      "display_name": "Python 3"
    }
  },
  "cells": [
    {
      "cell_type": "markdown",
      "metadata": {
        "id": "view-in-github",
        "colab_type": "text"
      },
      "source": [
        "<a href=\"https://colab.research.google.com/github/choi-yh/DataStructure/blob/master/6_1_HashTable.ipynb\" target=\"_parent\"><img src=\"https://colab.research.google.com/assets/colab-badge.svg\" alt=\"Open In Colab\"/></a>"
      ]
    },
    {
      "cell_type": "markdown",
      "metadata": {
        "id": "LjUWSX5f8lLc",
        "colab_type": "text"
      },
      "source": [
        "* 이진탐색트리에서 최대성능은 O(log n) 이었다.\n",
        "* 만약, 데이터의 키로 1차원 배열의 인덱스를 사용하면 O(1)도 가능하다.\n",
        "* 이는 공간으로 시간을 사는 개념이다.\n",
        "    \n",
        "   <center><img src=\" https://drive.google.com/uc?id=1byyWoFLaZlzIq94XJIriGPNrnc4hJzGY\" width=\"500\" height=\"300\" ></center>\n",
        "* 문제는 배열의 공백이 많아 메모리 낭비가 심하다.\n",
        "* 다른 방법으로 키를 직접 쓰지 말고,  키를 특정함수(예: 나머지 함수)에 넣고 결과를 인덱스로 사용해 공백을 줄이는 방법을 사용할 수 있다.\n",
        "    \n",
        "   <center><img src=\" https://drive.google.com/uc?id=1-o4yddRBgxUs6lyuu4hO7gZDPJ8PX84l\" width=\"500\" height=\"300\" ></center>\n",
        "\n",
        "* 이 경우, 메모리 낭비는 줄일 수 있지만, 서로 다른 키들이 동일한 해시값을 가질 때 충돌문제가 발생한다. \n",
        "* 가장 이상적인 해시함수는 키들을 균등하게(Uniformly) 해시테이블의 인덱스로 변환하는 함수다.\n",
        "* 널리 사용되는 해시함수는 나눗셈(Division) 함수다.\n",
        "나눗셈 함수는 키를 M으로 나눈 뒤, 그 나머지를 해시값으로 사용한다.\n",
        "* h(key) = key % M이고, 따라서 해시테이블의 인덱스는 0에서 M-1이 됨 \n",
        "* M은 일반적으로 key 개수의 3배 정도이며 소수(prime number)를 사용한다.\n",
        "\n"
      ]
    },
    {
      "cell_type": "markdown",
      "metadata": {
        "id": "fV5Ds79f8qaW",
        "colab_type": "text"
      },
      "source": [
        "* 충돌 처리\n",
        "    * 충돌이 일어날 경우, 처리하는 방법으로 개방주소방식과 폐쇄 주소방식이 있다.\n",
        "    * 개방 주소방식과 폐쇄 주소방식의 차이는 충돌이 일어날 경우, 충돌지점에서 다른 주소까지 개방해서 원소를 삽입할 수 있는 경우가 개방주소방식이고, 폐쇄주소방식은 충돌이 일어난 주소에서 문제를 해결하는 방식이다."
      ]
    },
    {
      "cell_type": "markdown",
      "metadata": {
        "id": "OaFS3ZUD8xiD",
        "colab_type": "text"
      },
      "source": [
        "#### 폐쇄주소방식\n",
        "* 충돌이 일어날 경우, 다른 메모리에 저장하는 것이 아니고 그 메모리 안에서 해결하는 방법\n",
        "* 대표적인 해결 방법으로 **Chaining**을 사용한다.\n",
        "* Chaining은 메모리에 Linked List 객체를 삽입해서 중복될 경우, 리스트를 순차탐색하는 방법을 사용한다."
      ]
    },
    {
      "cell_type": "code",
      "metadata": {
        "id": "RSSy34OOG9PZ",
        "colab_type": "code",
        "colab": {}
      },
      "source": [
        "class Node:\n",
        "    def __init__(self, key=None, value=None):\n",
        "        self.key = key\n",
        "        self.value = value\n",
        "        self.link = None\n",
        "\n",
        "class LinkedList:\n",
        "    def __init__(self):\n",
        "        self.root = Node()\n",
        "        self.cnt = 0\n",
        "\n",
        "    def append(self, key, value):\n",
        "        newNode = Node(key, value)\n",
        "        curNode = self.root\n",
        "        if curNode.key == None:\n",
        "            self.root = newNode\n",
        "            self.cnt += 1\n",
        "        else:\n",
        "            while curNode.link != None:\n",
        "                self.cnt += 1\n",
        "                curNode = curNode.link\n",
        "            curNode.link = newNode\n",
        "        return self.cnt\n",
        "    \n",
        "    def get(self, key):\n",
        "        cnt = 0\n",
        "        curNode = self.root\n",
        "        if curNode.key == key:\n",
        "            return curNode.value, cnt\n",
        "        else:\n",
        "            while curNode.link != None:\n",
        "                curNode = curNode.link\n",
        "                cnt += 1\n",
        "                if curNode.key == key:\n",
        "                    return curNode.value, cnt\n",
        "            return None"
      ],
      "execution_count": 0,
      "outputs": []
    },
    {
      "cell_type": "code",
      "metadata": {
        "id": "iymlM642HDdo",
        "colab_type": "code",
        "colab": {}
      },
      "source": [
        "class ChainHash:\n",
        "    def __init__(self, k):\n",
        "        # 데이터 수의 3배를 기준으로 소수 리턴\n",
        "        self.m = self._getPrime(3 * k)\n",
        "        self.h = [None] * self.m\n",
        "\n",
        "    def _getPrime(self, n):\n",
        "        # 1 ~ n 사이의 소수를 구하고 가장 큰 두 개의 소수를 리턴한다.\n",
        "        import numpy as np\n",
        "        is_prime = np.array(list(range(n+1)))\n",
        "        N_max = int(np.sqrt(len(is_prime) - 1)) # looping 2 to sqrt(n)\n",
        "\n",
        "        for j in range(2, N_max + 1):\n",
        "            is_prime[2*j::j] = 0\n",
        "        is_prime = np.setdiff1d(is_prime, np.array([0, 1])) # Find the set difference of two arrays.\n",
        "        return is_prime[-1]\n",
        "\n",
        "    def insert(self, key, item):\n",
        "        idx = key % self.m\n",
        "        if self.h[idx] == None:\n",
        "            self.h[idx] = LinkedList()\n",
        "            self.h[idx].append(key, item)\n",
        "        else:\n",
        "            print(key, '충돌')\n",
        "            curNode = self.h[idx].root\n",
        "            while curNode.link != None:\n",
        "                curNode = curNode.link\n",
        "            curNode.link = Node(key, item)\n",
        "\n",
        "    def get(self, key):\n",
        "        idx = key % self.m\n",
        "        xList = self.h[idx]\n",
        "        return xList.get(key)"
      ],
      "execution_count": 0,
      "outputs": []
    },
    {
      "cell_type": "code",
      "metadata": {
        "id": "H5Jm4UYUI5SK",
        "colab_type": "code",
        "colab": {
          "base_uri": "https://localhost:8080/",
          "height": 323
        },
        "outputId": "b9690a9b-ad2d-4140-d2fc-2c79a601fecb"
      },
      "source": [
        "x = [25, 37, 18, 55, 22, 35, 50, 63]\n",
        "\n",
        "h = ChainHash(len(x))\n",
        "\n",
        "for val in x:\n",
        "    h.insert(val, 'a'+str(val))\n",
        "\n",
        "y = [26, 38, 19, 56, 23, 36, 51, 64]\n",
        "for val in y:\n",
        "    h.insert(val, 'a'+str(val))\n",
        "    \n",
        "for key in x:\n",
        "    print(key, h.get(key))\n",
        "\n",
        "for key in y:\n",
        "    print(key, h.get(key))"
      ],
      "execution_count": 8,
      "outputs": [
        {
          "output_type": "stream",
          "text": [
            "64 충돌\n",
            "25 ('a25', 0)\n",
            "37 ('a37', 0)\n",
            "18 ('a18', 0)\n",
            "55 ('a55', 0)\n",
            "22 ('a22', 0)\n",
            "35 ('a35', 0)\n",
            "50 ('a50', 0)\n",
            "63 ('a63', 0)\n",
            "26 ('a26', 0)\n",
            "38 ('a38', 0)\n",
            "19 ('a19', 0)\n",
            "56 ('a56', 0)\n",
            "23 ('a23', 0)\n",
            "36 ('a36', 0)\n",
            "51 ('a51', 0)\n",
            "64 ('a64', 1)\n"
          ],
          "name": "stdout"
        }
      ]
    },
    {
      "cell_type": "code",
      "metadata": {
        "id": "NtdXx4XQKL90",
        "colab_type": "code",
        "colab": {}
      },
      "source": [
        ""
      ],
      "execution_count": 0,
      "outputs": []
    }
  ]
}