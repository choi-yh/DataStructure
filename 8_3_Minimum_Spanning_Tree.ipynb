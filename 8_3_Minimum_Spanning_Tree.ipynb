{
  "nbformat": 4,
  "nbformat_minor": 0,
  "metadata": {
    "colab": {
      "name": "8_3_Minimum_Spanning_Tree.ipynb",
      "provenance": [],
      "collapsed_sections": [],
      "authorship_tag": "ABX9TyM9VXT/mbEQLMU1dgj4uBYG",
      "include_colab_link": true
    },
    "kernelspec": {
      "name": "python3",
      "display_name": "Python 3"
    }
  },
  "cells": [
    {
      "cell_type": "markdown",
      "metadata": {
        "id": "view-in-github",
        "colab_type": "text"
      },
      "source": [
        "<a href=\"https://colab.research.google.com/github/choi-yh/DataStructure/blob/master/8_3_Minimum_Spanning_Tree.ipynb\" target=\"_parent\"><img src=\"https://colab.research.google.com/assets/colab-badge.svg\" alt=\"Open In Colab\"/></a>"
      ]
    },
    {
      "cell_type": "markdown",
      "metadata": {
        "id": "ArARQpbqURmN",
        "colab_type": "text"
      },
      "source": [
        "* 간선에 가중치가 존재하는 가중치 그래프에서 가중치의 합이 최소화되도록 구성한 트리를 말한다.  \n",
        "* 최소 비용 신장 트리는 두 개의 정점 사이에 한 개 경로만 존재한다. 그러므로 싸이클도 존재할 수 없다.  \n",
        "* 복잡한 그래프에서 최소 비용 신장 트리를 구성하는 것은 네트워크가 작동할 수 있는 최소 조건을 구하는 의미가 있다.  \n",
        "* 최소 비용 신장 트리를 구하는 방법으로는 Kruskal 알고리즘, Prim 알고리즘, Sollin 알고리즘 등이 있다."
      ]
    },
    {
      "cell_type": "markdown",
      "metadata": {
        "id": "Xqz3niKxUqO6",
        "colab_type": "text"
      },
      "source": [
        "* Krusakl 알고리즘\n",
        "    * 간선들의 가중값을 정렬한 후, 가장 작은 가중값을 가지는 간선부터 추가해 간다.\n",
        "    * 추가 중에 간선의 수가 n-1이 되면 알고리즘이 종료된다. n은 노드의 수다.  \n",
        "\n",
        "    <center><img src=\"https://drive.google.com/uc?id=1udy_0nAYtLq8XrPQt1O1uexRGsMwyS1V\" width=\"500\" height=\"500\" ></center>\n",
        "\n",
        "    * 위의 그림에서 최소 간선 (4, 6)부터 차례로 빈 트리에 삽입한다.  \n",
        "    * 삽입 과정에서 (1, 4), (2, 4), (3, 6)은 싸이클이 형성되므로 스킵한다.\n",
        "    * 삽입하다가 삽입된 간선이 6개(노드 수 -1)가 되면 알고리즘이 종료된다.  \n",
        "    * 싸이클을 탐지하는 방법으로 **Union-Find** 알고리즘을 사용할 수 있다.  "
      ]
    },
    {
      "cell_type": "markdown",
      "metadata": {
        "id": "izrppiQyU8gC",
        "colab_type": "text"
      },
      "source": [
        "* **Union Find Algorithm**\n",
        "* Union Find 알고리즘은 노드 연결을 나타내는 리스트를 정의하고, 추가되는 엣지 (n1, n2)에 대해 Union 해간다.\n",
        "* 예를 들어, 현재 [[0,1,2], [3,4]] 이 존재할 때, 아래와 같이 처리한다.  \n",
        "    * [[0,1,2], [3,4]] + [5,6] = [[0,1,2], [3,4], [5,6]] # *연결할 수 없으므로 따로 생성*\n",
        "    * [[0,1,2], [3,4]] + [1,5] = [[0,1,2,5], [3,4] # *존재하는 곳에 연결*\n",
        "    * [[0,1,2], [3,4]] + [1,3] = [[0,1,2,3,4]] # *n1, n2 모두 존재하므로 두 개가 존재하는 서브 리스트를 합친다.*\n",
        "    * [[0,1,2], [3,4]] + [0,2] = 싸이클 # *0과 2가 모두 0번째로 같은 위치에 존재하므로 추가할 필요가 없고 이때 싸이클이 존재한다.*"
      ]
    },
    {
      "cell_type": "code",
      "metadata": {
        "id": "EXbVFhHbWMad",
        "colab_type": "code",
        "colab": {}
      },
      "source": [
        "def isCycle(u, n):\n",
        "    idx1 = idx2 = -1\n",
        "    n1 = n[0]\n",
        "    n2 = n[1]\n",
        "    for i in range(len(u)):\n",
        "        if n1 in u[i]:\n",
        "            idx1 = i\n",
        "        if n2 in u[i]:\n",
        "            idx2 = i\n",
        "\n",
        "    if idx1 == -1 and idx2 == -1: # [n1, n2]가 기존 리스트에 없다면\n",
        "        u.append([n1, n2])\n",
        "        print(u)\n",
        "        return False\n",
        "    elif idx1 == -1: # [n1, n2]가 기존 리스트 중 한 곳에만 있다면\n",
        "        u[idx2].append(n1)\n",
        "        print(u)\n",
        "        return False\n",
        "    elif idx2 == -1: # [n1, n2]가 기존 리스트 중 한 곳에만 있다면\n",
        "        u[idx1].append(n2)\n",
        "        print(u)\n",
        "        return False\n",
        "    elif idx1 != idx2: # [n1, n2]가 기존 리스트에 서로 다른 곳에 존재한다면\n",
        "        d1 = u[idx1]\n",
        "        d2 = u[idx2]\n",
        "        union = d1 + d2\n",
        "        u.remove(d1)\n",
        "        u.remove(d2)\n",
        "        u.append(union)\n",
        "        print(u)\n",
        "        return False\n",
        "    elif idx1 == idx2 and len(u[idx1]) > 2: # [n1, n2]가 기존 리스트에 같은 곳에 존재한다면\n",
        "        print(u)\n",
        "        return True"
      ],
      "execution_count": 0,
      "outputs": []
    },
    {
      "cell_type": "code",
      "metadata": {
        "id": "DQlwD9T6Xrex",
        "colab_type": "code",
        "outputId": "96f01726-a34d-427b-c010-da24272bca1d",
        "colab": {
          "base_uri": "https://localhost:8080/",
          "height": 161
        }
      },
      "source": [
        "u = [[0, 1, 2],[3, 4]]\n",
        "print(isCycle(u, (2,3)))\n",
        "\n",
        "u = [[0, 1, 2],[3, 4]]\n",
        "print(isCycle(u, (0,2)))\n",
        "\n",
        "u = [[0, 1, 2],[3, 4]]\n",
        "print(isCycle(u, (1,5)))\n",
        "\n",
        "u = [[0, 1, 2],[3, 4]]\n",
        "print(isCycle(u, (4,6)))"
      ],
      "execution_count": 0,
      "outputs": [
        {
          "output_type": "stream",
          "text": [
            "[[0, 1, 2, 3, 4]]\n",
            "False\n",
            "[[0, 1, 2], [3, 4]]\n",
            "True\n",
            "[[0, 1, 2, 5], [3, 4]]\n",
            "False\n",
            "[[0, 1, 2], [3, 4, 6]]\n",
            "False\n"
          ],
          "name": "stdout"
        }
      ]
    },
    {
      "cell_type": "code",
      "metadata": {
        "id": "305T9qAjXtO3",
        "colab_type": "code",
        "colab": {}
      },
      "source": [
        "class SpanningTree:\n",
        "    def __init__(self, graph):\n",
        "        self.graph = graph\n",
        "        self.nodes = set()\n",
        "        self.union = [] # union-find 알고리즘에서 기존 엣지 리스트\n",
        "\n",
        "        # 그래프의 노드를 구함\n",
        "        for edge in graph:\n",
        "            self.nodes.add(edge[0])\n",
        "            self.nodes.add(edge[1])\n",
        "        self.nNode = len(self.nodes)\n",
        "\n",
        "    def isCycle(self, n1, n2):\n",
        "        idx1 = idx2 = -1\n",
        "        for i in range(len(self.union)):\n",
        "            if n1 in self.union[i]:\n",
        "                idx1 = i\n",
        "            if n2 in self.union[i]:\n",
        "                idx2 = i\n",
        "\n",
        "        if idx1 == -1 and idx2 == -1: # [n1, n2]가 기존 리스트에 없다면\n",
        "            self.union.append([n1, n2])\n",
        "            return False\n",
        "        elif idx1 == -1: # [n1, n2]가 기존 리스트 중 한 곳에만 있다면\n",
        "            self.union[idx2].append(n1)\n",
        "            return False\n",
        "        elif idx2 == -1: # [n1, n2]가 기존 리스트 중 한 곳에만 있다면\n",
        "            self.union[idx1].append(n2)\n",
        "            return False\n",
        "        elif idx1 != idx2: # [n1, n2]가 기존 리스트에 서로 다른 곳에 존재한다면\n",
        "            d1 = self.union[idx1]\n",
        "            d2 = self.union[idx2]\n",
        "            union = d1 + d2\n",
        "            self.union.remove(d1)\n",
        "            self.union.remove(d2)\n",
        "            self.union.append(union)\n",
        "            print(u)\n",
        "            return False\n",
        "        elif idx1 == idx2 and len(self.union[idx1]) > 2: # [n1, n2]가 기존 리스트에 같은 곳에 존재한다면\n",
        "            print(self.union[idx1])\n",
        "            return True\n",
        "\n",
        "    def kruskal(self):\n",
        "        self.graph.sort(key = lambda t: t[2]) # 그래프를 2번째 원소 기준으로 소트\n",
        "        tree = [] # MST 담을 리스트\n",
        "        nedges = 0 # nedges == self.nNode - 1이면 알고리즘이 끝난다.\n",
        "        i = 0\n",
        "        while nedges < self.nNode - 1:\n",
        "            if self.isCycle(self.graph[i][0], self.graph[i][1]) == False:\n",
        "                tree.append(self.graph[i])\n",
        "                nedges += 1\n",
        "            else:\n",
        "                print(\"싸이클 발견\", self.graph[i])\n",
        "            i += 1\n",
        "        return tree"
      ],
      "execution_count": 0,
      "outputs": []
    },
    {
      "cell_type": "code",
      "metadata": {
        "id": "deY8DUwQgyxk",
        "colab_type": "code",
        "outputId": "438fdfd7-2c92-4d31-db4a-d6fe0d4abc55",
        "colab": {
          "base_uri": "https://localhost:8080/",
          "height": 161
        }
      },
      "source": [
        "g = [(0,1,9), (0,2,10), (1,3,10), (1,4,5), (1,6,3), (2,3,9), (2,4,7), (2,5,2), (3,5,4), (3,6,8), (4,6,1), (5,6,6)]\n",
        "t = SpanningTree(g)\n",
        "print(t.kruskal())"
      ],
      "execution_count": 0,
      "outputs": [
        {
          "output_type": "stream",
          "text": [
            "[4, 6, 1]\n",
            "싸이클 발견 (1, 4, 5)\n",
            "[[0, 1, 2], [3, 4, 6]]\n",
            "[2, 5, 3, 4, 6, 1]\n",
            "싸이클 발견 (2, 4, 7)\n",
            "[2, 5, 3, 4, 6, 1]\n",
            "싸이클 발견 (3, 6, 8)\n",
            "[(4, 6, 1), (2, 5, 2), (1, 6, 3), (3, 5, 4), (5, 6, 6), (0, 1, 9)]\n"
          ],
          "name": "stdout"
        }
      ]
    },
    {
      "cell_type": "code",
      "metadata": {
        "id": "6lMbyKvuhf53",
        "colab_type": "code",
        "colab": {}
      },
      "source": [
        ""
      ],
      "execution_count": 0,
      "outputs": []
    }
  ]
}