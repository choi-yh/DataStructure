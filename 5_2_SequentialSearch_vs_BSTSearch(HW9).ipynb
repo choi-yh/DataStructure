{
  "nbformat": 4,
  "nbformat_minor": 0,
  "metadata": {
    "colab": {
      "name": "5_2_SequentialSearch_vs_BSTSearch(HW9).ipynb",
      "provenance": [],
      "collapsed_sections": [],
      "authorship_tag": "ABX9TyPPCYboBvVr+YoFlnPucear",
      "include_colab_link": true
    },
    "kernelspec": {
      "name": "python3",
      "display_name": "Python 3"
    }
  },
  "cells": [
    {
      "cell_type": "markdown",
      "metadata": {
        "id": "view-in-github",
        "colab_type": "text"
      },
      "source": [
        "<a href=\"https://colab.research.google.com/github/choi-yh/DataStructure/blob/master/5_2_SequentialSearch_vs_BSTSearch(HW9).ipynb\" target=\"_parent\"><img src=\"https://colab.research.google.com/assets/colab-badge.svg\" alt=\"Open In Colab\"/></a>"
      ]
    },
    {
      "cell_type": "markdown",
      "metadata": {
        "id": "HlgfMGQQ5i1s",
        "colab_type": "text"
      },
      "source": [
        "<H.W # 9> 자료를 임의로 100개 생성하고 이를 순차탐색과 이진탐색트리 탐색으로 탐색하여 속도를 비교하는 시뮬레이션 프로그램을 작성 하시오"
      ]
    },
    {
      "cell_type": "code",
      "metadata": {
        "id": "ZiOFazg45yPl",
        "colab_type": "code",
        "colab": {}
      },
      "source": [
        "class BNode:\n",
        "    def __init__(self, item, left=None, right=None):\n",
        "        self.item = item\n",
        "        self.left = left\n",
        "        self.right = right\n",
        "\n",
        "class BSTree:\n",
        "    def __init__(self):\n",
        "        self.root = None\n",
        "\n",
        "    def insert(self, item):\n",
        "        self.root = self._insert(self.root, item)\n",
        "\n",
        "    def _insert(self, curNode, item):\n",
        "        # curNode 부터 밑으로 item 삽입 위치를 찾아 삽입한다.\n",
        "        # 현재 노드가 None이면 현재 노드에 새 노드를 삽입한다.\n",
        "        if curNode == None:\n",
        "            curNode = BNode(item)\n",
        "        # 삽입할 값이 현재 노드값보다 작으면 좌측을 현재 노드로 보고 삽입을 실행한다.\n",
        "        elif item < curNode.item:\n",
        "            curNode.left = self._insert(curNode.left, item)\n",
        "        # 삽입할 값이 현재 노드값보다 크면 우측을 현재 노드로 보고 삽입을 실행한다.\n",
        "        else:\n",
        "            curNode.right = self._insert(curNode.right, item)\n",
        "        # 재귀가 끝나서 새 노드를 삽입 했다면 자신을 호출한 프로세스에 새 노드를 리턴한다.\n",
        "        return curNode\n",
        "\n",
        "\n",
        "    def inOrder(self):\n",
        "        return self._inOrder(self.root, [])\n",
        "\n",
        "    def _inOrder(self, node, sorted=[]):\n",
        "        # 현재 노드가 비어있지 않으면 일단, 좌측 값을 리턴\n",
        "        if node is not None:\n",
        "            self._inOrder(node.left, sorted)\n",
        "            sorted.append(node.item)\n",
        "            self._inOrder(node.right, sorted)\n",
        "        return sorted\n",
        "\n",
        "    def level0rder(self, node=None):\n",
        "        if node is None:\n",
        "            node = self.root\n",
        "        h = self.height(node)\n",
        "        for i in range(1, h+1):\n",
        "            self._levelOrder(node, i)\n",
        "\n",
        "    def _levelOrder(self, node, level):\n",
        "        if node is None:\n",
        "            return\n",
        "        if level == 1:\n",
        "            print(node.item, end=' ' )\n",
        "        elif level > 1:\n",
        "            self._levelOrder(node.left, level -1)\n",
        "            self._levelOrder(node.right, level -1)\n",
        "\n",
        "    def height(self, node):\n",
        "        if node is None:\n",
        "            return 0\n",
        "        else:\n",
        "            # Compute the height of each subtree\n",
        "            lheight = self.height(node.left)\n",
        "            rheight = self.height(node.right)\n",
        "\n",
        "            # Use the larger one\n",
        "            if lheight > rheight:\n",
        "                return lheight + 1\n",
        "            else:\n",
        "                return rheight + 1\n",
        "    \n",
        "    # 해당 노드를 찾을 때까지 트리 아래로 이동한다.\n",
        "    def search(self, item):\n",
        "        return self._search(self.root, item)\n",
        "\n",
        "    def _search(self, node, item):\n",
        "        if node is None:\n",
        "            print(\"item not found\")\n",
        "        elif node.item == item:\n",
        "            return node\n",
        "        elif node.item > item:\n",
        "            return self._search(node.left, item)\n",
        "        else:\n",
        "            return self._search(node.right, item)\n",
        "\n",
        "    def minimum(self):\n",
        "        return self._minimum(self.root)\n",
        "    \n",
        "    def _minimum(self, node):\n",
        "        if node is None:\n",
        "            return node\n",
        "        else:\n",
        "            self._minimum(node.left)\n",
        "\n",
        "    # 왼쪽 노드로 이동하다가 None일 경우 node.right를 노드에 저장한다.\n",
        "    def delMin(self):\n",
        "        self.root = self._delMin(self.root)\n",
        "\n",
        "    def _delMin(self, node):\n",
        "        if node is None:\n",
        "            return node.right\n",
        "        node.left = self._delMine(node.left)\n",
        "        return node\n",
        "\n",
        "    def delete(self, item):\n",
        "        pass\n",
        "\n",
        "    def _delete(self, node, item):\n",
        "        # 삭제할 노드가 없다면 None을 리턴\n",
        "        if node is None:\n",
        "            return None\n",
        "\n",
        "        # 삭제할 노드 찾아 내려가기\n",
        "        if node.item > item:\n",
        "            node.left = self._delete(node.left, item)\n",
        "        elif node.item < item:\n",
        "            node.right = self._delete(node.right, item)\n",
        "        # 삭제할 노드를 찾았을 경우\n",
        "        # 경우의 수는 4가지다\n",
        "        # 자식이 모두 None, 왼쪽 자식이 None, 오른쪽 자식이 None, 모든 자식이 있을 경우\n",
        "        else:\n",
        "            # 모든 자식이 None & 오른쪽 자식이 None\n",
        "            if node.right == None:\n",
        "                return node.left\n",
        "            # 왼쪽 자식이 None\n",
        "            elif node.left == None:\n",
        "                return node.right\n",
        "            # 자식이 둘 다 있을 경우\n",
        "            # 삭제 노드 우측에서 최소노드를 후계자로 지정하고 밑에 있는 후계자노드는 삭제한다.\n",
        "            delNode = node\n",
        "            node = self._minimum(delNode.right)\n",
        "            node.right = self._delMin(delNode.right)\n",
        "            node.left = delNode.left\n",
        "        return node"
      ],
      "execution_count": 0,
      "outputs": []
    },
    {
      "cell_type": "code",
      "metadata": {
        "id": "2CsvJOKU6BT4",
        "colab_type": "code",
        "outputId": "c898447b-d991-4286-886e-2dfc3c1cefd7",
        "colab": {
          "base_uri": "https://localhost:8080/",
          "height": 34
        }
      },
      "source": [
        "import random\n",
        "import time\n",
        "\n",
        "tmp_num = list(range(1, 10000))\n",
        "rand_num = random.sample(tmp_num, 100)\n",
        "target_num = random.choice(rand_num)\n",
        "print(target_num)"
      ],
      "execution_count": 0,
      "outputs": [
        {
          "output_type": "stream",
          "text": [
            "3423\n"
          ],
          "name": "stdout"
        }
      ]
    },
    {
      "cell_type": "code",
      "metadata": {
        "id": "UkGBSiTp7L7B",
        "colab_type": "code",
        "outputId": "c172ed9c-47c1-4f45-97ed-bbe398bc8cef",
        "colab": {
          "base_uri": "https://localhost:8080/",
          "height": 70
        }
      },
      "source": [
        "# sequential Search\n",
        "def seqTime(num_list):\n",
        "    st1 = time.time()\n",
        "    for num in num_list:\n",
        "        if num == target_num:\n",
        "            et1 = time.time()\n",
        "            seq_time = et1 - st1\n",
        "    return seq_time\n",
        "\n",
        "# BSTree Search\n",
        "def bstTime(num_list):\n",
        "    bst = BSTree()\n",
        "    for num in num_list:\n",
        "        bst.insert(num)\n",
        "\n",
        "    st2 = time.time()\n",
        "    bst.search(target_num)\n",
        "    et2 = time.time()\n",
        "    bst_time = et2 - st2\n",
        "    return bst_time\n",
        "\n",
        "print('seq_time: ', seqTime(rand_num))\n",
        "print('bst_time: ', bstTime(rand_num))\n",
        "print(\"순차탐색이 더 오래 걸렸나요? \", seqTime(rand_num) > bstTime(rand_num))"
      ],
      "execution_count": 0,
      "outputs": [
        {
          "output_type": "stream",
          "text": [
            "seq_time:  1.5735626220703125e-05\n",
            "bst_time:  4.5299530029296875e-06\n",
            "순차탐색이 더 오래 걸렸나요?  True\n"
          ],
          "name": "stdout"
        }
      ]
    },
    {
      "cell_type": "code",
      "metadata": {
        "id": "RSZN8nGY9obv",
        "colab_type": "code",
        "outputId": "cc206904-fd40-4a94-a608-d277b3fbad72",
        "colab": {
          "base_uri": "https://localhost:8080/",
          "height": 34
        }
      },
      "source": [
        "# 1000개 랜덤 숫자로 10000번 test\n",
        "\n",
        "import random\n",
        "import time\n",
        "\n",
        "res = []\n",
        "n = 10000\n",
        "for i in range(n):\n",
        "    # 랜덤 난수 100개 생성\n",
        "    tmp_num = list(range(1, 10000))\n",
        "    rand_num = random.sample(tmp_num, 1000)\n",
        "    target_num = random.choice(rand_num)\n",
        "\n",
        "    seq_time = seqTime(rand_num)\n",
        "    bst_time = bstTime(rand_num)\n",
        "\n",
        "    # 순차탐색이 오래 걸릴 경우 True\n",
        "    res.append(seq_time > bst_time)\n",
        "\n",
        "print('순차탐색이 더 오래 걸릴 확률은: {:.2f}%'.format(100 * sum(res) / n))"
      ],
      "execution_count": 0,
      "outputs": [
        {
          "output_type": "stream",
          "text": [
            "순차탐색이 더 오래 걸릴 확률은: 93.15%\n"
          ],
          "name": "stdout"
        }
      ]
    },
    {
      "cell_type": "code",
      "metadata": {
        "id": "tZEx-Tlx_nY6",
        "colab_type": "code",
        "colab": {}
      },
      "source": [
        ""
      ],
      "execution_count": 0,
      "outputs": []
    }
  ]
}