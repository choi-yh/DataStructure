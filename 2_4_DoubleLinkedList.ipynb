{
  "nbformat": 4,
  "nbformat_minor": 0,
  "metadata": {
    "colab": {
      "name": "2_4_DoubleLinkedList.ipynb",
      "provenance": [],
      "collapsed_sections": [],
      "authorship_tag": "ABX9TyOQavFq7RDLMXONs6kA7DH0",
      "include_colab_link": true
    },
    "kernelspec": {
      "name": "python3",
      "display_name": "Python 3"
    }
  },
  "cells": [
    {
      "cell_type": "markdown",
      "metadata": {
        "id": "view-in-github",
        "colab_type": "text"
      },
      "source": [
        "<a href=\"https://colab.research.google.com/github/choi-yh/DataStructure/blob/master/2_4_DoubleLinkedList.ipynb\" target=\"_parent\"><img src=\"https://colab.research.google.com/assets/colab-badge.svg\" alt=\"Open In Colab\"/></a>"
      ]
    },
    {
      "cell_type": "markdown",
      "metadata": {
        "id": "Xztvvuh93dYu",
        "colab_type": "text"
      },
      "source": [
        "* DoubleLinkedList 는 좌우에 링크가 있는 Linked List 이다.  \n",
        "* Single LinkedList에서는 preNode 개념을 이용해야 했지만 DoubleLinkedList 는 그럴 필요가 없다.  \n",
        "but link 두개를 관리해야 한다.(메모리 손실)  \n",
        "    * **append**: newNode를 만들고 root의 item이 None이면 newNode를 root로 지정하고 아니면 리스트의 끝까지 이동한 후,  \n",
        "        마지막 노드의 right에 newNode의 주소를 삽입하고 newNode의 left에 마지막 노드의 주소를 삽입한다.\n",
        "    * **insert**: : Linked List에 index로 새 노드를 추가하는 메소드로 index=0 이면 root로 추가하고, index 값에 따라 해당 위치에 삽입한다.  \n",
        "        index < 0 or index >= listSize 이면 error 메세지를 출력한다.  \n",
        "rootNode를 0번째로 보고 index -1 번째 노드 주소를 newNode의 left에 넣고, index번째 노드의 주소를 newNode right에 넣는다.\n",
        "    * **find**: 해당 item을 찾고 index를 리턴. item이 없다면 -1을 리턴\n",
        "    * **delete**: 주어진 값을 이용해 해당 노드를 찾고 지운다.  \n",
        "    del item이 첫번째 노드면 self.root에 self.root.right를 넣고 self.root.left에 None를 넣는다.  \n",
        "    del item이 중간노드면 delNode.left.right에 delNode.right를 삽입한다.  \n",
        "    마지막 노드라면 마지막 노드 left.right에 None를 삽입한다.  \n",
        "    * **listSize**: DoubleLinkedList의 사이즈를 리턴\n",
        "    * **print**: DoubleLinkedList를 출력\n",
        "    "
      ]
    },
    {
      "cell_type": "code",
      "metadata": {
        "id": "vNRpQckl33Bm",
        "colab_type": "code",
        "colab": {}
      },
      "source": [
        "class DNode:\n",
        "    def __init__(self, item=None):\n",
        "        self.item = item\n",
        "        self.left = None\n",
        "        self.right = None"
      ],
      "execution_count": 0,
      "outputs": []
    },
    {
      "cell_type": "code",
      "metadata": {
        "id": "qJPNiUw-4GdO",
        "colab_type": "code",
        "outputId": "5fd6759e-644e-4988-a1e1-49e545445aa4",
        "colab": {
          "base_uri": "https://localhost:8080/",
          "height": 107
        }
      },
      "source": [
        "class DoubleLinkedList:\n",
        "    def __init__(self):\n",
        "        self.root = DNode()\n",
        "    \n",
        "    def append(self, item):\n",
        "        curNode = self.root\n",
        "        newNode = DNode(item)\n",
        "        if self.root.item == None:\n",
        "            self.root = newNode\n",
        "        else:\n",
        "            while curNode.right != None:\n",
        "                curNode = curNode.right\n",
        "            curNode.right = newNode\n",
        "            newNode.left = curNode\n",
        "\n",
        "    def insert(self, item, idx):\n",
        "        newNode = DNode(item)\n",
        "        if (idx < 0) or (idx > self.listSize()):\n",
        "            return None\n",
        "        elif idx == 0: # 맨 처음에 삽입 newNode = self.root로 변경\n",
        "            self.root.left = newNode\n",
        "            newNode.right = self.root\n",
        "            self.root = newNode\n",
        "        else:\n",
        "            curNode = self.root\n",
        "            for _ in range(idx-1): # curNode 이동 => 다음에 newNode를 삽입하면 된다.\n",
        "                curNode = curNode.right\n",
        "\n",
        "            if curNode.right == None: # 맨 마지막에 삽입하게 될 경우\n",
        "                curNode.right = newNode\n",
        "                newNode.left = curNode\n",
        "            else: # 링크 저장에 주의\n",
        "                newNode.left = curNode\n",
        "                newNode.right = curNode.right\n",
        "                curNode.right.left = newNode\n",
        "                curNode.right = newNode\n",
        "\n",
        "    def delete(self, item):\n",
        "        curNode = self.root\n",
        "        if self.root.item == item:\n",
        "            self.root = self.root.right\n",
        "            self.root.left = None\n",
        "        else:\n",
        "            # 지울 아이템이 있는 노드 찾기\n",
        "            while curNode.item != item:\n",
        "                curNode = curNode.right\n",
        "            # 맨 마지막 노드인지 아닌지 확인한 후 삭제, 링크 업데이트\n",
        "            if curNode.right == None: # 맨 마지막 노드 삭제\n",
        "                curNode.left.right = None\n",
        "            else:\n",
        "                curNode.left.right = curNode.right\n",
        "                curNode.right.left = curNode.left\n",
        "\n",
        "    def find(self, item):\n",
        "        curNode = self.root\n",
        "        idx = 0\n",
        "        while curNode.right != None: \n",
        "            if curNode.item == item: # 끝까지 이동하다가 해당 item을 찾았을 경우 idx를 리턴\n",
        "                return idx\n",
        "            else: # curNode 이동 및 idx 증가\n",
        "                curNode = curNode.right\n",
        "                idx += 1\n",
        "        if curNode.item == item: # 찾는 아이템이 맨 마지막 노드일 경우\n",
        "            return idx\n",
        "        else:\n",
        "            return -1 # 찾는 아이템이 없을 경우\n",
        "\n",
        "    def listSize(self):\n",
        "        curNode = self.root\n",
        "        cnt = 1\n",
        "        if curNode.item == None:\n",
        "            return 0\n",
        "        else:\n",
        "            while curNode.right != None:\n",
        "                curNode = curNode.right\n",
        "                cnt += 1\n",
        "            return cnt\n",
        "\n",
        "    def print(self):\n",
        "        curNode = self.root\n",
        "        while curNode.right != None:\n",
        "            print(curNode.item, end=' - ')\n",
        "            curNode = curNode.right\n",
        "        print(curNode.item)\n",
        "\n",
        "fruits = DoubleLinkedList()\n",
        "fruits.append(\"사과\")\n",
        "fruits.append(\"오렌지\")\n",
        "fruits.append(\"배\")\n",
        "fruits.append(\"포도\")\n",
        "fruits.print()\n",
        "\n",
        "print('listSize: ', fruits.listSize())\n",
        "print('포도 find: ', fruits.find('포도'))\n",
        "\n",
        "fruits.insert('감귤', 4)\n",
        "fruits.print()\n",
        "\n",
        "fruits.delete('포도')\n",
        "fruits.print()"
      ],
      "execution_count": 52,
      "outputs": [
        {
          "output_type": "stream",
          "text": [
            "사과 - 오렌지 - 배 - 포도\n",
            "listSize:  4\n",
            "포도 find:  3\n",
            "사과 - 오렌지 - 배 - 포도 - 감귤\n",
            "사과 - 오렌지 - 배 - 감귤\n"
          ],
          "name": "stdout"
        }
      ]
    },
    {
      "cell_type": "code",
      "metadata": {
        "id": "lj3VDaOYp4CU",
        "colab_type": "code",
        "colab": {}
      },
      "source": [
        ""
      ],
      "execution_count": 0,
      "outputs": []
    }
  ]
}