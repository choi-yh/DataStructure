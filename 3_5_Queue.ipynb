{
  "nbformat": 4,
  "nbformat_minor": 0,
  "metadata": {
    "colab": {
      "name": "3_5_Queue.ipynb",
      "provenance": [],
      "collapsed_sections": [],
      "authorship_tag": "ABX9TyOxnR/nmam0jQWAGh/ypzxz",
      "include_colab_link": true
    },
    "kernelspec": {
      "name": "python3",
      "display_name": "Python 3"
    }
  },
  "cells": [
    {
      "cell_type": "markdown",
      "metadata": {
        "id": "view-in-github",
        "colab_type": "text"
      },
      "source": [
        "<a href=\"https://colab.research.google.com/github/choi-yh/DataStructure/blob/master/3_5_Queue.ipynb\" target=\"_parent\"><img src=\"https://colab.research.google.com/assets/colab-badge.svg\" alt=\"Open In Colab\"/></a>"
      ]
    },
    {
      "cell_type": "markdown",
      "metadata": {
        "id": "xMNJDt9cdoIs",
        "colab_type": "text"
      },
      "source": [
        "* Queue는 FIFO (First In First Out)의 자료구조이다.\n",
        "    * enQueue : item을 추가\n",
        "    * deQueue : item을 빼는 것\n",
        "* Queue 활용 예\n",
        "    * 생산자 $\\rightarrow$ 소비자(유통), 프린터 대기, 캐쉬 메모리, 블랙박스(메모리), 커피가게 등\n"
      ]
    },
    {
      "cell_type": "code",
      "metadata": {
        "id": "arjfx4uleKhm",
        "colab_type": "code",
        "colab": {
          "base_uri": "https://localhost:8080/",
          "height": 71
        },
        "outputId": "8f2bf81a-5547-44cc-a7d2-c2fb5dc9a15b"
      },
      "source": [
        "class Queue:\n",
        "    def __init__(self):\n",
        "        self.q = []\n",
        "\n",
        "    def enQueue(self, item):\n",
        "        self.q.append(item)\n",
        "\n",
        "    # 큐의 맨 앞(front)에 있는 item을 삭제하고 반환\n",
        "    def deQueue(self):\n",
        "        if self.isEmpty() == True:\n",
        "            return None\n",
        "        else:\n",
        "            return self.q.pop(0)\n",
        "    \n",
        "    # 큐의 맨 앞(front)에 있는 item을 삭제\n",
        "    def delete(self):\n",
        "        if self.isEmpty() == True:\n",
        "            return None\n",
        "        else:\n",
        "            del self.q[0]\n",
        "\n",
        "    # 큐의 맨 앞(front)에 있는 item을 반환\n",
        "    def peek(self):\n",
        "        if self.isEmpty() == True:\n",
        "            return None\n",
        "        else:\n",
        "            return self.q[0]\n",
        "    \n",
        "    def isEmpty(self):\n",
        "        if len(self.q) == 0:\n",
        "            return True\n",
        "        else:\n",
        "            return False\n",
        "\n",
        "q = Queue()\n",
        "q.enQueue(\"사과\")\n",
        "q.enQueue(\"배\")\n",
        "q.enQueue(\"포도\")\n",
        "print(q.deQueue())\n",
        "print(q.deQueue())\n",
        "print(q.isEmpty())"
      ],
      "execution_count": 3,
      "outputs": [
        {
          "output_type": "stream",
          "text": [
            "사과\n",
            "배\n",
            "False\n"
          ],
          "name": "stdout"
        }
      ]
    },
    {
      "cell_type": "code",
      "metadata": {
        "id": "gSbzb2BGg8C6",
        "colab_type": "code",
        "colab": {}
      },
      "source": [
        ""
      ],
      "execution_count": 0,
      "outputs": []
    }
  ]
}