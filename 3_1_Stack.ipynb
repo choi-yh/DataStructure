{
  "nbformat": 4,
  "nbformat_minor": 0,
  "metadata": {
    "colab": {
      "name": "3_1_Stack.ipynb",
      "provenance": [],
      "collapsed_sections": [],
      "authorship_tag": "ABX9TyOOz+demFjBj/2tM0OvzIi5",
      "include_colab_link": true
    },
    "kernelspec": {
      "name": "python3",
      "display_name": "Python 3"
    }
  },
  "cells": [
    {
      "cell_type": "markdown",
      "metadata": {
        "id": "view-in-github",
        "colab_type": "text"
      },
      "source": [
        "<a href=\"https://colab.research.google.com/github/choi-yh/DataStructure/blob/master/3_1_Stack.ipynb\" target=\"_parent\"><img src=\"https://colab.research.google.com/assets/colab-badge.svg\" alt=\"Open In Colab\"/></a>"
      ]
    },
    {
      "cell_type": "markdown",
      "metadata": {
        "id": "N2n7p4fjSg9t",
        "colab_type": "text"
      },
      "source": [
        "* **Stack**:   \n",
        "    * **LIFO(Last In First Out)의 자료구조**\n",
        "\n",
        "    * createStack: 공백 스택을 생성\n",
        "    * isEmpty: 스택이 공백인지 아닌지 확인\n",
        "    * push: 아이템을 추가하는 것\n",
        "    * pop: 아이템을 빼는 것 (스택의 top에 있는 item을 반환하고 삭제)\n",
        "    * delete: 스택의 top에 있는 item을 삭제\n",
        "    * peek: 스택의 top에 있는 item을 반환"
      ]
    },
    {
      "cell_type": "code",
      "metadata": {
        "id": "BzC7NZrOSv2H",
        "colab_type": "code",
        "colab": {}
      },
      "source": [
        "class Stack:\n",
        "    def __init__(self):\n",
        "        self.s = []\n",
        "\n",
        "    def push(self, item):\n",
        "        self.s.append(item)\n",
        "\n",
        "    def pop(self):\n",
        "        if self.isEmpty() == True:\n",
        "            return None\n",
        "        else:\n",
        "            return self.s.pop(-1)\n",
        "\n",
        "    def delete(self):\n",
        "        if self.isEmpty() == True:\n",
        "            return None\n",
        "        else:\n",
        "            del self.s[-1]\n",
        "\n",
        "    def peek(self):\n",
        "        if self.isEmpty() == True:\n",
        "            return None\n",
        "        else:\n",
        "            return self.s[-1]\n",
        "\n",
        "    def isEmpty(self):\n",
        "        if len(self.s) == 0:\n",
        "            return True\n",
        "        else:\n",
        "            return False\n",
        "\n",
        "    def print(self):\n",
        "        print(self.s)"
      ],
      "execution_count": 0,
      "outputs": []
    },
    {
      "cell_type": "code",
      "metadata": {
        "id": "GjgPfC9bUFus",
        "colab_type": "code",
        "colab": {
          "base_uri": "https://localhost:8080/",
          "height": 89
        },
        "outputId": "74af1dfd-3542-40fe-8171-fa99ad703b8a"
      },
      "source": [
        "# test\n",
        "\n",
        "fruits = Stack()\n",
        "fruits.push('딸기')\n",
        "fruits.push('바나나')\n",
        "fruits.push('사과')\n",
        "fruits.push('포도')\n",
        "fruits.print()\n",
        "\n",
        "print(fruits.pop())\n",
        "print(fruits.peek())\n",
        "fruits.print()"
      ],
      "execution_count": 16,
      "outputs": [
        {
          "output_type": "stream",
          "text": [
            "['딸기', '바나나', '사과', '포도']\n",
            "포도\n",
            "사과\n",
            "['딸기', '바나나', '사과']\n"
          ],
          "name": "stdout"
        }
      ]
    },
    {
      "cell_type": "code",
      "metadata": {
        "id": "ohPf2yv7XPyd",
        "colab_type": "code",
        "colab": {}
      },
      "source": [
        ""
      ],
      "execution_count": 0,
      "outputs": []
    }
  ]
}