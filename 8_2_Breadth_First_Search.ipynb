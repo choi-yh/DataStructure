{
  "nbformat": 4,
  "nbformat_minor": 0,
  "metadata": {
    "colab": {
      "name": "8_2_Breadth_First_Search.ipynb",
      "provenance": [],
      "collapsed_sections": [],
      "authorship_tag": "ABX9TyMFhRxdPyh++eCerpffSg2t",
      "include_colab_link": true
    },
    "kernelspec": {
      "name": "python3",
      "display_name": "Python 3"
    }
  },
  "cells": [
    {
      "cell_type": "markdown",
      "metadata": {
        "id": "view-in-github",
        "colab_type": "text"
      },
      "source": [
        "<a href=\"https://colab.research.google.com/github/choi-yh/DataStructure/blob/master/8_2_Breadth_First_Search.ipynb\" target=\"_parent\"><img src=\"https://colab.research.google.com/assets/colab-badge.svg\" alt=\"Open In Colab\"/></a>"
      ]
    },
    {
      "cell_type": "markdown",
      "metadata": {
        "id": "yU8MVbgzSzuw",
        "colab_type": "text"
      },
      "source": [
        "* BFS는 현재 위치에서 가까운 이웃 노드를 다 돌아보고 더 이상 갈 곳이 없으면 방문한 곳에 연결된 노드를 방문하는 방식이다.  \n",
        "직관적으로는 가까운 친구를 먼저 찾아보고 그 다음에 친구의 친구를 찾는 방식으로 이해할 수 있다.  \n",
        "* BFS 알고리즘은 Queue와 visit 리스트를 이용해 출발 노드에서 가볼 수 있는 곳을 큐에 enQueue하고 하나씩 deQueue한 다음 방문으로 처리하고 현재 노드에서 가볼 수 있는 곳을 계속 큐에 넣는다.  \n",
        "* Queue가 empty가 되면 알고리즘이 끝난다.  \n",
        "* BFS는 가까운 곳을 먼저 방문하기 때문에 **최소 경로**를 찾을 수 있는 알고리즘이다."
      ]
    },
    {
      "cell_type": "code",
      "metadata": {
        "id": "lbMWNLrnSsqg",
        "colab_type": "code",
        "colab": {}
      },
      "source": [
        "class Queue:\n",
        "    def __init__(self):\n",
        "        self.q = []\n",
        "\n",
        "    def enQueue(self, item):\n",
        "        self.q.append(item)\n",
        "\n",
        "    def deQueue(self):\n",
        "        if self.isEmpty() == False:\n",
        "            return self.q.pop(0)\n",
        "\n",
        "    def size(self):\n",
        "        return len(self.q)\n",
        "\n",
        "    def isEmpty(self):\n",
        "        if len(self.q) > 0:\n",
        "            return False\n",
        "        else:\n",
        "            return True\n",
        "\n",
        "    def peek(self):\n",
        "        if self.isEmpty() == False:\n",
        "            return self.q[0]\n",
        "\n",
        "    def delete(self, item):\n",
        "        if item in self.q:\n",
        "            self.q.remove(item)\n",
        "        else:\n",
        "            print(\"해당 아이템이 존재하지 않습니다.\")"
      ],
      "execution_count": 0,
      "outputs": []
    },
    {
      "cell_type": "code",
      "metadata": {
        "id": "zwJumRizSvvP",
        "colab_type": "code",
        "colab": {}
      },
      "source": [
        "class Graph:\n",
        "    def __init__(self, graph, start):\n",
        "        self.graph = graph\n",
        "        self.start = start\n",
        "        self.visit = []\n",
        "\n",
        "    def dfs(self):\n",
        "        self.s.push(self.start)\n",
        "        while self.s.isEmpty() == False:\n",
        "            curNode = self.s.pop()\n",
        "            if curNode not in self.visit:\n",
        "                self.visit.append(curNode)\n",
        "                for node in sorted(list(set(self.graph[curNode]) - set(self.visit))):\n",
        "                    self.s.push(node)\n",
        "        return self.visit\n",
        "\n",
        "    def bfs(self):\n",
        "        visit = [self.start]\n",
        "        queue = Queue()\n",
        "        for item in self.graph[self.start]:\n",
        "            queue.enQueue(item)\n",
        "\n",
        "        while queue.isEmpty() == False:\n",
        "            item = queue.deQueue()\n",
        "            if not item in visit:\n",
        "                for _item in self.graph[item]:\n",
        "                    queue.enQueue(_item)\n",
        "                visit.append(item)\n",
        "        return visit"
      ],
      "execution_count": 0,
      "outputs": []
    },
    {
      "cell_type": "code",
      "metadata": {
        "id": "kKGljoSTTrfm",
        "colab_type": "code",
        "outputId": "c797ee31-b74b-4534-eb2d-ced9327275a3",
        "colab": {
          "base_uri": "https://localhost:8080/",
          "height": 35
        }
      },
      "source": [
        "g1 = {}\n",
        "g1['A'] = ['B','C']\n",
        "g1['B'] = ['A','D','E']\n",
        "g1['C'] = ['A','E']\n",
        "g1['D'] = ['B','G']\n",
        "g1['E'] = ['B','C','G']\n",
        "g1['F'] = ['G']\n",
        "g1['G'] = ['D','E','F']\n",
        "\n",
        "bfs = Graph(g1, 'A')\n",
        "print(bfs.bfs())"
      ],
      "execution_count": 0,
      "outputs": [
        {
          "output_type": "stream",
          "text": [
            "['A', 'B', 'C', 'D', 'E', 'G', 'F']\n"
          ],
          "name": "stdout"
        }
      ]
    },
    {
      "cell_type": "code",
      "metadata": {
        "id": "YoZ764PKTwLc",
        "colab_type": "code",
        "colab": {}
      },
      "source": [
        ""
      ],
      "execution_count": 0,
      "outputs": []
    }
  ]
}