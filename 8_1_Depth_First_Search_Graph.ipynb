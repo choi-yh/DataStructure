{
  "nbformat": 4,
  "nbformat_minor": 0,
  "metadata": {
    "colab": {
      "name": "8_1_Depth_First_Search_Graph.ipynb",
      "provenance": [],
      "collapsed_sections": [],
      "authorship_tag": "ABX9TyNGb44TKIMPhp44q8mX6zE7",
      "include_colab_link": true
    },
    "kernelspec": {
      "name": "python3",
      "display_name": "Python 3"
    }
  },
  "cells": [
    {
      "cell_type": "markdown",
      "metadata": {
        "id": "view-in-github",
        "colab_type": "text"
      },
      "source": [
        "<a href=\"https://colab.research.google.com/github/choi-yh/DataStructure/blob/master/8_1_Depth_First_Search_Graph.ipynb\" target=\"_parent\"><img src=\"https://colab.research.google.com/assets/colab-badge.svg\" alt=\"Open In Colab\"/></a>"
      ]
    },
    {
      "cell_type": "markdown",
      "metadata": {
        "id": "Z7SmsG3-M1D4",
        "colab_type": "text"
      },
      "source": [
        "* 그래프는 정점(Vertex)과 간선(Edge)의 집합\n",
        "* 무방향 그래프와 방향 그래프가 있다.\n",
        "* 그래프의 예로는 통신회선 연결도, 지하철 노선도, 교통 지도, 소셜 네트워크 구성도, 선수과목, 전기 회로, $\\cdots$ 등이 있을 수 있다.  \n",
        "* 그래프에서 노드를 탐색하는 것은 그래프에 포함된 모든 노드를 구하거나 사이클이 존재하는 부분을 찾는 것이다.  \n",
        "* 싸이클은 한 노드에서 출발, 이동하면서 반복되는 노드 없이 출발점으로 돌아오는 것을 말한다.  \n",
        "싸이클이 없는 상황에서 출발한 곳으로 돌아올 수 있는 방법은 갔던 길을 되돌아 오는 방법 밖에 없다.  \n",
        "\n",
        "<center><img src=\"https://drive.google.com/uc?id=1_peim4ZlhjFdCJUyGTZv6ewaYl07I3LS\" width=\"300\" height=\"200\" ></center>\n",
        "    \n",
        "* 그래프 자료구조\n",
        "  * 인접행렬과 인접 리스트로 저장할 수 있다.\n",
        "<center><img src=\"https://drive.google.com/uc?id=1RJEly9Y3q-2_zA5sv1J350Klxtuo9xZx\" width=\"300\" height=\"200\" ></center>    \n",
        "\n",
        "    <center><img src=\"https://drive.google.com/uc?id=1z5083BntshMqrc5UAgfN_SrXHY-JLlh4\" width=\"600\" height=\"200\" ></center>"
      ]
    },
    {
      "cell_type": "markdown",
      "metadata": {
        "id": "I_H0N1wNNMoU",
        "colab_type": "text"
      },
      "source": [
        "#### DFS (Depth First Search)"
      ]
    },
    {
      "cell_type": "markdown",
      "metadata": {
        "id": "tWkqQtedOfs6",
        "colab_type": "text"
      },
      "source": [
        "* DFS는 출발선에서 출발하여 미로를 탐색하듯이 끝까지 가보고 막히면 왔던 곳을 되돌아 오면서 다른 방향을 모색하는 방법이다.  \n",
        "* DFS 알고리즘은 스택과 visit 리스트를 이용하여 출발 노드에서 다음 위치로 이동할 때마다 이동한 곳을 스택과 visit 리스트에 기록하고 막혀서 나올 때는 스택에서 pop 하여 되돌아 나온다.  \n",
        "* 되돌아 나오기 위해 Stack을 사용  \n",
        "* DFS 과정에서 하나의 노드가 스택에 두 번 들어가면 **싸이클**이 존재  \n",
        "* 스택이 공백이 되면 알고리즘이 끝난다.  \n",
        "* 스택을 이용한 알고리즘은 재귀로 구현할 수도 있다. \n",
        "* 알고리즘  \n",
        "    * Step 0: 시작점을 스택에 push\n",
        "    * Step 1: 스택에서 노드를 pop\n",
        "    * Step 2: pop한 노드가 가본 곳이 아니면 노드의 이웃 노드 중 방문하지 않은 노드 집합을 스택에 push하고 pop한 노드를 방문 처리한다.  \n",
        "    * Step 3: step 1에서 step 2를 스택이 empty될 때까지 반복한다.\n",
        "\n",
        "    <center><img src=\"https://drive.google.com/uc?id=18yy9GeBzuny3AOnb8cmoyYpy6MqILJEX\" width=\"600\" height=\"300\" ></center>\n",
        "    "
      ]
    },
    {
      "cell_type": "code",
      "metadata": {
        "id": "ASr_PsRXPzE2",
        "colab_type": "code",
        "colab": {}
      },
      "source": [
        "class Stack:\n",
        "    def __init__(self):\n",
        "        self.s = []\n",
        "\n",
        "    def push(self, item):\n",
        "        self.s.append(item)\n",
        "\n",
        "    def pop(self):\n",
        "        if self.isEmpty() == False:\n",
        "            return self.s.pop(-1)\n",
        "        else:\n",
        "            return None\n",
        "\n",
        "    def peek(self):\n",
        "        if self.isEmpty() == False:\n",
        "            return self.s[-1]\n",
        "        else:\n",
        "            return None\n",
        "\n",
        "    def isEmpty(self):\n",
        "        if len(self.s) > 0:\n",
        "            return False\n",
        "        else:\n",
        "            return True\n",
        "\n",
        "    def size(self):\n",
        "        return len(self.s)\n",
        "\n",
        "    def print(self):\n",
        "        print(self.s)"
      ],
      "execution_count": 0,
      "outputs": []
    },
    {
      "cell_type": "code",
      "metadata": {
        "id": "BlMPqk6VRNQg",
        "colab_type": "code",
        "colab": {}
      },
      "source": [
        "class Graph:\n",
        "    def __init__(self, graph, start):\n",
        "        self.graph = graph\n",
        "        self.start = start\n",
        "        self.s = Stack()\n",
        "        self.visit = []\n",
        "\n",
        "    def dfs(self):\n",
        "        self.s.push(self.start)\n",
        "        while self.s.isEmpty() == False:\n",
        "            curNode = self.s.pop()\n",
        "            if curNode not in self.visit:\n",
        "                self.visit.append(curNode)\n",
        "                for node in sorted(list(set(self.graph[curNode]) - set(self.visit))):\n",
        "                    self.s.push(node)\n",
        "                print(curNode, end=' ')\n",
        "                self.s.print()\n",
        "        return self.visit"
      ],
      "execution_count": 0,
      "outputs": []
    },
    {
      "cell_type": "code",
      "metadata": {
        "id": "sUXUcDBaR-_9",
        "colab_type": "code",
        "outputId": "f475fc78-d116-4066-8fc9-d6d43214c738",
        "colab": {
          "base_uri": "https://localhost:8080/",
          "height": 161
        }
      },
      "source": [
        "g1 = {}\n",
        "g1['A'] = ['B','C']\n",
        "g1['B'] = ['A','D','E']\n",
        "g1['C'] = ['A','E']\n",
        "g1['D'] = ['B','G']\n",
        "g1['E'] = ['B','C','G']\n",
        "g1['F'] = ['G']\n",
        "g1['G'] = ['D','E','F']\n",
        "\n",
        "dfs = Graph(g1, 'A')\n",
        "print(dfs.dfs())"
      ],
      "execution_count": 0,
      "outputs": [
        {
          "output_type": "stream",
          "text": [
            "A ['B', 'C']\n",
            "C ['B', 'E']\n",
            "E ['B', 'B', 'G']\n",
            "G ['B', 'B', 'D', 'F']\n",
            "F ['B', 'B', 'D']\n",
            "D ['B', 'B', 'B']\n",
            "B ['B', 'B']\n",
            "['A', 'C', 'E', 'G', 'F', 'D', 'B']\n"
          ],
          "name": "stdout"
        }
      ]
    },
    {
      "cell_type": "markdown",
      "metadata": {
        "id": "R7OquYR7SODN",
        "colab_type": "text"
      },
      "source": [
        "* 아래 그래프에서 싸이클을 찾아보자.\n",
        "  * {2,4,5}에 싸이클이 존재함\n",
        "  * \"0\"의 이웃 [1,2] 이 스택에 들어가고 스택에서 \"2\"를 팝하여 \"2\"의 이웃인 [4,5]를 푸시한다.\n",
        "  * \"5\"를 팝하여 \"5\"의 이웃 [2,4] 중에 방문하지 않은 \"4\"를 푸시한다.\n",
        "  * 이 과정에서 \"4\"가 스택에 두번 푸시되었다. 이는 \"2\"의 이웃인 \"4\"가 동시에 \"5\"의 이웃이기 때문으로 서로 이웃관계를 가지는 경우가 싸이클이다.\n",
        "<center><img src=\"https://drive.google.com/uc?id=1p_nbQZNmHBnnLAzBbDGZxWeF6lAk0Mp0\" width=\"400\" height=\"300\" ></center>\n"
      ]
    },
    {
      "cell_type": "code",
      "metadata": {
        "id": "-Ia5AOKMSYEL",
        "colab_type": "code",
        "outputId": "4feb7d95-651c-4f94-a5de-feafd2f0d6c9",
        "colab": {
          "base_uri": "https://localhost:8080/",
          "height": 161
        }
      },
      "source": [
        "g2 = {}\n",
        "g2[0] = [1,2]\n",
        "g2[1] = [0,3]\n",
        "g2[2] = [0,4,5]\n",
        "g2[3] = [1]\n",
        "g2[4] = [2,5,6]\n",
        "g2[5] = [2,4]\n",
        "g2[6] = [4]\n",
        "\n",
        "dfs = Graph(g2, 0)\n",
        "print(dfs.dfs())"
      ],
      "execution_count": 0,
      "outputs": [
        {
          "output_type": "stream",
          "text": [
            "0 [1, 2]\n",
            "2 [1, 4, 5]\n",
            "5 [1, 4, 4]\n",
            "4 [1, 4, 6]\n",
            "6 [1, 4]\n",
            "1 [3]\n",
            "3 []\n",
            "[0, 2, 5, 4, 6, 1, 3]\n"
          ],
          "name": "stdout"
        }
      ]
    },
    {
      "cell_type": "code",
      "metadata": {
        "id": "Il2Dj423SbL_",
        "colab_type": "code",
        "colab": {}
      },
      "source": [
        ""
      ],
      "execution_count": 0,
      "outputs": []
    }
  ]
}