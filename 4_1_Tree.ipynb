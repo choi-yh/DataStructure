{
  "nbformat": 4,
  "nbformat_minor": 0,
  "metadata": {
    "colab": {
      "name": "4_1_Tree.ipynb",
      "provenance": [],
      "collapsed_sections": [],
      "authorship_tag": "ABX9TyOzJUmVaDUDNOW0y6X4jbw/",
      "include_colab_link": true
    },
    "kernelspec": {
      "name": "python3",
      "display_name": "Python 3"
    }
  },
  "cells": [
    {
      "cell_type": "markdown",
      "metadata": {
        "id": "view-in-github",
        "colab_type": "text"
      },
      "source": [
        "<a href=\"https://colab.research.google.com/github/choi-yh/DataStructure/blob/master/4_1_Tree.ipynb\" target=\"_parent\"><img src=\"https://colab.research.google.com/assets/colab-badge.svg\" alt=\"Open In Colab\"/></a>"
      ]
    },
    {
      "cell_type": "markdown",
      "metadata": {
        "id": "ioxjrCZmjzli",
        "colab_type": "text"
      },
      "source": [
        "* 트리는 아래와 같은 자료구조다.\n",
        "    \n",
        "     ![](https://drive.google.com/uc?id=1tbdDji0KIkkrcw_Tr-1L9qOU_vKn-5AT) "
      ]
    },
    {
      "cell_type": "markdown",
      "metadata": {
        "id": "0qz9RJiMj2aF",
        "colab_type": "text"
      },
      "source": [
        "* **이진트리**는 트리 중에 자식노드가 최대 두개인 트리를 말한다.\n",
        "    * 자식이 없는 노드를 단말노드라고 한다.\n",
        "    * 자식이 하나만 있을 수도 있다. 나머지 하나는 공백노드다.\n",
        "    * 노드가 n개이면 간선은 n-1 개이다.\n",
        "    * 높이가 h인 노드의 수 최소값은 h+1이고 최대값은 \n",
        "$2^{h+1} - 1$ 이다.\n",
        "     \n",
        "     ![](https://drive.google.com/uc?id=1Przq9g0NvvpuGZGFTLthuhYJQ1HiKefO) "
      ]
    },
    {
      "cell_type": "markdown",
      "metadata": {
        "id": "VYs3p0xaj6bm",
        "colab_type": "text"
      },
      "source": [
        "* 높이가 h인 이진트리에서 최대노드를 가지는 트리를 **포화이진트리**라고 한다.\n",
        "     ![](https://drive.google.com/uc?id=1uGarIvVGqKkcUIL88wuRTcaD0SI5rq0i) \n",
        "\n",
        "* 포화이진트리에서 아래 그림처럼 마지막 노드 몇 개가 빠진 트리를 **완전이진트리**라고 한다.\n",
        "    \n",
        "     ![](https://drive.google.com/uc?id=1G-TLVCajF1itdaWI-ScNpNu1o4PtVVLC) \n",
        "\n",
        "* **편향이진트리**는 아래와 같이 한쪽으로만 자식노드가 존재하는 트리를 말한다. 이 경우는 결국 리스트와 같은 구조이기 때문에 트리의 장점을 살릴 수 없으므로 리스트로 구현하는 것이 더 효과적이다.\n",
        "    \n",
        "     ![](https://drive.google.com/uc?id=1kearY04V20SNFQWY3r0Ytfo--xZYYXVm) "
      ]
    },
    {
      "cell_type": "markdown",
      "metadata": {
        "id": "UNCSlAwmeD6y",
        "colab_type": "text"
      },
      "source": [
        "\n",
        "\n",
        "\n",
        "* 리스트를 이용한 이진트리의 ADT\n",
        "    * 완전 이진트리는 순차구조이므로 배열 형태로 구현할 수 있다. 단, 루트의 인덱스는 1로 시작한다.\n",
        "      * t = [None]\n",
        "    * append method: 마지막 위치에서 item을 삽입한다.\n",
        "    * getChild method: item 을 찾고 이 위치 인덱스 k에 대해 t[2k], t[2k+1]이 좌, 우 자식값을 리턴한다. \n",
        "    * getParent method: item을 찾고 해당 인덱스 k에 대해 k//2 위치값이 부모값이다. \n",
        "    \n",
        "     ![](https://drive.google.com/uc?id=1vtv2mHIKMXhQxypmvo7UEWnI3JHfLlq1) \n",
        "\n",
        "    "
      ]
    },
    {
      "cell_type": "code",
      "metadata": {
        "id": "VnU1E130ePyl",
        "colab_type": "code",
        "colab": {
          "base_uri": "https://localhost:8080/",
          "height": 34
        },
        "outputId": "87185bf3-10c0-48cc-9121-457c04f5c850"
      },
      "source": [
        "class BinaryTree:\n",
        "    def __init__(self):\n",
        "        self.t = [None]\n",
        "\n",
        "    def append(self, item):\n",
        "        self.t.append(item)\n",
        "\n",
        "    def size(self):\n",
        "        return len(self.t) - 1\n",
        "\n",
        "    def getChild(self, item):\n",
        "        if item in self.t:\n",
        "            k = self.t.index(item)\n",
        "            lidx = 2 * k\n",
        "            ridx = 2 * k + 1\n",
        "\n",
        "            if lidx <= self.size(): # 왼쪽 자식 노드\n",
        "                lnode = self.t[lidx]\n",
        "            else:\n",
        "                lnode = None\n",
        "\n",
        "            if ridx <= self.size(): # 오른쪽 자식 노드\n",
        "                rnode = self.t[ridx]\n",
        "            else:\n",
        "                rnode = None\n",
        "            return lnode, rnode\n",
        "        else:\n",
        "            print('item not Found')\n",
        "\n",
        "    def getParent(self, item):\n",
        "        if item in self.t:\n",
        "            k = self.t.index(item)\n",
        "            pidx = k // 2\n",
        "            if pidx > 0: # pidx == 0일 경우 부모 노드가 없다.\n",
        "                return self.t[pidx]\n",
        "            else:\n",
        "                return None\n",
        "        else:\n",
        "            print('item not Found')\n",
        "\n",
        "    def print(self):\n",
        "        print(self.t)\n",
        "\n",
        "\n",
        "tree = BinaryTree()\n",
        "for i in range(12):\n",
        "    tree.append(chr(65+i))\n",
        "tree.print()"
      ],
      "execution_count": 4,
      "outputs": [
        {
          "output_type": "stream",
          "text": [
            "[None, 'A', 'B', 'C', 'D', 'E', 'F', 'G', 'H', 'I', 'J', 'K', 'L']\n"
          ],
          "name": "stdout"
        }
      ]
    },
    {
      "cell_type": "code",
      "metadata": {
        "id": "yRe2JDdgepDy",
        "colab_type": "code",
        "colab": {
          "base_uri": "https://localhost:8080/",
          "height": 52
        },
        "outputId": "031c3cd9-3918-4e8e-f3db-7fd9ab0bd349"
      },
      "source": [
        "print(tree.getChild('C'))\n",
        "print(tree.getChild('E'))"
      ],
      "execution_count": 6,
      "outputs": [
        {
          "output_type": "stream",
          "text": [
            "('F', 'G')\n",
            "('J', 'K')\n"
          ],
          "name": "stdout"
        }
      ]
    },
    {
      "cell_type": "code",
      "metadata": {
        "id": "WMwFuAlikc3U",
        "colab_type": "code",
        "colab": {
          "base_uri": "https://localhost:8080/",
          "height": 70
        },
        "outputId": "7f511dd8-ea5e-446b-dc0d-42824cc8bfc1"
      },
      "source": [
        "print(tree.getParent('G'))\n",
        "print(tree.getParent('N'))"
      ],
      "execution_count": 7,
      "outputs": [
        {
          "output_type": "stream",
          "text": [
            "C\n",
            "item not Found\n",
            "None\n"
          ],
          "name": "stdout"
        }
      ]
    },
    {
      "cell_type": "code",
      "metadata": {
        "id": "PrWiOC0CkpZk",
        "colab_type": "code",
        "colab": {}
      },
      "source": [
        ""
      ],
      "execution_count": 0,
      "outputs": []
    }
  ]
}