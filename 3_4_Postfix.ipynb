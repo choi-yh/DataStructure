{
  "nbformat": 4,
  "nbformat_minor": 0,
  "metadata": {
    "colab": {
      "name": "3_4_Postfix.ipynb",
      "provenance": [],
      "collapsed_sections": [],
      "authorship_tag": "ABX9TyOYp3kaRS92GOKQ2kmGYgTE",
      "include_colab_link": true
    },
    "kernelspec": {
      "name": "python3",
      "display_name": "Python 3"
    }
  },
  "cells": [
    {
      "cell_type": "markdown",
      "metadata": {
        "id": "view-in-github",
        "colab_type": "text"
      },
      "source": [
        "<a href=\"https://colab.research.google.com/github/choi-yh/DataStructure/blob/master/3_4_Postfix.ipynb\" target=\"_parent\"><img src=\"https://colab.research.google.com/assets/colab-badge.svg\" alt=\"Open In Colab\"/></a>"
      ]
    },
    {
      "cell_type": "markdown",
      "metadata": {
        "id": "HT_UFxnqQwBH",
        "colab_type": "text"
      },
      "source": [
        "* 전위표기(prefix) : + 1 2\n",
        "* 중위표기(infix) : 1 + 2\n",
        "* 후위표기(postfix) : 1 2 +\n",
        "    * 빈 stack과 후위 표기식을 저장할 list를 만든다.\n",
        "    * \"(\" : stack push item\n",
        "    * \")\" : 스택에서 pop한 결과가 \"(\"일 때까지 list 스택에서 pop하여 리스트에 append 하고 마지막 \"(\" 때는 append 하지 않음  \n",
        "    * \"+\", \"-\": peek 한 결과가 연산자일 동안 스택에서 pop 한 결과를 list append 하고, 연산자가 아닐경우 item을 push\n",
        "    * \"*\", \"/\" : peek 한 결과가 \"*\", \"/\" 일 동안 스택에서 pop 한 결과를 list append 하고, '*', '/'가 아닐경우 item을 push\n",
        "    * 숫자 : item을 list에 append 한다.\n",
        "    * 수식이 끝나면 스택에 있는 것을 모두 pop하여 문자열에 추가 "
      ]
    },
    {
      "cell_type": "code",
      "metadata": {
        "id": "_tYXdKU8QtM_",
        "colab_type": "code",
        "colab": {}
      },
      "source": [
        "class Stack:\n",
        "    def __init__(self):\n",
        "        self.s = []\n",
        "\n",
        "    def push(self, item):\n",
        "        self.s.append(item)\n",
        "\n",
        "    def pop(self):\n",
        "        if self.isEmpty() == True:\n",
        "            return None\n",
        "        else:\n",
        "            return self.s.pop(-1)\n",
        "\n",
        "    def delete(self):\n",
        "        if self.isEmpty() == True:\n",
        "            return None\n",
        "        else:\n",
        "            del self.s[-1]\n",
        "\n",
        "    def peek(self):\n",
        "        if self.isEmpty() == True:\n",
        "            return None\n",
        "        else:\n",
        "            return self.s[-1]\n",
        "\n",
        "    def isEmpty(self):\n",
        "        if len(self.s) == 0:\n",
        "            return True\n",
        "        else:\n",
        "            return False\n",
        "\n",
        "    def print(self):\n",
        "        print(self.s)"
      ],
      "execution_count": 0,
      "outputs": []
    },
    {
      "cell_type": "code",
      "metadata": {
        "id": "ueCdso9PR6wr",
        "colab_type": "code",
        "colab": {
          "base_uri": "https://localhost:8080/",
          "height": 35
        },
        "outputId": "2b25d51e-a954-443e-91d1-cbb41d1aac38"
      },
      "source": [
        "# 연산자 확인\n",
        "def isOper(item):\n",
        "    if item == '+' or item == '-' or item == '*' or item == '/':\n",
        "        return True\n",
        "    else:\n",
        "        return False\n",
        "\n",
        "# 숫자 확인\n",
        "def isNum(n):\n",
        "    try:\n",
        "        float(n)\n",
        "        return True\n",
        "    except ValueError:\n",
        "        return False\n",
        "\n",
        "print(isOper('*'), isNum(102))"
      ],
      "execution_count": 16,
      "outputs": [
        {
          "output_type": "stream",
          "text": [
            "True True\n"
          ],
          "name": "stdout"
        }
      ]
    },
    {
      "cell_type": "code",
      "metadata": {
        "id": "q-o8uxefSW6S",
        "colab_type": "code",
        "colab": {
          "base_uri": "https://localhost:8080/",
          "height": 35
        },
        "outputId": "683c3ba7-b808-4262-9abd-15de0a6b72d2"
      },
      "source": [
        "eq = \"( 12.3 + 6 ) * 3 / 6\" # 문자 구분을 위한 blank\n",
        "eqList = eq.split(\" \")\n",
        "s = Stack()\n",
        "postEq = []\n",
        "\n",
        "for item in eqList:\n",
        "    if item == '(':\n",
        "        s.push(item)\n",
        "    elif item == ')':\n",
        "        while True:\n",
        "            tmp = s.pop()\n",
        "            if tmp == '(':\n",
        "                break\n",
        "            else:\n",
        "                postEq.append(tmp)\n",
        "    elif item == '+' or item == '-':\n",
        "        while isOper(s.peek()) == True:\n",
        "            postEq.append(s.pop())\n",
        "        s.push(item)\n",
        "    elif item == '*' or item == '/':\n",
        "        while s.peek() == '*' or s.peek() == '/':\n",
        "            postEq.append(s.pop())\n",
        "        s.push(item)\n",
        "    elif isNum(item) == True:\n",
        "        postEq.append(item)\n",
        "\n",
        "while s.isEmpty() == False:\n",
        "    postEq.append(s.pop())\n",
        "\n",
        "print(postEq)"
      ],
      "execution_count": 18,
      "outputs": [
        {
          "output_type": "stream",
          "text": [
            "['12.3', '6', '+', '3', '*', '6', '/']\n"
          ],
          "name": "stdout"
        }
      ]
    },
    {
      "cell_type": "markdown",
      "metadata": {
        "id": "rAU9AL-5SvTx",
        "colab_type": "text"
      },
      "source": [
        "* 후위표기식 계산 알고리즘  \n",
        "    1) 피연산자를 만나면 스택에 push  \n",
        "    2) 연산자를 만나면 필요한 만큼의 피연산자를 스택에서 pop하여 연산하고, 연산결과를 다시 스택에 push  \n",
        "    3) 수식이 끝나면, 마지막으로 스택을 pop하여 출력  "
      ]
    },
    {
      "cell_type": "code",
      "metadata": {
        "id": "944QOsHoYN1p",
        "colab_type": "code",
        "colab": {
          "base_uri": "https://localhost:8080/",
          "height": 35
        },
        "outputId": "e03615a8-7794-4617-d6c6-5be53a7f360a"
      },
      "source": [
        "s = Stack()\n",
        "for item in postEq:\n",
        "    if isOper(item) == False:\n",
        "        s.push(item)\n",
        "    else:\n",
        "        num1 = float(s.pop())\n",
        "        num2 = float(s.pop())\n",
        "        if item == '+':\n",
        "            s.push(str(num2 + num1))\n",
        "        elif item == '-':\n",
        "            s.push(str(num2 - num1))\n",
        "        elif item == '*':\n",
        "            s.push(str(num2 * num1))\n",
        "        elif item == '/':\n",
        "            s.push(str(num2 / num1))\n",
        "print(s.pop())"
      ],
      "execution_count": 19,
      "outputs": [
        {
          "output_type": "stream",
          "text": [
            "9.15\n"
          ],
          "name": "stdout"
        }
      ]
    },
    {
      "cell_type": "code",
      "metadata": {
        "id": "tk2mnaK8bTrA",
        "colab_type": "code",
        "colab": {}
      },
      "source": [
        ""
      ],
      "execution_count": 0,
      "outputs": []
    }
  ]
}