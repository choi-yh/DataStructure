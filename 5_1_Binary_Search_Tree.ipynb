{
  "nbformat": 4,
  "nbformat_minor": 0,
  "metadata": {
    "colab": {
      "name": "5_1_Binary_Search_Tree.ipynb",
      "provenance": [],
      "collapsed_sections": [
        "z2nXF0VUqB2i"
      ],
      "authorship_tag": "ABX9TyMYBCoKvShzF4KC1kSOl9mF",
      "include_colab_link": true
    },
    "kernelspec": {
      "name": "python3",
      "display_name": "Python 3"
    }
  },
  "cells": [
    {
      "cell_type": "markdown",
      "metadata": {
        "id": "view-in-github",
        "colab_type": "text"
      },
      "source": [
        "<a href=\"https://colab.research.google.com/github/choi-yh/DataStructure/blob/master/5_1_Binary_Search_Tree.ipynb\" target=\"_parent\"><img src=\"https://colab.research.google.com/assets/colab-badge.svg\" alt=\"Open In Colab\"/></a>"
      ]
    },
    {
      "cell_type": "markdown",
      "metadata": {
        "id": "rSJoyPb4_DCW",
        "colab_type": "text"
      },
      "source": [
        "* 검색을 빨리 하기 위한 IDEA\n",
        "\n",
        "* 모든 원소는 서로 다른 유일한 키를 갖는다.\n",
        "* 왼쪽 서브트리에 있는 원소의 키들은 그 루트의 키보다 작다.\n",
        "* 오른쪽 서브트리에 있는 원소의 키들은 그 루트의 키보다 크다.\n",
        "* 왼쪽 서브트리와 오른쪽 서브트리도 이진 탐색 트리이다. \n",
        "<img src=\"https://drive.google.com/uc?id=1_9R5llDXPZDEcvvNACIiRMeQlP9Wgsf_\" width=\"500\" height=\"300\" ></center>\n",
        "\n",
        "* 11 을 탐색한다면 ...\n",
        "<img src=\"https://drive.google.com/uc?id=1hlCuN_Y7KdjMCGvNWOjOMN4Q30ZUse7U\" width=\"500\" height=\"300\" ></center>\n",
        " ![]() </center>\n",
        "\n",
        "* 탐색 회수는 $ n = 2^k - 1, k = log_2 n $ 이다.\n",
        "\n",
        "\n",
        "<img src=\"https://drive.google.com/uc?id=1UGakPkk3Qd80VUUWhCu7YOMnGqNtkoEG\" width=\"500\" height=\"300\" ></center>\n",
        "    \n",
        "* 이진탐색트리를 이용해 TreeSort를 할 수 있다. inOrder Algorithm을 이용하면 된다.\n",
        "* 최소값은 왼쪽으로 탐색해서 마지막 노드이고 최대값은 우측으로 탐색해서 마지막 값이다.\n",
        "    \n",
        "    <img src=\" https://drive.google.com/uc?id=1FX2eVzG7UeaWKvGsKpt4cYZxrDDhMK_W\" width=\"500\" height=\"300\" ></center>\n",
        "   \n",
        "\n"
      ]
    },
    {
      "cell_type": "markdown",
      "metadata": {
        "id": "asAPxyZaAzvF",
        "colab_type": "text"
      },
      "source": [
        "#### 이진탐색트리 ADT\n",
        "    \n",
        "* root = BNode(), BNode는 item과 left, right 를 가지는 객체다.\n",
        "* search method: root 부터 item이 root값보다 작으면 왼쪽으로, 크면 오른쪽으로 이동하면서 탐색한다. \n",
        "   탐색에 성공하면 해당노드를 리턴하고 실패하면 None을 리턴한다.<br>\n",
        "    \n",
        "* insert method: 삽입은 탐색한 후, 실패한 위치에 삽입한다.\n",
        "* inOrder method: 중위탐색을 실행하여 트리로부터 정렬된 결과를 리턴한다.\n",
        "* minimum method: 트리의 최소값을 찾는다. 최소값은 왼쪽으로 내려 가다가 None을 만났을 때 부모노드의 값이다.\n",
        "* delMin method: 트리의 최소노드를 삭제한다.\n",
        "    \n",
        "* delete Method: 특정 값을 가지는 노드를 삭제한다. <br> 삭제연산은 세가지 경우가 존재한다.\n",
        " \n",
        "  * 삭제할 노드가 단말노드인 경우: 해당 노드를 삭제한다. <br> 4를 삭제한다고 하면 ...\n",
        "  <img src=\" https://drive.google.com/uc?id=1Irn0CSEw5g30weg-JUY6q5Au9_zFzm10\" width=\"500\" height=\"300\" ></center>   \n",
        " \n",
        "  * 삭제할 노드가 하나의 자식노드를 가진 경우: 해당노드를 삭제하고 자식노드를 자신의 부모노드에 연결한다.  <br> 10을 삭제한다고 하면 ...\n",
        "   <img src=\"https://drive.google.com/uc?id=1HATJfv_EubGQpQ8HWb_I6yOPNllo2fyJ\" width=\"500\" height=\"300\" ></center>      \n",
        " \n",
        "  * 삭제할 노드가 두개의 자식노드를 가진 경우: 삭제할 노드 우측노드 중 최소값을 가지는 노드를 후계자 노드로 지정한다. 후계자 노드를 삭제노드로 옮기고 이진탐색트리 재구성 작업을 실행한다. <br>\n",
        " 루트 노드인 8을 삭제한다고 하면 ...\n",
        "   <img src=\"https://drive.google.com/uc?id=1PUVtUrvAXfXVR_0kriyl0e10eho1ssiR\" width=\"500\" height=\"300\" ></center>    \n",
        "\n",
        "    \n",
        "<br>\n",
        "    \n"
      ]
    },
    {
      "cell_type": "markdown",
      "metadata": {
        "id": "z2nXF0VUqB2i",
        "colab_type": "text"
      },
      "source": [
        "#### 재귀를 이용한 이진탐색트리 구현 알고리즘\n"
      ]
    },
    {
      "cell_type": "markdown",
      "metadata": {
        "id": "nOn5VfuvtRbv",
        "colab_type": "text"
      },
      "source": [
        "* 삽입 알고리즘\n",
        "    \n",
        "  * 아래 트리에서35를 삽입한다고 하자. <br>\n",
        "    step 1. curNode = 50에서 item = 35 는50보다 작으므로 curNode.left = insert(curNode.left, 35)<br>\n",
        "    step 2. curNode = 30에서 item = 35 는 30보다 크므로 curNode.right = insert(curNode.right, 35)<br>\n",
        "    step 3. curNode = 40에서 item = 35 는 40보다 작으므로 curNode.left = insert(curNode.left, 35)<br>\n",
        "    step 4. curNode = None이므로  return node(item = 35)<br>\n",
        "    step 5. step 3의 curNode 40의 curNode.left = insert(curNode.left, 35) = 35노드 & return curNode = 40<br>\n",
        "    step 6. step 2의 curNode 30의 curNode.right = insert(curNode.right, 35) = 40 노드 & return curNode = 30<br>\n",
        "    step 7. step 1의 curNode 50의 curNode.left = insert(curNode.left, 35) = 30 노드 & return curNode = 50<br>\n",
        "    \n",
        "    \n",
        "  <img src=\"https://drive.google.com/uc?id=1oPtxAZszy23QbTrSxdTYtLOajQOJLgLt\" width=\"500\" height=\"300\" ></center>     "
      ]
    },
    {
      "cell_type": "markdown",
      "metadata": {
        "id": "iX-I3_Ymt0ga",
        "colab_type": "text"
      },
      "source": [
        "* 탐색 알고리즘\n",
        "  * 아래 트리에서 40을 탐색한다고 하자.\n",
        "  <img src=\" https://drive.google.com/uc?id=1nqJDheChedc-xl7G0wzixOXN-u_EU45f\" width=\"500\" height=\"300\" ></center>  \n",
        "\n",
        "   step 1: 루트부터 아이템을 찾는다. return self._search(self.root, item) <br>\n",
        "   step 2: curNode = self.root  <br>\n",
        "   만약, curNode.item > item 이면 왼쪽으로 curNode를 바꾸고 반대로  curNode.item < item 이면 오른쪽으로 curNode를 바꾸고 찾는다. <br>\n",
        "   움직이면서   curNode.item == item 으로 노드를 찾으면 해당 노드를 리턴한다.\n",
        "   curNode == None 이면 찾는 노드가 없는 것이므로 에러 메세지를 출력한다.<br>\n",
        "   step 3: 움직일 때 마다 return 문에 의해 자신을 호출한 재귀프로세스에 최종적으로 찾은 item을 리턴해야 한다. 리턴이 없으면 찾아도 리턴되지 않으므로 재귀를 끝낼때 찾은 노드를 확인할 수 없다.\n",
        "   \n",
        "  "
      ]
    },
    {
      "cell_type": "markdown",
      "metadata": {
        "id": "7aI4xC6AwkzJ",
        "colab_type": "text"
      },
      "source": [
        "* 최소노드 삭제 알고리즘\n",
        "  * 아래 그림처럼 왼쪽으로 내려가면서 curNode.left가 None이면 curNode.right를 리턴하여 curNode에 저장한다.\n",
        "  <img src=\" https://drive.google.com/uc?id=1ToyFS9wRlyzZWXIu0RVkqs40-YJww1gO\" width=\"500\" height=\"300\" ></center>  \n"
      ]
    },
    {
      "cell_type": "markdown",
      "metadata": {
        "id": "vxR6lRrqykqN",
        "colab_type": "text"
      },
      "source": [
        "* 삭제 알고리즘\n",
        "  * 루트노드부터 삭제노드를 찾는다. 10을 삭제한다고 하자.\n",
        "  * 현재노드가 None이 되면 해당 노드가 없는 것이므로 None를 리턴한다.\n",
        "  * 삭제노드를 찾았을 때, 삭제node.right == None 이면 삭제node.left를 리턴한다.\n",
        "     오른쪽이 None인 경우는 오른쪽만 None인 경우와 오른쪽, 왼쪽 둘 다 None인 경우가 있다.\n",
        "     이 경우는 삭제노드 자리에 삭제node.left가 저장된다.\n",
        "  <img src=\" https://drive.google.com/uc?id=1OcGdJhbBMzdygO8lifWGS6jTSsea17eR\" width=\"300\" height=\"300\" ></center>      \n",
        "     \n",
        "  * 아니고 삭제node.left == None 이면 삭제node.right를 리턴한다. 35를 삭제하는 경우,  왼쪽만 None인 경우로 리턴값 삭제node.right가 삭제노드 자리에 들어간다.\n",
        "  <img src=\" https://drive.google.com/uc?id=1kxuY31IjNsPm2irpdBCV7R5yAGpwVD1A\" width=\"300\" height=\"300\" ></center>   \n",
        "      \n",
        "  * 삭제노드 양쪽 자식이 존재하는 경우\n",
        "    * 아래 그림에서 target = 20 이 삭제 노드다.<br>\n",
        "    Step 1: target 우측에서 최소노드를 찾는다.(최소노드는 삭제노드와 가장 유사한 노드다.)<br>\n",
        "    Step 2: 최소노드를 target으로 올리기 위해 최소노드의 우측에 target의 우측인 45 노드를 지정한다.<br>\n",
        "    Step 3: 최소노드의 좌측에는 target의 좌측인 10 노드를 지정한다.<br>\n",
        "    Step 4: 재귀를 끝내기 위해 최소노드를 삭제대상 노드의 자식노드로 리턴한다.<br>\n",
        "  <img src=\" https://drive.google.com/uc?id=1obNky0MKaFvUVMpq7aZ8PXbVgcxmYKF6\" width=\"300\" height=\"300\" ></center>     \n",
        "  "
      ]
    },
    {
      "cell_type": "markdown",
      "metadata": {
        "id": "Z3ZFBmZNtX2z",
        "colab_type": "text"
      },
      "source": [
        "#### 구현"
      ]
    },
    {
      "cell_type": "code",
      "metadata": {
        "id": "5Vt6ZCAKA_LC",
        "colab_type": "code",
        "outputId": "7158de6e-3659-4000-b3f8-e770f2059041",
        "colab": {
          "base_uri": "https://localhost:8080/",
          "height": 34
        }
      },
      "source": [
        "class BNode:\n",
        "    def __init__(self, item, left=None, right=None):\n",
        "        self.item = item\n",
        "        self.left = left\n",
        "        self.right = right\n",
        "\n",
        "class BSTree:\n",
        "    def __init__(self, root):\n",
        "        self.root = None\n",
        "\n",
        "    def insert(self, item):\n",
        "        self.root = self._insert(self.root, item)\n",
        "\n",
        "    def _insert(self, curNode, item):\n",
        "        # curNode 부터 밑으로 item 삽입 위치를 찾아 삽입한다.\n",
        "        # 현재 노드가 None이면 현재 노드에 새 노드를 삽입한다.\n",
        "        if curNode == None:\n",
        "            curNode = BNode(item)\n",
        "        # 삽입할 값이 현재 노드값보다 작으면 좌측을 현재 노드로 보고 삽입을 실행한다.\n",
        "        elif item < curNode.item:\n",
        "            curNode.left = self._insert(curNode.left, item)\n",
        "        # 삽입할 값이 현재 노드값보다 크면 우측을 현재 노드로 보고 삽입을 실행한다.\n",
        "        else:\n",
        "            curNode.right = self._insert(curNode.right, item)\n",
        "        # 재귀가 끝나서 새 노드를 삽입 했다면 자신을 호출한 프로세스에 새 노드를 리턴한다.\n",
        "        return curNode\n",
        "\n",
        "\n",
        "    def inOrder(self):\n",
        "        return self._inOrder(self.root, [])\n",
        "\n",
        "    def _inOrder(self, node, sorted=[]):\n",
        "        # 현재 노드가 비어있지 않으면 일단, 좌측 값을 리턴\n",
        "        if node is not None:\n",
        "            self._inOrder(node.left, sorted)\n",
        "            sorted.append(node.item)\n",
        "            self._inOrder(node.right, sorted)\n",
        "        return sorted\n",
        "\n",
        "    def level0rder(self, node=None):\n",
        "        if node is None:\n",
        "            node = self.root\n",
        "        h = self.height(node)\n",
        "        for i in range(1, h+1):\n",
        "            self._levelOrder(node, i)\n",
        "\n",
        "    def _levelOrder(self, node, level):\n",
        "        if node is None:\n",
        "            return\n",
        "        if level == 1:\n",
        "            print(node.item, end=' ' )\n",
        "        elif level > 1:\n",
        "            self._levelOrder(node.left, level -1)\n",
        "            self._levelOrder(node.right, level -1)\n",
        "\n",
        "    def height(self, node):\n",
        "        if node is None:\n",
        "            return 0\n",
        "        else:\n",
        "            # Compute the height of each subtree\n",
        "            lheight = self.height(node.left)\n",
        "            rheight = self.height(node.right)\n",
        "\n",
        "            # Use the larger one\n",
        "            if lheight > rheight:\n",
        "                return lheight + 1\n",
        "            else:\n",
        "                return rheight + 1\n",
        "    \n",
        "    # 해당 노드를 찾을 때까지 트리 아래로 이동한다.\n",
        "    def search(self, item):\n",
        "        return self._search(self.root, item)\n",
        "\n",
        "    def _search(self, node, item):\n",
        "        if node is None:\n",
        "            print(\"item not found\")\n",
        "        elif node.item == item:\n",
        "            return node\n",
        "        elif node.item > item:\n",
        "            return self._search(node.left, item)\n",
        "        else:\n",
        "            return self._search(node.right, item)\n",
        "\n",
        "    def minimum(self):\n",
        "        return self._minimum(self.root)\n",
        "    \n",
        "    def _minimum(self, node):\n",
        "        if node is None:\n",
        "            return node\n",
        "        else:\n",
        "            self._minimum(node.left)\n",
        "\n",
        "    # 왼쪽 노드로 이동하다가 None일 경우 node.right를 노드에 저장한다.\n",
        "    def delMin(self):\n",
        "        self.root = self._delMin(self.root)\n",
        "\n",
        "    def _delMin(self, node):\n",
        "        if node is None:\n",
        "            return node.right\n",
        "        node.left = self._delMine(node.left)\n",
        "        return node\n",
        "\n",
        "    def delete(self, item):\n",
        "        pass\n",
        "\n",
        "    def _delete(self, node, item):\n",
        "        # 삭제할 노드가 없다면 None을 리턴\n",
        "        if node is None:\n",
        "            return None\n",
        "\n",
        "        # 삭제할 노드 찾아 내려가기\n",
        "        if node.item > item:\n",
        "            node.left = self._delete(node.left, item)\n",
        "        elif node.item < item:\n",
        "            node.right = self._delete(node.right, item)\n",
        "        # 삭제할 노드를 찾았을 경우\n",
        "        # 경우의 수는 4가지다\n",
        "        # 자식이 모두 None, 왼쪽 자식이 None, 오른쪽 자식이 None, 모든 자식이 있을 경우\n",
        "        else:\n",
        "            # 모든 자식이 None & 오른쪽 자식이 None\n",
        "            if node.right == None:\n",
        "                return node.left\n",
        "            # 왼쪽 자식이 None\n",
        "            elif node.left == None:\n",
        "                return node.right\n",
        "            # 자식이 둘 다 있을 경우\n",
        "            # 삭제 노드 우측에서 최소노드를 후계자로 지정하고 밑에 있는 후계자노드는 삭제한다.\n",
        "            delNode = node\n",
        "            node = self._minimum(delNode.right)\n",
        "            node.right = self._delMin(delNode.right)\n",
        "            node.left = delNode.left\n",
        "        return node\n",
        "        \n",
        "nodes = [60, 50, 70, 20, 10, 45, 35, 25, 30, 40]\n",
        "\n",
        "root = BNode(60)\n",
        "t = BSTree(root)\n",
        "for i in range(1, len(nodes)):\n",
        "    t.insert(nodes[i])\n",
        "\n",
        "print(t.inOrder())"
      ],
      "execution_count": 0,
      "outputs": [
        {
          "output_type": "stream",
          "text": [
            "[10, 20, 25, 30, 35, 40, 45, 50, 70]\n"
          ],
          "name": "stdout"
        }
      ]
    },
    {
      "cell_type": "code",
      "metadata": {
        "id": "RivmpNY_n9rx",
        "colab_type": "code",
        "colab": {}
      },
      "source": [
        ""
      ],
      "execution_count": 0,
      "outputs": []
    }
  ]
}