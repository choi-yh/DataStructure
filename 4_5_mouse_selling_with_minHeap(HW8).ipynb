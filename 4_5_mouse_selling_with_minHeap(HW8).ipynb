{
  "nbformat": 4,
  "nbformat_minor": 0,
  "metadata": {
    "colab": {
      "name": "4_5_mouse_selling_with_minHeap(HW8).ipynb",
      "provenance": [],
      "collapsed_sections": [],
      "authorship_tag": "ABX9TyPmLx4PbpHAeE6T+80DnfUq",
      "include_colab_link": true
    },
    "kernelspec": {
      "name": "python3",
      "display_name": "Python 3"
    }
  },
  "cells": [
    {
      "cell_type": "markdown",
      "metadata": {
        "id": "view-in-github",
        "colab_type": "text"
      },
      "source": [
        "<a href=\"https://colab.research.google.com/github/choi-yh/DataStructure/blob/master/4_5_mouse_selling_with_minHeap(HW8).ipynb\" target=\"_parent\"><img src=\"https://colab.research.google.com/assets/colab-badge.svg\" alt=\"Open In Colab\"/></a>"
      ]
    },
    {
      "cell_type": "code",
      "metadata": {
        "id": "Fg8MhSKq2lEU",
        "colab_type": "code",
        "colab": {}
      },
      "source": [
        "# minHeap\n",
        "\n",
        "class minHeap:\n",
        "    def __init__(self):\n",
        "        self.x = [None]\n",
        "\n",
        "    # maxHeap 에서 _exchange 부분만 바꿔주면 해결\n",
        "    def _exchange(self, i, j):\n",
        "        if self.x[i] > self.x[j]:\n",
        "            self.x[i], self.x[j] = self.x[j], self.x[i]\n",
        "    \n",
        "    def push(self, item):\n",
        "        self.x.append(item)\n",
        "        cIndex = len(self.x) - 1\n",
        "        pIndex = cIndex // 2\n",
        "        while pIndex >= 1:\n",
        "            self._exchange(pIndex, cIndex) # 자식 노드의 값이 더 작다면 자리바꿈\n",
        "            cIndex = pIndex\n",
        "            pIndex = cIndex // 2\n",
        "\n",
        "    def pop(self):\n",
        "        item = self.x[1]\n",
        "        self.x[1] = self.x[-1]\n",
        "        self.x = self.x[:-1]\n",
        "        self.heapify()\n",
        "        return item\n",
        "\n",
        "    # 부모 인덱스를 받아 자식 인덱스를 리턴. 리스트 밖에 있는지 확인\n",
        "    def _child(self, pIndex):\n",
        "        n = len(self.x) - 1\n",
        "        leftIndex = pIndex * 2\n",
        "        rightIndex = pIndex * 2 + 1\n",
        "        if rightIndex <= n:\n",
        "            return leftIndex, rightIndex\n",
        "        elif leftIndex == n:\n",
        "            return leftIndex, None\n",
        "        else:\n",
        "            return None, None\n",
        "\n",
        "    def heapify(self):\n",
        "        pIndex = 1\n",
        "        lastIndex = len(self.x) - 1\n",
        "        while pIndex <= lastIndex:\n",
        "            left, right = self._child(pIndex)\n",
        "            if left != None and right != None:\n",
        "                if self.x[left] <= self.x[right]:\n",
        "                    self._exchange(pIndex, right)\n",
        "                else:\n",
        "                    self._exchange(pIndex, left)\n",
        "            elif left != None and right == None:\n",
        "                self._exchange(pIndex, left)\n",
        "            pIndex += 1\n",
        "\n",
        "    def print(self):\n",
        "        print(self.x)\n"
      ],
      "execution_count": 0,
      "outputs": []
    },
    {
      "cell_type": "code",
      "metadata": {
        "id": "lwApAcF23dLt",
        "colab_type": "code",
        "outputId": "3c1e33e2-da06-47b3-deb1-d37eea25c751",
        "colab": {
          "base_uri": "https://localhost:8080/",
          "height": 179
        }
      },
      "source": [
        "# minHeap test\n",
        "\n",
        "h = minHeap()\n",
        "for i in range(1, 9):\n",
        "    h.push(i)\n",
        "h.print()\n",
        "\n",
        "for i in range(8):\n",
        "    print(h.pop())"
      ],
      "execution_count": 0,
      "outputs": [
        {
          "output_type": "stream",
          "text": [
            "[None, 1, 2, 3, 4, 5, 6, 7, 8]\n",
            "1\n",
            "3\n",
            "7\n",
            "6\n",
            "5\n",
            "4\n",
            "2\n",
            "8\n"
          ],
          "name": "stdout"
        }
      ]
    },
    {
      "cell_type": "markdown",
      "metadata": {
        "id": "EjEj6JiB5Kbd",
        "colab_type": "text"
      },
      "source": [
        "<font color='red'> <H.W # 8> 싸다싸 쇼핑몰에서는 마우스 재고를 항상 10개 보유하고 있다. <br> 마우스는 최저가 마우스만 팔린다고 가정하고 하나가 팔리면 곧 바로 하나가 재고가 보충된다.  마우스 한개의 도입가격은 7,000원이고 마우스 판매 가격은 평균 만원, 표준편차 천원인 정규분포를 따른다고 가정할 때,  마우스 한개당 평균 이익은 얼마인가?\n",
        "    예: 9,200원에 마우스를 팔면  이익은 2,200원이다.\n",
        "    </font>"
      ]
    },
    {
      "cell_type": "code",
      "metadata": {
        "id": "Y8XUSAWK9oke",
        "colab_type": "code",
        "outputId": "3ff4b2ad-4a84-42e3-ca2e-ec7906c39d48",
        "colab": {
          "base_uri": "https://localhost:8080/",
          "height": 53
        }
      },
      "source": [
        "import numpy as np\n",
        "mouse = np.random.normal(10000, 1000, size=10).astype(dtype=int).tolist() # 정규분포로 10개 생성한 뒤 integer 변환, 리스트로 만듦\n",
        "print(mouse)\n",
        "\n",
        "# minHeap 생성하고 삽입\n",
        "h = minHeap()\n",
        "for item in mouse:\n",
        "    h.push(item)\n",
        "\n",
        "# 랜덤한 시간마다 팔리도록\n",
        "curTime = 0\n",
        "margin = []\n",
        "while curTime <= 24 * 60:\n",
        "    sellTime = np.random.randint(1, 60, size=1) # 한시간에 한대는 팔린다고 가정\n",
        "    curTime += sellTime\n",
        "    tmp = h.pop()\n",
        "    margin.append(tmp - 7000)\n",
        "    price = int(np.random.normal(10000, 1000, size=1))\n",
        "    h.push(price)\n",
        "\n",
        "print('마우스 한개당 평균 이익은 {:7.2f}원'.format(sum(margin) / len(margin)))"
      ],
      "execution_count": 0,
      "outputs": [
        {
          "output_type": "stream",
          "text": [
            "[9202, 11566, 11119, 9031, 11233, 9111, 9454, 10608, 9133, 9433]\n",
            "마우스 한개당 평균 이익은 2823.49원\n"
          ],
          "name": "stdout"
        }
      ]
    },
    {
      "cell_type": "code",
      "metadata": {
        "id": "371ZwHbg-dFU",
        "colab_type": "code",
        "colab": {}
      },
      "source": [
        ""
      ],
      "execution_count": 0,
      "outputs": []
    }
  ]
}