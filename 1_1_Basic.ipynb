{
  "nbformat": 4,
  "nbformat_minor": 0,
  "metadata": {
    "colab": {
      "name": "1_1_Basic.ipynb",
      "provenance": [],
      "collapsed_sections": [],
      "authorship_tag": "ABX9TyMhrKons6dpcH8ddGlTnugG",
      "include_colab_link": true
    },
    "kernelspec": {
      "name": "python3",
      "display_name": "Python 3"
    }
  },
  "cells": [
    {
      "cell_type": "markdown",
      "metadata": {
        "id": "view-in-github",
        "colab_type": "text"
      },
      "source": [
        "<a href=\"https://colab.research.google.com/github/choi-yh/DataStructure/blob/master/1_1_Basic.ipynb\" target=\"_parent\"><img src=\"https://colab.research.google.com/assets/colab-badge.svg\" alt=\"Open In Colab\"/></a>"
      ]
    },
    {
      "cell_type": "markdown",
      "metadata": {
        "id": "xHJ9SC2ip9Mh",
        "colab_type": "text"
      },
      "source": [
        "* JAVA의 integer 자료형은 16비트에 저장.   \n",
        " -2^15 ~ 2^15-1 (0 포함) $\\Rightarrow$ -32768 ~ 32767"
      ]
    },
    {
      "cell_type": "markdown",
      "metadata": {
        "id": "RzsEZxgSqbfA",
        "colab_type": "text"
      },
      "source": [
        "* Python에서는 모든 것이 객체, 객체 생성시 객체의 자료와 주소의 두개 메모리를 사용한다.  \n",
        "* Soft Copy vs Hard Copy : Soft Copy는 주소만 복사, Hard Copy는 물리적으로 복사하여 새로운 주소에 저장"
      ]
    },
    {
      "cell_type": "code",
      "metadata": {
        "id": "WTGlh2a7qw4U",
        "colab_type": "code",
        "outputId": "b5184625-6465-43a6-f93f-fece992236bf",
        "colab": {
          "base_uri": "https://localhost:8080/",
          "height": 35
        }
      },
      "source": [
        "# Soft Copy\n",
        "a = [1, 2, 3]\n",
        "b = a\n",
        "print(id(a), id(b))"
      ],
      "execution_count": 0,
      "outputs": [
        {
          "output_type": "stream",
          "text": [
            "140167463718344 140167463718344\n"
          ],
          "name": "stdout"
        }
      ]
    },
    {
      "cell_type": "code",
      "metadata": {
        "id": "1NRaEK-drpUW",
        "colab_type": "code",
        "outputId": "b5dbbb97-77a5-483f-9945-ccf085e34fa8",
        "colab": {
          "base_uri": "https://localhost:8080/",
          "height": 35
        }
      },
      "source": [
        "# Hard Copy\n",
        "c = a[:]\n",
        "print(id(a), id(c))"
      ],
      "execution_count": 0,
      "outputs": [
        {
          "output_type": "stream",
          "text": [
            "140167463718344 140167463718600\n"
          ],
          "name": "stdout"
        }
      ]
    },
    {
      "cell_type": "markdown",
      "metadata": {
        "id": "eXU3W2Myrs6n",
        "colab_type": "text"
      },
      "source": [
        "* Python의 list 자료형은 ArrayList가 일반적. 각 메모리의 주소를 가지고 온다."
      ]
    },
    {
      "cell_type": "markdown",
      "metadata": {
        "id": "CejIVAOdsjzV",
        "colab_type": "text"
      },
      "source": [
        "* ADT와 Data Structure  \n",
        "ADT : 데이터와 관련 연산  \n",
        "Data Structure : 데이터와 구체적인 연산  \n",
        "ADT를 통해 구체적으로 구현한다."
      ]
    },
    {
      "cell_type": "code",
      "metadata": {
        "id": "FuXFsfrUtA2O",
        "colab_type": "code",
        "colab": {}
      },
      "source": [
        ""
      ],
      "execution_count": 0,
      "outputs": []
    }
  ]
}