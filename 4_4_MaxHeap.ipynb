{
  "nbformat": 4,
  "nbformat_minor": 0,
  "metadata": {
    "colab": {
      "name": "4_4_MaxHeap.ipynb",
      "provenance": [],
      "collapsed_sections": [],
      "authorship_tag": "ABX9TyM8/Ke2OvAD0CWXsmUl3teE",
      "include_colab_link": true
    },
    "kernelspec": {
      "name": "python3",
      "display_name": "Python 3"
    }
  },
  "cells": [
    {
      "cell_type": "markdown",
      "metadata": {
        "id": "view-in-github",
        "colab_type": "text"
      },
      "source": [
        "<a href=\"https://colab.research.google.com/github/choi-yh/DataStructure/blob/master/4_4_MaxHeap.ipynb\" target=\"_parent\"><img src=\"https://colab.research.google.com/assets/colab-badge.svg\" alt=\"Open In Colab\"/></a>"
      ]
    },
    {
      "cell_type": "markdown",
      "metadata": {
        "id": "K4xjeTbYLESW",
        "colab_type": "text"
      },
      "source": [
        "* 완전이진트리 구조이고 부모노드는 자식노드보다 크거나 같다.(Max Heap)\n",
        "* 반대로 부모노드가 자식노드 보다 작거나 같은 완전 이진트리를 최소 힙(Min Heap)이라고 한다.\n",
        "\n",
        " ![]( https://drive.google.com/uc?id=1XV2SrlJC4JUtYLxm6kKXEEPsNRTik9sk) </center>\n",
        "  "
      ]
    },
    {
      "cell_type": "markdown",
      "metadata": {
        "id": "bwXCKRXcNiRi",
        "colab_type": "text"
      },
      "source": [
        "* 리스트를 이용하여 구현 가능하다.\n",
        "* 리스트의 0번째는 None으로 하고 1번째 부터 추가한다.\n",
        "* push 연산은  item을 마지막 위치에 삽입하고 마지막 위치부터 루트까지 힙구조를 맞추는 자리바꿈을 실시한다.\n",
        "* pop연산은 item에 저장하고 최대값이 더 이상 힙에 필요 없으므로 마지막 노드와 위치를 바꾼 다음 마지막 노드를 지워 힙 크기를 줄인다.\n",
        "*  heapify 연산은 부모노드를 루트부터 끝까지 탐색하면서 힙구조에 맞지 않을 경우 자리 바꿈을 실시한다.\n",
        "\n",
        "* MaxHeap의 ADT\n",
        "  * 초기상태: x=[None]\n",
        "  * push method: item을 리스트 마지막에 추가한다. 마지막 위치에 추가된 아이템이 MaxHeap 성질을 만족하지 않으면 부모노드와 자리바꿈을 실시하는 과정을 루트까지 반복한다.\n",
        "  \n",
        "  * pop method: x[1]을 keep하고 x[1]과 리스트 마지막 아이템 자리를 바꾼다. 이후, 리스트에서 마지막 아이템을 제외하고 heapify 한다.\n",
        "  \n",
        "  * exchange method: i,j 인덱스로 부터 x[i] < x[j] 이면 자리를 바꿔 x[i] >  x[j] 가 되도록 한다.\n",
        "  \n",
        "  * child method: 부모 인덱스로 부터 좌, 우 자식 인덱스를 리턴한다. 단, 자식 인덱스가 리스트 바깥이면 None을 리턴한다.\n",
        "  * heapify method: 루트 노트부터 모든 노드를 돌면서 좌, 우 자식노드와 비교하여 자리바꿈을 실시한다."
      ]
    },
    {
      "cell_type": "code",
      "metadata": {
        "id": "MJxG4LvSyRQa",
        "colab_type": "code",
        "outputId": "d746e62f-248b-4541-8a36-9315db7e1878",
        "colab": {
          "base_uri": "https://localhost:8080/",
          "height": 179
        }
      },
      "source": [
        "class maxHeap:\n",
        "    def __init__(self):\n",
        "        self.x = [None]\n",
        "\n",
        "    def _exchange(self, i, j):\n",
        "        if self.x[i] < self.x[j]:\n",
        "            self.x[i], self.x[j] = self.x[j], self.x[i]\n",
        "    \n",
        "    def push(self, item):\n",
        "        self.x.append(item)\n",
        "        cIndex = len(self.x) - 1\n",
        "        pIndex = cIndex // 2\n",
        "        while pIndex >= 1:\n",
        "            self._exchange(pIndex, cIndex) # 자식 노드의 값이 더 크다면 자리바꿈\n",
        "            cIndex = pIndex\n",
        "            pIndex = cIndex // 2\n",
        "\n",
        "    def pop(self):\n",
        "        item = self.x[1]\n",
        "        self.x[1] = self.x[-1]\n",
        "        self.x = self.x[:-1]\n",
        "        self.heapify()\n",
        "        return item\n",
        "\n",
        "    # 부모 인덱스를 받아 자식 인덱스를 리턴. 리스트 밖에 있는지 확인\n",
        "    def _child(self, pIndex):\n",
        "        n = len(self.x) - 1\n",
        "        leftIndex = pIndex * 2\n",
        "        rightIndex = pIndex * 2 + 1\n",
        "        if rightIndex <= n:\n",
        "            return leftIndex, rightIndex\n",
        "        elif leftIndex == n:\n",
        "            return leftIndex, None\n",
        "        else:\n",
        "            return None, None\n",
        "\n",
        "    def heapify(self):\n",
        "        pIndex = 1\n",
        "        lastIndex = len(self.x) - 1\n",
        "        while pIndex <= lastIndex:\n",
        "            left, right = self._child(pIndex)\n",
        "            if left != None and right != None:\n",
        "                if self.x[left] <= self.x[right]:\n",
        "                    self._exchange(pIndex, right)\n",
        "                else:\n",
        "                    self._exchange(pIndex, left)\n",
        "            elif left != None and right == None:\n",
        "                self._exchange(pIndex, left)\n",
        "            pIndex += 1\n",
        "\n",
        "    def print(self):\n",
        "        print(self.x)\n",
        "\n",
        "\n",
        "h = maxHeap()\n",
        "for i in range(1, 9):\n",
        "    h.push(i)\n",
        "h.print()\n",
        "\n",
        "for i in range(8):\n",
        "    print(h.pop())"
      ],
      "execution_count": 0,
      "outputs": [
        {
          "output_type": "stream",
          "text": [
            "[None, 8, 7, 6, 4, 3, 2, 5, 1]\n",
            "8\n",
            "7\n",
            "6\n",
            "5\n",
            "4\n",
            "3\n",
            "2\n",
            "1\n"
          ],
          "name": "stdout"
        }
      ]
    },
    {
      "cell_type": "code",
      "metadata": {
        "id": "fHN1Bp2Zx0Nx",
        "colab_type": "code",
        "colab": {}
      },
      "source": [
        ""
      ],
      "execution_count": 0,
      "outputs": []
    }
  ]
}