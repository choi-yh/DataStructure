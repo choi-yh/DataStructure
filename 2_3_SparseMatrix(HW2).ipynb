{
  "nbformat": 4,
  "nbformat_minor": 0,
  "metadata": {
    "colab": {
      "name": "2_3_SparseMatrix(HW2).ipynb",
      "provenance": [],
      "collapsed_sections": [],
      "authorship_tag": "ABX9TyOR/dbBKsvIhkIJEcd4BC1p",
      "include_colab_link": true
    },
    "kernelspec": {
      "name": "python3",
      "display_name": "Python 3"
    }
  },
  "cells": [
    {
      "cell_type": "markdown",
      "metadata": {
        "id": "view-in-github",
        "colab_type": "text"
      },
      "source": [
        "<a href=\"https://colab.research.google.com/github/choi-yh/DataStructure/blob/master/2_3_SparseMatrix(HW2).ipynb\" target=\"_parent\"><img src=\"https://colab.research.google.com/assets/colab-badge.svg\" alt=\"Open In Colab\"/></a>"
      ]
    },
    {
      "cell_type": "markdown",
      "metadata": {
        "id": "gI7P-7p-g4lY",
        "colab_type": "text"
      },
      "source": [
        "* **희소행렬** 이란: 행렬 원소에 0이 많이 포함된 행렬  \n",
        "* 희소행렬에서의 0도 메모리를 차지한다.  \n",
        "* *Term Document Matrix*가 대표적인 희소행렬 (big data에서)  \n",
        "\n",
        "* (row, column, element)의 형태로 저장한다. $\\Rightarrow$ 효율적으로 저장가능  \n"
      ]
    },
    {
      "cell_type": "markdown",
      "metadata": {
        "id": "fG98aTdvhXv-",
        "colab_type": "text"
      },
      "source": [
        "* SparseMatrix 자료구조  \n",
        "    * 행렬의 dimension m, n 을 입력받아 희소행렬 리스트를 [[m, n, 0]]로 초기설정한다.  \n",
        "    * append 메소드: [i, j, value] 형태의 리스트를 희소행렬 리스트에 추가한다.  \n",
        "    * shape 메소드: 희소행렬의 dimension을 리턴한다.\n",
        "    * getValue 메소드: i, j 행렬값을 리턴한다.\n",
        "    * print 메소드: 희소행렬을 일반적 행렬 형태로 출력한다. (0으로 구성된 m,n array를 만들고 i,j 행렬값을 업데이트하여 출력한다.)"
      ]
    },
    {
      "cell_type": "code",
      "metadata": {
        "id": "0Tuy8HRci1Eq",
        "colab_type": "code",
        "outputId": "184c21a6-1415-44d3-e85b-97de6f505fe9",
        "colab": {
          "base_uri": "https://localhost:8080/",
          "height": 125
        }
      },
      "source": [
        "import numpy as np\n",
        "class SparseMatrix:\n",
        "    def __init__(self, m, n):\n",
        "        self.s = [[m, n, 0]] # header\n",
        "        self.m = m\n",
        "        self.n = n\n",
        "\n",
        "    def append(self, i, j, value):\n",
        "        self.s.append([i, j, value])\n",
        "        self.s[0][2] += 1\n",
        "        \n",
        "    def shape(self):\n",
        "        return self.m, self.n\n",
        "\n",
        "    def getValue(self, row, col):\n",
        "        for i in range(1, self.s[0][2]+1):\n",
        "            if (self.s[i][0] == row) and (self.s[i][1] == col):\n",
        "                return self.s[i][2]\n",
        "        return 0\n",
        "\n",
        "    def print(self):\n",
        "        mat = np.zeros((self.m, self.n))\n",
        "        for i in range(1, len(self.s)):\n",
        "            mat[self.s[i][0]-1, self.s[i][1]-1] = self.s[i][2]\n",
        "        print(mat)\n",
        "    \n",
        "    # 행렬 덧셈 메소드\n",
        "    @classmethod\n",
        "    def add(cls, a, b):\n",
        "        if a.shape() != b.shape():\n",
        "            print(\"두 행렬의 차원이 다릅니다.\")\n",
        "            return None\n",
        "        else:\n",
        "            mat = SparseMatrix(a.m, a.n)\n",
        "            u = set()\n",
        "            for i in range(1, len(a.s)):\n",
        "                u.add((a.s[i][0], a.s[i][1]))\n",
        "            for j in range(1, len(b.s)):\n",
        "                u.add((b.s[j][0], b.s[j][1]))\n",
        "\n",
        "            for tmp in list(u):\n",
        "                val = a.getValue(tmp[0], tmp[1]) + b.getValue(tmp[0], tmp[1])\n",
        "                if val != 0:\n",
        "                    mat.append(tmp[0], tmp[1], val)\n",
        "            return mat\n",
        "    \n",
        "    # 전치행렬 메소드\n",
        "    @classmethod\n",
        "    def transpose(cls, a):\n",
        "        t_a = SparseMatrix(a.n, a.m)\n",
        "        for i in range(1, len(a.s)):\n",
        "            val = a.getValue(a.s[i][0], a.s[i][1])\n",
        "            if val != 0:\n",
        "                t_a.append(a.s[i][1], a.s[i][0], val)\n",
        "        return t_a       \n",
        "\n",
        "    # 행렬 곱셈 메소드 (HW 2)\n",
        "    @classmethod\n",
        "    def mul(cls, a, b):\n",
        "        m = a.m\n",
        "        n = a.n\n",
        "        l = b.n\n",
        "        if a.n != b.m:\n",
        "            print(\"두 행렬의 곱셈을 할 수 없습니다.\")\n",
        "            return None\n",
        "        else:\n",
        "            c = SparseMatrix(m, l)\n",
        "            for i in range(1, m+1):\n",
        "                for j in range(1, l+1):\n",
        "                    val = 0\n",
        "                    for k in range(1, n+1):\n",
        "                        val += a.getValue(i, k) * b.getValue(k, j)\n",
        "                    if val != 0:\n",
        "                        c.append(i, j, val)\n",
        "            return c\n",
        "\n",
        "\n",
        "a = SparseMatrix(3,3)\n",
        "b = SparseMatrix(3,3)\n",
        "\n",
        "a.append(1,1,1)\n",
        "a.append(2,2,2)\n",
        "a.append(3,3,3)\n",
        "\n",
        "b.append(1,1,4)\n",
        "b.append(1,2,7)\n",
        "b.append(2,3,2)\n",
        "b.append(3,3,1)\n",
        "\n",
        "a.print()\n",
        "b.print()"
      ],
      "execution_count": 0,
      "outputs": [
        {
          "output_type": "stream",
          "text": [
            "[[1. 0. 0.]\n",
            " [0. 2. 0.]\n",
            " [0. 0. 3.]]\n",
            "[[4. 7. 0.]\n",
            " [0. 0. 2.]\n",
            " [0. 0. 1.]]\n"
          ],
          "name": "stdout"
        }
      ]
    },
    {
      "cell_type": "code",
      "metadata": {
        "id": "qIV-ITG2ZIt0",
        "colab_type": "code",
        "outputId": "60181da6-da65-45c5-b702-91e151ae28b1",
        "colab": {
          "base_uri": "https://localhost:8080/",
          "height": 71
        }
      },
      "source": [
        "c = SparseMatrix.add(a, b)\n",
        "c.print()"
      ],
      "execution_count": 0,
      "outputs": [
        {
          "output_type": "stream",
          "text": [
            "[[5. 7. 0.]\n",
            " [0. 2. 2.]\n",
            " [0. 0. 4.]]\n"
          ],
          "name": "stdout"
        }
      ]
    },
    {
      "cell_type": "code",
      "metadata": {
        "id": "lzIp5fRRicOf",
        "colab_type": "code",
        "outputId": "3840bab4-a674-4a1a-b0e8-6e7e7bd553e5",
        "colab": {
          "base_uri": "https://localhost:8080/",
          "height": 71
        }
      },
      "source": [
        "t_c = SparseMatrix.transpose(c)\n",
        "t_c.print()"
      ],
      "execution_count": 0,
      "outputs": [
        {
          "output_type": "stream",
          "text": [
            "[[5. 0. 0.]\n",
            " [7. 2. 0.]\n",
            " [0. 2. 4.]]\n"
          ],
          "name": "stdout"
        }
      ]
    },
    {
      "cell_type": "code",
      "metadata": {
        "id": "tvfmSHuOidaF",
        "colab_type": "code",
        "outputId": "01520533-ca0a-4239-f762-dbcf29e8cd2e",
        "colab": {
          "base_uri": "https://localhost:8080/",
          "height": 71
        }
      },
      "source": [
        "d = SparseMatrix.mul(a, b)\n",
        "d.print()"
      ],
      "execution_count": 0,
      "outputs": [
        {
          "output_type": "stream",
          "text": [
            "[[4. 7. 0.]\n",
            " [0. 0. 4.]\n",
            " [0. 0. 3.]]\n"
          ],
          "name": "stdout"
        }
      ]
    },
    {
      "cell_type": "code",
      "metadata": {
        "id": "ww0pa65gjuBf",
        "colab_type": "code",
        "colab": {}
      },
      "source": [
        ""
      ],
      "execution_count": 0,
      "outputs": []
    }
  ]
}