{
  "nbformat": 4,
  "nbformat_minor": 0,
  "metadata": {
    "colab": {
      "name": "4_3_2_Tree_Traversal.ipynb",
      "provenance": [],
      "collapsed_sections": [],
      "authorship_tag": "ABX9TyN1IIUGhOUO9fFDK4CzXVGC",
      "include_colab_link": true
    },
    "kernelspec": {
      "name": "python3",
      "display_name": "Python 3"
    }
  },
  "cells": [
    {
      "cell_type": "markdown",
      "metadata": {
        "id": "view-in-github",
        "colab_type": "text"
      },
      "source": [
        "<a href=\"https://colab.research.google.com/github/choi-yh/DataStructure/blob/master/4_3_2_Tree_Traversal.ipynb\" target=\"_parent\"><img src=\"https://colab.research.google.com/assets/colab-badge.svg\" alt=\"Open In Colab\"/></a>"
      ]
    },
    {
      "cell_type": "markdown",
      "metadata": {
        "id": "o8bxMeKR3DER",
        "colab_type": "text"
      },
      "source": [
        "* **preOrder Algorithm (전위순회)** <br>\n",
        "   Step 1: 방문 <br>\n",
        "   Step 2: 좌측 자식노드에서 재귀 <br>\n",
        "   Step 3: 우측 자식노드에서 재귀\n",
        "\n",
        " ![](https://drive.google.com/uc?id=1SKryd5l_rTsDPD362n5310pl2qtz2uDe) </center>\n",
        "<font size = '5'>\n",
        "<font color='red' >A->B->D->H-></font> 4->3->2-><font color='red' >E->I-></font>6->5-><font color='red' >J-></font>7->1-><font color='red' >C->F-></font>9->8-><font color='red' >G-></font>10-><font color='red' >K-></font>11 <br></center></font>"
      ]
    },
    {
      "cell_type": "markdown",
      "metadata": {
        "id": "w0xHgZpS3M_i",
        "colab_type": "text"
      },
      "source": [
        "* **inOrder Algorithm (중위순회)** <br>\n",
        "   \n",
        "   Step 1: 좌측 자식노드에서 재귀 <br>\n",
        "   Step 2: 방문 <br>\n",
        "   Step 3: 우측 자식노드에서 재귀\n",
        "   \n",
        " ![](https://drive.google.com/uc?id=1qQoZ2cCnHpvoI6xH5kOHuFgfmFI_e3g4) </center>\n",
        "   \n",
        "\n",
        "   \n",
        "\n",
        " "
      ]
    },
    {
      "cell_type": "markdown",
      "metadata": {
        "id": "rDRBz8Mb3O1M",
        "colab_type": "text"
      },
      "source": [
        " * **postOrder Algorithm (후위순회)** <br>\n",
        "   \n",
        "   Step 1: 좌측 자식노드에서 재귀 <br>\n",
        "   Step 2: 우측 자식노드에서 재귀 <br>\n",
        "   Step 3: 방문 \n",
        "   \n",
        " ![](https://drive.google.com/uc?id=1glMGvtZT31BXOpKthE54ApMKYdBgFIDu) </center>"
      ]
    },
    {
      "cell_type": "code",
      "metadata": {
        "id": "h7yBbmdU3RNv",
        "colab_type": "code",
        "colab": {}
      },
      "source": [
        "class BNode:\n",
        "    def __init__(self, item=None):\n",
        "        self.item = item\n",
        "        self.left = None\n",
        "        self.right = None\n",
        "\n",
        "    def setLeft(self, node):\n",
        "        self.left = node\n",
        "\n",
        "    def setRight(self, node):\n",
        "        self.right = node\n",
        "\n",
        "class BinaryTree:\n",
        "    def __init__(self, root):\n",
        "        self.root = root\n",
        "\n",
        "    def preOrder(self, n):\n",
        "        print(n.item, end=' ')\n",
        "        if n.left: self.preOrder(n.left)\n",
        "        if n.right: self.preOrder(n.right)\n",
        "\n",
        "    def inOrder(self, n):\n",
        "        if n.left: self.inOrder(n.left)\n",
        "        print(n.item, end=' ')\n",
        "        if n.right: self.inOrder(n.right)\n",
        "\n",
        "    def postOrder(self, n):\n",
        "        if n.left: self.postOrder(n.left)\n",
        "        if n.right: self.postOrder(n.right)\n",
        "        print(n.item, end=' ')\n",
        "\n",
        "    # 트리에 높이를 구하는 메소드\n",
        "    # 왼쪽 노드 끝까지 가보고, 오른쪽 노드 끝까지 가본다.\n",
        "    def height(self, n):\n",
        "        if n == None:\n",
        "            return 0\n",
        "        else:\n",
        "            # 각 노드에서의 서브트리 높이를 계산\n",
        "            lheight = self.height(n.left)\n",
        "            rheight = self.height(n.right)\n",
        "            # 각 노드별로 끝이 됐을 때, 리턴 값을 프린트한다.\n",
        "            # print('{}, lheight: {}, rheight: {}'.format(n.item, lheight, rheight))\n",
        "            if lheight > rheight:\n",
        "                return lheight + 1\n",
        "            else:\n",
        "                return rheight + 1\n",
        "\n",
        "    def levelOrder(self):\n",
        "        h = self.height(self.root)\n",
        "        for i in range(1, h+1):\n",
        "            self._levelOrder(self.root, i)\n",
        "            print()\n",
        "\n",
        "    # 특정 노드의 레벨에 해당하는 노드를 프린트한다.\n",
        "    # 예: 루트에서 레벨 2를 프린트한다면 레벨을 한 단계 낮춰 루트 좌우로 이동한다.\n",
        "    # 이후, 레벨 1이 되므로 루트의 좌, 우 노드가 프린트 된다.\n",
        "    # 루트에서 레벨 3을 프린트 한다면 레벨을 한 단계 낮춘 상태 즉 루트 바로 밑을 루트로 보고 재귀적으로 레벨 2를 수행하는 것이다.\n",
        "    def _levelOrder(self, node, level):\n",
        "        if node is None:\n",
        "            return\n",
        "        if level == 1:\n",
        "            print(node.item, end=' ')\n",
        "        elif level > 1:\n",
        "            self._levelOrder(node.left, level-1)\n",
        "            self._levelOrder(node.right, level-1)"
      ],
      "execution_count": 0,
      "outputs": []
    },
    {
      "cell_type": "code",
      "metadata": {
        "id": "eOA506in5CXJ",
        "colab_type": "code",
        "outputId": "88723fef-06db-4d51-9784-d95b6e4987ee",
        "colab": {
          "base_uri": "https://localhost:8080/",
          "height": 228
        }
      },
      "source": [
        "a = BNode('A')\n",
        "b = BNode('B')\n",
        "c = BNode('C')\n",
        "d = BNode('D')\n",
        "e = BNode('E')\n",
        "f = BNode('F')\n",
        "g = BNode('G')\n",
        "h = BNode('H')\n",
        "i = BNode('I')\n",
        "j = BNode('J')\n",
        "k = BNode('K')\n",
        "l = BNode('L')\n",
        "\n",
        "a.setLeft(b)\n",
        "a.setRight(c)\n",
        "b.setLeft(d)\n",
        "b.setRight(e)\n",
        "c.setLeft(f)\n",
        "c.setRight(g)\n",
        "d.setLeft(h)\n",
        "d.setRight(i)\n",
        "e.setLeft(j)\n",
        "e.setRight(k)\n",
        "f.setLeft(l)\n",
        "\n",
        "t = BinaryTree(a)\n",
        "print(\"preOrder\")\n",
        "t.preOrder(a)\n",
        "print(\"\\ninOrder\")\n",
        "t.inOrder(a)\n",
        "print(\"\\npostOrder\")\n",
        "t.postOrder(a)\n",
        "\n",
        "print()\n",
        "t.height(a)\n",
        "\n",
        "print(\"\\nlevelOrder\")\n",
        "t.levelOrder()"
      ],
      "execution_count": 0,
      "outputs": [
        {
          "output_type": "stream",
          "text": [
            "preOrder\n",
            "A B D H I E J K C F L G \n",
            "inOrder\n",
            "H D I B J E K A L F C G \n",
            "postOrder\n",
            "H I D J K E B L F G C A \n",
            "\n",
            "levelOrder\n",
            "A \n",
            "B C \n",
            "D E F G \n",
            "H I J K L \n"
          ],
          "name": "stdout"
        }
      ]
    },
    {
      "cell_type": "code",
      "metadata": {
        "id": "1ssdDTUY7zOT",
        "colab_type": "code",
        "colab": {}
      },
      "source": [
        ""
      ],
      "execution_count": 0,
      "outputs": []
    }
  ]
}