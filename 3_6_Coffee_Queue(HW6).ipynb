{
  "nbformat": 4,
  "nbformat_minor": 0,
  "metadata": {
    "colab": {
      "name": "3_6_Coffee_Queue(HW6).ipynb",
      "provenance": [],
      "collapsed_sections": [],
      "authorship_tag": "ABX9TyNHLcoxzILONe7JZ1idmCsy",
      "include_colab_link": true
    },
    "kernelspec": {
      "name": "python3",
      "display_name": "Python 3"
    }
  },
  "cells": [
    {
      "cell_type": "markdown",
      "metadata": {
        "id": "view-in-github",
        "colab_type": "text"
      },
      "source": [
        "<a href=\"https://colab.research.google.com/github/choi-yh/DataStructure/blob/master/3_6_Coffee_Queue(HW6).ipynb\" target=\"_parent\"><img src=\"https://colab.research.google.com/assets/colab-badge.svg\" alt=\"Open In Colab\"/></a>"
      ]
    },
    {
      "cell_type": "markdown",
      "metadata": {
        "id": "UOI3uGH0vHRD",
        "colab_type": "text"
      },
      "source": [
        "* Queue 응용 문제\n",
        "    * 커피가게에 손님이 도착해서 커피를 사가지고 나가는 과정에서 커피를 주문해서 받는 시간까지를 Queue로 본다.\n",
        "    * Queue 길이가 길면 손님이 다른 가게로 이동하므로 Queue 길이를 너무 길지 않도록 관리하는 것이 중요하다.\n",
        "    * 커피가게 손님 도착간격을 확률변수 X 라고 하자."
      ]
    },
    {
      "cell_type": "markdown",
      "metadata": {
        "id": "JhX561BVr2bQ",
        "colab_type": "text"
      },
      "source": [
        "* 사건이 서로 독립적일때, 일정 시간동안 발생하는 사건의 횟수가 **포아송 분포**(단위 시간 안에 어떤 사건이 몇 번 발생할 것인지 표현하는 이산 확률 분포)를 따른다면, 다음 사건이 일어날 때까지 *대기 시간*은 **지수 분포**를 따른다.  \n",
        "$$X \\sim exp(\\lambda) \\leftarrow \\text{확률변수 X는 모수}\\ \\lambda \\ \\text{의 지수분포를 따른다.}$$  \n",
        "\n",
        "$$f(x) = \\frac{1}{\\lambda}exp(-\\frac{x}{\\lambda}), \\ E(X) = \\lambda, \\ V(X) = \\lambda^2$$"
      ]
    },
    {
      "cell_type": "code",
      "metadata": {
        "id": "ug5sYE4WtyJX",
        "colab_type": "code",
        "outputId": "041b8ae0-7e05-4111-9019-17959eb289d7",
        "colab": {
          "base_uri": "https://localhost:8080/",
          "height": 265
        }
      },
      "source": [
        "# Pr(x > X) : 도착까지 대기시간이 x를 초과할 확률 (x 이후의 면적)\n",
        "\n",
        "import numpy as np\n",
        "import matplotlib.pyplot as plt\n",
        "\n",
        "lamda = 1\n",
        "x = np.linspace(0, 10, 100)\n",
        "pdf = (1/lamda) * np.exp(-x/lamda)\n",
        "\n",
        "plt.plot(x, pdf)\n",
        "plt.show()"
      ],
      "execution_count": 0,
      "outputs": [
        {
          "output_type": "display_data",
          "data": {
            "image/png": "[encoded data removed]",
            "text/plain": [
              "<Figure size 432x288 with 1 Axes>"
            ]
          },
          "metadata": {
            "tags": [],
            "needs_background": "light"
          }
        }
      ]
    },
    {
      "cell_type": "code",
      "metadata": {
        "id": "a9IXGrRsuJGt",
        "colab_type": "code",
        "outputId": "fa76fcd3-8ab2-4b0c-b98e-79b43994d9a7",
        "colab": {
          "base_uri": "https://localhost:8080/",
          "height": 125
        }
      },
      "source": [
        "# x는 오픈 시간 후, 랜덤하게 고객이 도착하는 시간을 의미한다.\n",
        "np.random.seed(seed=1)\n",
        "x = np.random.exponential(1, 10)\n",
        "print('xtime: ', x) # 손님 간 시간 간격\n",
        "print(np.mean(x), np.std(x))\n",
        "\n",
        "endTime = np.cumsum(x)\n",
        "print('endTime: ', endTime) # 고객이 도착한 시간"
      ],
      "execution_count": 0,
      "outputs": [
        {
          "output_type": "stream",
          "text": [
            "xtime:  [5.39605837e-01 1.27412525e+00 1.14381359e-04 3.60012755e-01\n",
            " 1.58709595e-01 9.68838717e-02 2.06114634e-01 4.23976482e-01\n",
            " 5.05452542e-01 7.73959775e-01]\n",
            "0.43389551257941206 0.35676829778886443\n",
            "endTime:  [0.53960584 1.81373109 1.81384547 2.17385823 2.33256782 2.42945169\n",
            " 2.63556633 3.05954281 3.56499535 4.33895513]\n"
          ],
          "name": "stdout"
        }
      ]
    },
    {
      "cell_type": "code",
      "metadata": {
        "id": "K2vJ_VZFvbJk",
        "colab_type": "code",
        "outputId": "1c1b3c63-b72e-458c-e477-5440c9a5b5cc",
        "colab": {
          "base_uri": "https://localhost:8080/",
          "height": 35
        }
      },
      "source": [
        "# 난수 : 난해한 수, 어려운 수, 규칙성이 없는 수\n",
        "# 0 ~ 1 사이의 난수 만들기\n",
        "# 컴퓨터의 난수 생성 방법 : 현재 시간을 이용하여 정수 하나를 만들어냄. 그 정수를 가장 큰 정수값으로 나눈 나머지를 리턴\n",
        "# 지수분포를 따르는 난수\n",
        "\n",
        "import numpy as np\n",
        "x = np.random.uniform()\n",
        "print(x)"
      ],
      "execution_count": 0,
      "outputs": [
        {
          "output_type": "stream",
          "text": [
            "0.4191945144032948\n"
          ],
          "name": "stdout"
        }
      ]
    },
    {
      "cell_type": "markdown",
      "metadata": {
        "id": "uppNx4pawkkq",
        "colab_type": "text"
      },
      "source": [
        " * 참고: 지수분포 난수를 어떻게 만들 수 있는가?(Inverse Transform Sampling)\n",
        "\n",
        "    * 모든 난수는 U(0,1) 로 부터 만들 수 있다.\n",
        "    * $ X \\sim F(x) $ 일때 , $ X = F^{-1}(U), U \\sim U(0,1) $ 의 CDF는 F(x)가 성립한다.\n",
        "\n",
        "$ \\hspace{33pt} f(x) = \\frac {1}{\\lambda} exp(-\\frac {x}{\\lambda}) $\n",
        "\n",
        "$$ F(x) = \\int_0^x f(x) dx =  \\int_0^x \\frac {1}{\\lambda} exp(-\\frac {x}{\\lambda}) dx = 1-exp(-\\frac {x}{\\lambda})\\quad \\text{적분은 미분의 반대}$$  \n",
        "\n",
        "$$ U = 1-exp(-\\frac {x}{\\lambda}) $$\n",
        "$$ U = exp(-\\frac {x}{\\lambda}) $$\n",
        "$$ ln \\ U = -\\frac {x}{\\lambda} $$\n",
        "\n",
        "$$ \\therefore X = - \\lambda \\cdot  ln \\ U$$\n",
        "<center><img src=\"https://drive.google.com/uc?id=1EqPQBYTEyZ5udKYJK4FafgG3wZSmNX0D\" width=\"300\" height=\"200\"></center>\n",
        "\n"
      ]
    },
    {
      "cell_type": "code",
      "metadata": {
        "id": "r2xjBwbPyKEg",
        "colab_type": "code",
        "outputId": "1d767191-1a91-48ad-a106-831666875f9e",
        "colab": {
          "base_uri": "https://localhost:8080/",
          "height": 265
        }
      },
      "source": [
        "import matplotlib.pyplot as plt\n",
        "\n",
        "lamda = 1\n",
        "x = np.linspace(0, 10, 100)\n",
        "cdf = 1 - np.exp(-x/lamda)\n",
        "\n",
        "plt.plot(x, cdf)\n",
        "plt.show()"
      ],
      "execution_count": 0,
      "outputs": [
        {
          "output_type": "display_data",
          "data": {
            "image/png": "[encoded data removed]",
            "text/plain": [
              "<Figure size 432x288 with 1 Axes>"
            ]
          },
          "metadata": {
            "tags": [],
            "needs_background": "light"
          }
        }
      ]
    },
    {
      "cell_type": "code",
      "metadata": {
        "id": "RLSd62WDzqN_",
        "colab_type": "code",
        "outputId": "c34f253d-82df-44a3-b64f-873b4b4d98ad",
        "colab": {
          "base_uri": "https://localhost:8080/",
          "height": 265
        }
      },
      "source": [
        "import numpy as np\n",
        "import matplotlib.pyplot as plt\n",
        "\n",
        "f, ax = plt.subplots(1, 3)\n",
        "\n",
        "u = np.random.random(1000)\n",
        "lamda = 1\n",
        "x = -lamda * np.log(u) # 난수들을 지수 분포 난수로 만들어줄 수 있다.\n",
        "\n",
        "e = np.random.exponential(size=1000)\n",
        "\n",
        "ax[0].hist(u, bins='auto') # 일반 난수\n",
        "ax[1].hist(x, bins='auto') # 지수 분포 난수 식 이용\n",
        "ax[2].hist(e, bins='auto') # numpy random exponential\n",
        "plt.show()"
      ],
      "execution_count": 13,
      "outputs": [
        {
          "output_type": "display_data",
          "data": {
            "image/png": "[encoded data removed]",
            "text/plain": [
              "<Figure size 432x288 with 3 Axes>"
            ]
          },
          "metadata": {
            "tags": [],
            "needs_background": "light"
          }
        }
      ]
    },
    {
      "cell_type": "markdown",
      "metadata": {
        "id": "6VnIriomz2Vi",
        "colab_type": "text"
      },
      "source": [
        "* 손님이 도착해서 커피를 주문하고 받는 시간을 확률변수 Y라고 하고 $Y \\sim N(1, 0.2^2)$ 이라고 가정하자.  \n",
        "* 그러면 손님이 커피를 가지고 나가는 시간은 아래와 같이 모의실험 할 수 있다.  "
      ]
    },
    {
      "cell_type": "code",
      "metadata": {
        "id": "NF8wlrGD0Y-j",
        "colab_type": "code",
        "outputId": "7fa30050-d114-4dea-cc46-9a676c41e55f",
        "colab": {
          "base_uri": "https://localhost:8080/",
          "height": 53
        }
      },
      "source": [
        "# 나간 시간 = 도착 시간 + cooking Time\n",
        "\n",
        "np.random.seed(seed=1)\n",
        "cookTime = np.random.normal(1, 0.2, 10)\n",
        "cookTime = np.where(cookTime < 0, 0, cookTime)\n",
        "cookTime"
      ],
      "execution_count": 0,
      "outputs": [
        {
          "output_type": "execute_result",
          "data": {
            "text/plain": [
              "array([1.32486907, 0.87764872, 0.89436565, 0.78540628, 1.17308153,\n",
              "       0.53969226, 1.34896235, 0.84775862, 1.06380782, 0.95012592])"
            ]
          },
          "metadata": {
            "tags": []
          },
          "execution_count": 6
        }
      ]
    },
    {
      "cell_type": "code",
      "metadata": {
        "id": "_XU_70LE0oB6",
        "colab_type": "code",
        "outputId": "926127dd-aa5e-40ab-f090-63e9db94d7b8",
        "colab": {
          "base_uri": "https://localhost:8080/",
          "height": 35
        }
      },
      "source": [
        "np.mean(cookTime), np.std(cookTime)"
      ],
      "execution_count": 0,
      "outputs": [
        {
          "output_type": "execute_result",
          "data": {
            "text/plain": [
              "(0.9805718218387799, 0.23817971041278044)"
            ]
          },
          "metadata": {
            "tags": []
          },
          "execution_count": 7
        }
      ]
    },
    {
      "cell_type": "markdown",
      "metadata": {
        "id": "RoV00OLm04Ga",
        "colab_type": "text"
      },
      "source": [
        "* 아래는 큐 대기인원을 계산한 예다. 이 예에서는 CookTime = 1분으로 고정했다.\n",
        "\n",
        "<center><img src=\"https://drive.google.com/uc?id=1BRqUT8geULTRVMw6uYsId7B3kvFvLoj4\" width=\"400\" height=\"250\"></center>\n",
        "\n",
        "<font color='red'>H.W # 6: 위의 예처럼 오전 8시에 시작해서 오후 10시에 종료하는 커피가게 큐 대기인원의 분포를 모의실험하시오.</font>\n",
        "* 큐에 최대 인원은 몇 명인가?\n",
        "* 시간대 별로 도착시간 분포를 조정해 보세요 즉, 점심시간에는 사람이 붐비게 해 봅시다.\n",
        "* 주문을 두명이 받는다면 어떻게 되는가?\n",
        "\n",
        "Hint>\n",
        "* Cust Class를 만들고, arriveTime, orderTime, outTime을 관리한다.\n",
        "* Shop Class를 만들고, custQueue를 만든다.\n",
        "  * getSize method: 큐 크기를 구한다.\n",
        "  * entCust method: 큐에 cust를 넣는다.\n",
        "  * outCust method: 큐에서 cust를 내보낸다.(조건은 현재 시간보다 outTime이 작은 cust는 deQueue 한다.)\n",
        "  * getLast method: 큐에 가장 최근에 들어간 고객을 리턴한다.\n",
        "  \n",
        "* main 프로그램\n",
        "  * 커피가게를 만든다.\n",
        "  * curTime = 0 (8시) 부터 14\\*60 분 보다 작을 때까지 아래를 반복한다.\n",
        "  * 고객을 생성한다.  (도착시간 정의)\n",
        "  * 큐에 고객이 없으면 현재 고객의 orderTime = arriveTime이고 고객이 있으면 최근에 들어간 고객의 outTime 이다.\n",
        "  *  outTime = orderTime + cookTime\n",
        "  * 고객을 큐에 넣는다.\n",
        "  * curTime을 현재 고객의 arriveTime으로 한다.\n",
        "  * 큐에서 curTime 보다 outTime이 과거인 고객은 deQueue한다."
      ]
    },
    {
      "cell_type": "code",
      "metadata": {
        "id": "UIFE1uJV1AAu",
        "colab_type": "code",
        "colab": {
          "base_uri": "https://localhost:8080/",
          "height": 34
        },
        "outputId": "886e18bd-a87c-413f-f402-26cd78183bc1"
      },
      "source": [
        "class Cust:\n",
        "    def __init__(self, arriveTime=None):\n",
        "        self.arriveTime = arriveTime\n",
        "        self.orderTime = 0\n",
        "        self.outTime = 0\n",
        "        \n",
        "class Shop:\n",
        "    def __init__(self):\n",
        "        self.custQueue = []\n",
        "    \n",
        "    def getSize(self):\n",
        "        return len(self.custQueue)\n",
        "\n",
        "    def entCust(self, cust):\n",
        "        self.custQueue.append(cust)\n",
        "\n",
        "    def outCust(self):\n",
        "        del self.custQueue[0]\n",
        "\n",
        "    def getLast(self):\n",
        "        return self.custQueue[-1]\n",
        "\n",
        "shop = Shop()\n",
        "shop.entCust('영효')\n",
        "shop.entCust('중민')\n",
        "shop.entCust('태호')\n",
        "shop.entCust('채연')\n",
        "shop.getLast()"
      ],
      "execution_count": 9,
      "outputs": [
        {
          "output_type": "execute_result",
          "data": {
            "text/plain": [
              "'채연'"
            ]
          },
          "metadata": {
            "tags": []
          },
          "execution_count": 9
        }
      ]
    },
    {
      "cell_type": "code",
      "metadata": {
        "id": "7e8-nK7P0o44",
        "colab_type": "code",
        "outputId": "1f71a80a-bbad-47dc-ee68-e2e04a559449",
        "colab": {
          "base_uri": "https://localhost:8080/",
          "height": 316
        }
      },
      "source": [
        "import numpy as np\n",
        "np.random.seed(seed=0)\n",
        "\n",
        "shop = Shop()\n",
        "curTime = 0\n",
        "maxCust = 0\n",
        "cookTime = 1\n",
        "while curTime < (60 * 14): # 0800 ~ 2200 (60 * 14 == 840)\n",
        "    arrive = curTime + np.random.exponential() # 도착시간 랜덤 정의\n",
        "    cust = Cust(arrive)\n",
        "    # 큐에 따른 고객의 시간 정의\n",
        "    if shop.getSize() == 0:\n",
        "        cust.orderTime = cust.arriveTime\n",
        "    else:\n",
        "        cust.orderTime = shop.getLast().outTime\n",
        "    cust.outTime = cust.orderTime + cookTime\n",
        "    shop.entCust(cust)\n",
        "    \n",
        "    curTime = cust.arriveTime\n",
        "    hour = curTime // 60 + 8\n",
        "    min = curTime % 60\n",
        "    \n",
        "    for cust in shop.custQueue:\n",
        "        if cust.outTime < curTime:\n",
        "            shop.outCust()\n",
        "    \n",
        "    if maxCust < shop.getSize():\n",
        "        maxCust = shop.getSize()\n",
        "        print('현재 시각: {:>5.1f}시 {:>5.1f}분 \\t 최대 인원은: {:>5}명'.format(hour, min, maxCust))\n",
        "print('현재 시각: {:>5.1f}시 {:>5.1f}분 \\t 문을 닫습니다.'.format(hour, min))"
      ],
      "execution_count": 30,
      "outputs": [
        {
          "output_type": "stream",
          "text": [
            "현재 시각:   8.0시   0.8분 \t 최대 인원은:     1명\n",
            "현재 시각:   8.0시   3.8분 \t 최대 인원은:     2명\n",
            "현재 시각:   9.0시   2.3분 \t 최대 인원은:     3명\n",
            "현재 시각:   9.0시   2.5분 \t 최대 인원은:     4명\n",
            "현재 시각:   9.0시   4.8분 \t 최대 인원은:     5명\n",
            "현재 시각:   9.0시  21.4분 \t 최대 인원은:     6명\n",
            "현재 시각:   9.0시  22.3분 \t 최대 인원은:     7명\n",
            "현재 시각:   9.0시  29.2분 \t 최대 인원은:     8명\n",
            "현재 시각:   9.0시  30.1분 \t 최대 인원은:     9명\n",
            "현재 시각:   9.0시  33.3분 \t 최대 인원은:    10명\n",
            "현재 시각:  11.0시  59.6분 \t 최대 인원은:    11명\n",
            "현재 시각:  12.0시   0.7분 \t 최대 인원은:    12명\n",
            "현재 시각:  13.0시  36.2분 \t 최대 인원은:    13명\n",
            "현재 시각:  13.0시  45.0분 \t 최대 인원은:    14명\n",
            "현재 시각:  13.0시  45.5분 \t 최대 인원은:    15명\n",
            "현재 시각:  14.0시  44.7분 \t 최대 인원은:    16명\n",
            "현재 시각:  22.0시   0.0분 \t 문을 닫습니다.\n"
          ],
          "name": "stdout"
        }
      ]
    },
    {
      "cell_type": "code",
      "metadata": {
        "id": "ZuBEn9_1k_Jn",
        "colab_type": "code",
        "outputId": "619b32dd-418f-42a9-cb82-4b6e59f2ec46",
        "colab": {
          "base_uri": "https://localhost:8080/",
          "height": 756
        }
      },
      "source": [
        "# 점심시간에 사람이 붐비도록 (1200 ~ 1300)\n",
        "\n",
        "import numpy as np\n",
        "np.random.seed(seed=0)\n",
        "\n",
        "shop = Shop()\n",
        "curTime = 0\n",
        "maxCust = 0\n",
        "cookTime = 1\n",
        "while curTime < (60 * 14): # 0800 ~ 2200 (60 * 14 == 840)\n",
        "    # 점심시간 난수 설정\n",
        "    if curTime >= 60 * 4 and curTime < 60 * 5: # 1200 ~ 1300 시간대 조절\n",
        "        arrive = curTime + np.random.exponential(scale=0.7) # scale: lambda 값 조절을 통한 정해진 시간대의 난수 조절\n",
        "    else:\n",
        "        arrive = curTime + np.random.exponential() # 도착시간 랜덤 정의\n",
        "    cust = Cust(arrive)\n",
        "    # 큐에 따른 고객의 시간 정의\n",
        "    if shop.getSize() == 0:\n",
        "        cust.orderTime = cust.arriveTime\n",
        "    else:\n",
        "        cust.orderTime = shop.getLast().outTime\n",
        "    cust.outTime = cust.orderTime + cookTime\n",
        "    shop.entCust(cust)\n",
        "    \n",
        "    curTime = cust.arriveTime\n",
        "    hour = curTime // 60 + 8\n",
        "    min = curTime % 60\n",
        "    \n",
        "    for cust in shop.custQueue:\n",
        "        if cust.outTime < curTime:\n",
        "            shop.outCust()\n",
        "    \n",
        "    if maxCust < shop.getSize():\n",
        "        maxCust = shop.getSize()\n",
        "        \n",
        "        print('현재 시각: {:>5.1f}시 {:>5.1f}분 \\t 최대 인원은: {:>5}명'.format(hour, min, maxCust))\n",
        "print('현재 시각: {:>5.1f}시 {:>5.1f}분 \\t 문을 닫습니다.'.format(hour, min))"
      ],
      "execution_count": 34,
      "outputs": [
        {
          "output_type": "stream",
          "text": [
            "현재 시각:   8.0시   0.8분 \t 최대 인원은:     1명\n",
            "현재 시각:   8.0시   3.8분 \t 최대 인원은:     2명\n",
            "현재 시각:   9.0시   2.3분 \t 최대 인원은:     3명\n",
            "현재 시각:   9.0시   2.5분 \t 최대 인원은:     4명\n",
            "현재 시각:   9.0시   4.8분 \t 최대 인원은:     5명\n",
            "현재 시각:   9.0시  21.4분 \t 최대 인원은:     6명\n",
            "현재 시각:   9.0시  22.3분 \t 최대 인원은:     7명\n",
            "현재 시각:   9.0시  29.2분 \t 최대 인원은:     8명\n",
            "현재 시각:   9.0시  30.1분 \t 최대 인원은:     9명\n",
            "현재 시각:   9.0시  33.3분 \t 최대 인원은:    10명\n",
            "현재 시각:  11.0시  59.6분 \t 최대 인원은:    11명\n",
            "현재 시각:  12.0시   0.6분 \t 최대 인원은:    12명\n",
            "현재 시각:  12.0시  10.2분 \t 최대 인원은:    13명\n",
            "현재 시각:  12.0시  10.2분 \t 최대 인원은:    14명\n",
            "현재 시각:  12.0시  14.8분 \t 최대 인원은:    15명\n",
            "현재 시각:  12.0시  15.3분 \t 최대 인원은:    16명\n",
            "현재 시각:  12.0시  38.4분 \t 최대 인원은:    17명\n",
            "현재 시각:  12.0시  39.1분 \t 최대 인원은:    18명\n",
            "현재 시각:  12.0시  39.1분 \t 최대 인원은:    19명\n",
            "현재 시각:  12.0시  49.1분 \t 최대 인원은:    20명\n",
            "현재 시각:  12.0시  50.0분 \t 최대 인원은:    21명\n",
            "현재 시각:  12.0시  51.1분 \t 최대 인원은:    22명\n",
            "현재 시각:  12.0시  51.2분 \t 최대 인원은:    23명\n",
            "현재 시각:  12.0시  51.2분 \t 최대 인원은:    24명\n",
            "현재 시각:  12.0시  52.2분 \t 최대 인원은:    25명\n",
            "현재 시각:  12.0시  52.6분 \t 최대 인원은:    26명\n",
            "현재 시각:  12.0시  55.7분 \t 최대 인원은:    27명\n",
            "현재 시각:  12.0시  55.8분 \t 최대 인원은:    28명\n",
            "현재 시각:  12.0시  56.1분 \t 최대 인원은:    29명\n",
            "현재 시각:  12.0시  56.3분 \t 최대 인원은:    30명\n",
            "현재 시각:  12.0시  56.7분 \t 최대 인원은:    31명\n",
            "현재 시각:  12.0시  58.6분 \t 최대 인원은:    32명\n",
            "현재 시각:  12.0시  59.1분 \t 최대 인원은:    33명\n",
            "현재 시각:  13.0시   0.2분 \t 최대 인원은:    34명\n",
            "현재 시각:  13.0시   6.4분 \t 최대 인원은:    35명\n",
            "현재 시각:  13.0시   7.1분 \t 최대 인원은:    36명\n",
            "현재 시각:  13.0시   7.7분 \t 최대 인원은:    37명\n",
            "현재 시각:  13.0시   7.7분 \t 최대 인원은:    38명\n",
            "현재 시각:  13.0시  10.5분 \t 최대 인원은:    39명\n",
            "현재 시각:  13.0시  19.3분 \t 최대 인원은:    40명\n",
            "현재 시각:  14.0시  19.0분 \t 최대 인원은:    41명\n",
            "현재 시각:  22.0시   0.0분 \t 문을 닫습니다.\n"
          ],
          "name": "stdout"
        }
      ]
    },
    {
      "cell_type": "code",
      "metadata": {
        "id": "UUivTXxETRD0",
        "colab_type": "code",
        "colab": {
          "base_uri": "https://localhost:8080/",
          "height": 246
        },
        "outputId": "2f8dcf93-7c4f-4fd4-a8f7-2448102b7ca0"
      },
      "source": [
        "# 주문을 두명이서 받을 때 (매장 두군데에서 손님을 받는다고 생각하자)\n",
        "\n",
        "import numpy as np\n",
        "np.random.seed(seed=0)\n",
        "\n",
        "# 큐를 2개 생성\n",
        "shop1 = Shop()\n",
        "shop2 = Shop()\n",
        "\n",
        "curTime = 0\n",
        "maxCust = 0\n",
        "cookTime = 1\n",
        "while curTime < (60 * 14): # 0800 ~ 2200 (60 * 14 == 840)\n",
        "    arrive = curTime + np.random.exponential() # 도착시간 랜덤 정의\n",
        "    cust = Cust(arrive)\n",
        "    # 큐에 따른 고객의 시간 정의\n",
        "    if shop1.getSize() == 0: # shop1에 손님이 없으면 우선적으로 손님을 받는다.\n",
        "        cust.orderTime = cust.arriveTime\n",
        "        cust.outTime = cust.orderTime + cookTime\n",
        "        shop1.entCust(cust)\n",
        "    elif shop1.getSize() != 0 and shop2.getSize() == 0: # shop1에 손님이 있고 shop2에 없을 경우 shop2로 보낸다.\n",
        "        cust.orderTime = cust.arriveTime\n",
        "        cust.outTime = cust.orderTime + cookTime\n",
        "        shop2.entCust(cust)\n",
        "    else: # shop1과 shop2에 모두 손님이 있는 경우 각 shop 마다 마지막 손님의 outTime을 계산하고 작은 쪽으로 손님을 보낸다.\n",
        "        if shop1.getLast().outTime < shop2.getLast().outTime:\n",
        "            cust.orderTime = shop1.getLast().outTime\n",
        "            cust.outTime = cust.orderTime + cookTime\n",
        "            shop1.entCust(cust)\n",
        "        else:\n",
        "            cust.orderTime = shop2.getLast().outTime\n",
        "            cust.outTime = cust.orderTime + cookTime\n",
        "            shop2.entCust(cust)\n",
        "    \n",
        "    curTime = cust.arriveTime\n",
        "    hour = curTime // 60 + 8\n",
        "    min = curTime % 60\n",
        "    \n",
        "    for cust1 in shop1.custQueue:\n",
        "        if cust1.outTime < curTime:\n",
        "            shop1.outCust()\n",
        "\n",
        "    for cust2 in shop2.custQueue:\n",
        "        if cust2.outTime < curTime:\n",
        "            shop2.outCust()\n",
        "    \n",
        "    if maxCust < shop1.getSize():\n",
        "        maxCust = shop1.getSize()\n",
        "        print('현재 시각: {:>5.1f}시 {:>5.1f}분 \\t shop1에서 최대 인원은: {:>5}명'.format(hour, min, maxCust))\n",
        "        print('\\t\\t\\t\\t shop2에서 현재 인원은: {:>5}명'.format(shop2.getSize()))\n",
        "        print('\\t')\n",
        "    elif maxCust < shop2.getSize():\n",
        "        maxCust = shop2.getSize()\n",
        "        print('현재 시각: {:>5.1f}시 {:>5.1f}분 \\t shop2에서 최대 인원은: {:>5}명'.format(hour, min, maxCust))\n",
        "        print('\\t\\t\\t\\t shop1에서 현재 인원은: {:>5}명'.format(shop1.getSize()))\n",
        "        print('\\t')\n",
        "print('현재 시각: {:>5.1f}시 {:>5.1f}분 \\t 문을 닫습니다.'.format(hour, min))"
      ],
      "execution_count": 55,
      "outputs": [
        {
          "output_type": "stream",
          "text": [
            "현재 시각:   8.0시   0.8분 \t shop1에서 최대 인원은:     1명\n",
            "\t\t\t\t shop2에서 현재 인원은:     0명\n",
            "\t\n",
            "현재 시각:   8.0시  17.9분 \t shop1에서 최대 인원은:     2명\n",
            "\t\t\t\t shop2에서 현재 인원은:     1명\n",
            "\t\n",
            "현재 시각:   9.0시  18.0분 \t shop1에서 최대 인원은:     3명\n",
            "\t\t\t\t shop2에서 현재 인원은:     2명\n",
            "\t\n",
            "현재 시각:   9.0시  19.1분 \t shop1에서 최대 인원은:     4명\n",
            "\t\t\t\t shop2에서 현재 인원은:     3명\n",
            "\t\n",
            "현재 시각:  22.0시   0.0분 \t 문을 닫습니다.\n"
          ],
          "name": "stdout"
        }
      ]
    },
    {
      "cell_type": "code",
      "metadata": {
        "id": "lGy1lq53PK35",
        "colab_type": "code",
        "colab": {
          "base_uri": "https://localhost:8080/",
          "height": 298
        },
        "outputId": "256276a5-e5b2-40c8-bc61-80f5aac127da"
      },
      "source": [
        "# 주문을 두명이서 받을 때 (매장 두군데에서 손님을 받는다고 생각하자)\n",
        "# 점심시간 (1200 ~ 1300)까지 생각\n",
        "\n",
        "import numpy as np\n",
        "np.random.seed(seed=0)\n",
        "\n",
        "# 큐를 2개 생성\n",
        "shop1 = Shop()\n",
        "shop2 = Shop()\n",
        "\n",
        "curTime = 0\n",
        "maxCust = 0\n",
        "cookTime = 1\n",
        "while curTime < (60 * 14): # 0800 ~ 2200 (60 * 14 == 840)\n",
        "    # 점심시간 난수 설정\n",
        "    if curTime >= 60 * 4 and curTime < 60 * 5: # 1200 ~ 1300 시간대 조절\n",
        "        arrive = curTime + np.random.exponential(scale=0.7) # scale: lambda 값 조절을 통한 정해진 시간대의 난수 조절\n",
        "    else:\n",
        "        arrive = curTime + np.random.exponential() # 도착시간 랜덤 정의\n",
        "\n",
        "    cust = Cust(arrive)\n",
        "    # 큐에 따른 고객의 시간 정의\n",
        "    if shop1.getSize() == 0: # shop1에 손님이 없으면 우선적으로 손님을 받는다.\n",
        "        cust.orderTime = cust.arriveTime\n",
        "        cust.outTime = cust.orderTime + cookTime\n",
        "        shop1.entCust(cust)\n",
        "    elif shop1.getSize() != 0 and shop2.getSize() == 0: # shop1에 손님이 있고 shop2에 없을 경우 shop2로 보낸다.\n",
        "        cust.orderTime = cust.arriveTime\n",
        "        cust.outTime = cust.orderTime + cookTime\n",
        "        shop2.entCust(cust)\n",
        "    else: # shop1과 shop2에 모두 손님이 있는 경우 각 shop 마다 마지막 손님의 outTime을 계산하고 작은 쪽으로 손님을 보낸다.\n",
        "        if shop1.getLast().outTime < shop2.getLast().outTime:\n",
        "            cust.orderTime = shop1.getLast().outTime\n",
        "            cust.outTime = cust.orderTime + cookTime\n",
        "            shop1.entCust(cust)\n",
        "        else:\n",
        "            cust.orderTime = shop2.getLast().outTime\n",
        "            cust.outTime = cust.orderTime + cookTime\n",
        "            shop2.entCust(cust)\n",
        "    \n",
        "    curTime = cust.arriveTime\n",
        "    hour = curTime // 60 + 8\n",
        "    min = curTime % 60\n",
        "    \n",
        "    for cust1 in shop1.custQueue:\n",
        "        if cust1.outTime < curTime:\n",
        "            shop1.outCust()\n",
        "\n",
        "    for cust2 in shop2.custQueue:\n",
        "        if cust2.outTime < curTime:\n",
        "            shop2.outCust()\n",
        "    \n",
        "    if maxCust < shop1.getSize():\n",
        "        maxCust = shop1.getSize()\n",
        "        print('현재 시각: {:>5.1f}시 {:>5.1f}분 \\t shop1에서 최대 인원은: {:>5}명'.format(hour, min, maxCust))\n",
        "        print('\\t\\t\\t\\t shop2에서 현재 인원은: {:>5}명'.format(shop2.getSize()))\n",
        "        print('\\t')\n",
        "    elif maxCust < shop2.getSize():\n",
        "        maxCust = shop2.getSize()\n",
        "        print('현재 시각: {:>5.1f}시 {:>5.1f}분 \\t shop2에서 최대 인원은: {:>5}명'.format(hour, min, maxCust))\n",
        "        print('\\t\\t\\t\\t shop1에서 현재 인원은: {:>5}명'.format(shop1.getSize()))\n",
        "        print('\\t')\n",
        "print('현재 시각: {:>5.1f}시 {:>5.1f}분 \\t 문을 닫습니다.'.format(hour, min))"
      ],
      "execution_count": 64,
      "outputs": [
        {
          "output_type": "stream",
          "text": [
            "현재 시각:   8.0시   0.8분 \t shop1에서 최대 인원은:     1명\n",
            "\t\t\t\t shop2에서 현재 인원은:     0명\n",
            "\t\n",
            "현재 시각:   8.0시  17.9분 \t shop1에서 최대 인원은:     2명\n",
            "\t\t\t\t shop2에서 현재 인원은:     1명\n",
            "\t\n",
            "현재 시각:   9.0시  18.0분 \t shop1에서 최대 인원은:     3명\n",
            "\t\t\t\t shop2에서 현재 인원은:     2명\n",
            "\t\n",
            "현재 시각:   9.0시  19.1분 \t shop1에서 최대 인원은:     4명\n",
            "\t\t\t\t shop2에서 현재 인원은:     3명\n",
            "\t\n",
            "현재 시각:  12.0시  56.3분 \t shop1에서 최대 인원은:     5명\n",
            "\t\t\t\t shop2에서 현재 인원은:     4명\n",
            "\t\n",
            "현재 시각:  22.0시   0.0분 \t 문을 닫습니다.\n"
          ],
          "name": "stdout"
        }
      ]
    },
    {
      "cell_type": "code",
      "metadata": {
        "id": "bYD_Y56YTnt8",
        "colab_type": "code",
        "colab": {}
      },
      "source": [
        ""
      ],
      "execution_count": 0,
      "outputs": []
    }
  ]
}