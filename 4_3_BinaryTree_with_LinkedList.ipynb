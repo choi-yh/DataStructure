{
  "nbformat": 4,
  "nbformat_minor": 0,
  "metadata": {
    "colab": {
      "name": "4_3_BinaryTree_with_LinkedList.ipynb",
      "provenance": [],
      "collapsed_sections": [],
      "authorship_tag": "ABX9TyOfj8POgL3oFsC30QnYFHm1",
      "include_colab_link": true
    },
    "kernelspec": {
      "name": "python3",
      "display_name": "Python 3"
    }
  },
  "cells": [
    {
      "cell_type": "markdown",
      "metadata": {
        "id": "view-in-github",
        "colab_type": "text"
      },
      "source": [
        "<a href=\"https://colab.research.google.com/github/choi-yh/DataStructure/blob/master/4_3_BinaryTree_with_LinkedList.ipynb\" target=\"_parent\"><img src=\"https://colab.research.google.com/assets/colab-badge.svg\" alt=\"Open In Colab\"/></a>"
      ]
    },
    {
      "cell_type": "markdown",
      "metadata": {
        "id": "lXNLtLU5xV2Z",
        "colab_type": "text"
      },
      "source": [
        "* 연결 리스트를 이용한 이진트리\n",
        "    * 위에서 구현한 리스트를 이용한 이진트리는 편향트리와 같이 중간이 비어있는 구조에는 적합치 않다.\n",
        "    * 이러한 단점을 극복하기 위해 연결 리스트를 이용해 구현해보자.\n",
        "    * root만 알고 있으면 left, right link를 통해서 구현이 가능하다.\n",
        "\n",
        " ![](https://drive.google.com/uc?id=1qcjP_VxfLO3dpZLmCcxZUYwLNt0ApmTf) </center>\n",
        "\n"
      ]
    },
    {
      "cell_type": "code",
      "metadata": {
        "id": "PuX3Vhdzxbv7",
        "colab_type": "code",
        "colab": {}
      },
      "source": [
        "# 구현\n",
        "\n",
        "class BNode:\n",
        "    def __init__(self, item=None):\n",
        "        self.item = item\n",
        "        self.left = None\n",
        "        self.right = None\n",
        "\n",
        "    def setLeft(self, node):\n",
        "        self.left = node\n",
        "\n",
        "    def setRight(self, node):\n",
        "        self.right = node\n",
        "\n",
        "class BinaryTree:\n",
        "    def __init__(self, root):\n",
        "        self.root = root\n",
        "\n",
        "a = BNode('A')\n",
        "b = BNode('B')\n",
        "c = BNode('C')\n",
        "d = BNode('D')\n",
        "e = BNode('E')\n",
        "f = BNode('F')\n",
        "g = BNode('G')\n",
        "h = BNode('H')\n",
        "i = BNode('I')\n",
        "j = BNode('J')\n",
        "k = BNode('K')\n",
        "l = BNode('L')\n",
        "\n",
        "a.setLeft(b)\n",
        "a.setRight(c)\n",
        "\n",
        "b.setLeft(d)\n",
        "b.setRight(e)\n",
        "\n",
        "c.setLeft(f)\n",
        "c.setRight(g)\n",
        "\n",
        "d.setLeft(h)\n",
        "d.setRight(i)\n",
        "\n",
        "e.setLeft(j)\n",
        "e.setRight(k)\n",
        "\n",
        "f.setLeft(l)\n",
        "\n",
        "t = BinaryTree(a)"
      ],
      "execution_count": 0,
      "outputs": []
    },
    {
      "cell_type": "code",
      "metadata": {
        "id": "9PV6ibbA1x84",
        "colab_type": "code",
        "colab": {}
      },
      "source": [
        ""
      ],
      "execution_count": 0,
      "outputs": []
    }
  ]
}