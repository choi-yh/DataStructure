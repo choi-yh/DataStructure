{
  "nbformat": 4,
  "nbformat_minor": 0,
  "metadata": {
    "colab": {
      "name": "3_3_eqBracketCheck.ipynb",
      "provenance": [],
      "collapsed_sections": [],
      "authorship_tag": "ABX9TyOXpfI9GON8qWN9nfXfktn5",
      "include_colab_link": true
    },
    "kernelspec": {
      "name": "python3",
      "display_name": "Python 3"
    }
  },
  "cells": [
    {
      "cell_type": "markdown",
      "metadata": {
        "id": "view-in-github",
        "colab_type": "text"
      },
      "source": [
        "<a href=\"https://colab.research.google.com/github/choi-yh/DataStructure/blob/master/3_3_eqBracketCheck.ipynb\" target=\"_parent\"><img src=\"https://colab.research.google.com/assets/colab-badge.svg\" alt=\"Open In Colab\"/></a>"
      ]
    },
    {
      "cell_type": "code",
      "metadata": {
        "id": "G-cV3D1lW-bh",
        "colab_type": "code",
        "colab": {}
      },
      "source": [
        "class Stack:\n",
        "    def __init__(self):\n",
        "        self.s = []\n",
        "\n",
        "    def push(self, item):\n",
        "        self.s.append(item)\n",
        "\n",
        "    def pop(self):\n",
        "        if self.isEmpty() == True:\n",
        "            return None\n",
        "        else:\n",
        "            return self.s.pop(-1)\n",
        "\n",
        "    def delete(self):\n",
        "        if self.isEmpty() == True:\n",
        "            return None\n",
        "        else:\n",
        "            del self.s[-1]\n",
        "\n",
        "    def peek(self):\n",
        "        if self.isEmpty() == True:\n",
        "            return None\n",
        "        else:\n",
        "            return self.s[-1]\n",
        "\n",
        "    def isEmpty(self):\n",
        "        if len(self.s) == 0:\n",
        "            return True\n",
        "        else:\n",
        "            return False\n",
        "\n",
        "    def print(self):\n",
        "        print(self.s)"
      ],
      "execution_count": 0,
      "outputs": []
    },
    {
      "cell_type": "code",
      "metadata": {
        "id": "9jP4lz2cXMbU",
        "colab_type": "code",
        "colab": {
          "base_uri": "https://localhost:8080/",
          "height": 35
        },
        "outputId": "b68a7397-1288-475b-9f4e-dacd668f22f0"
      },
      "source": [
        "# 수식 괄호 체크: 수식에서 '('이면 push, ')'이면 pop\n",
        "# 수식이 끝났을 때, 스택이 비어 있으면 괄호가 잘 맞는 것\n",
        "\n",
        "def eqBracketCheck(f):\n",
        "    s = Stack()\n",
        "    for i in range(len(f)):\n",
        "        if f[i] == '(':\n",
        "            s.push(f[i])\n",
        "        elif f[i] == ')':\n",
        "            if s.pop() == None:\n",
        "                return False\n",
        "    if s.isEmpty() == True:\n",
        "        return True\n",
        "    else:\n",
        "        return False\n",
        "\n",
        "f = '(1+2) + (3+4)) ='\n",
        "eqBracketCheck(f)"
      ],
      "execution_count": 8,
      "outputs": [
        {
          "output_type": "execute_result",
          "data": {
            "text/plain": [
              "False"
            ]
          },
          "metadata": {
            "tags": []
          },
          "execution_count": 8
        }
      ]
    },
    {
      "cell_type": "code",
      "metadata": {
        "id": "YeDETts9X5Po",
        "colab_type": "code",
        "colab": {}
      },
      "source": [
        ""
      ],
      "execution_count": 0,
      "outputs": []
    }
  ]
}