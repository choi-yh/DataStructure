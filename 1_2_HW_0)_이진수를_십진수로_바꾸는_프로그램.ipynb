{
  "nbformat": 4,
  "nbformat_minor": 0,
  "metadata": {
    "colab": {
      "name": "1_2_HW 0) 이진수를 십진수로 바꾸는 프로그램",
      "provenance": [],
      "collapsed_sections": [],
      "authorship_tag": "ABX9TyOcLfpfL+qdjthM7f9RMFTi",
      "include_colab_link": true
    },
    "kernelspec": {
      "name": "python3",
      "display_name": "Python 3"
    }
  },
  "cells": [
    {
      "cell_type": "markdown",
      "metadata": {
        "id": "view-in-github",
        "colab_type": "text"
      },
      "source": [
        "<a href=\"https://colab.research.google.com/github/choi-yh/DataStructure/blob/master/1_2_HW_0)_%EC%9D%B4%EC%A7%84%EC%88%98%EB%A5%BC_%EC%8B%AD%EC%A7%84%EC%88%98%EB%A1%9C_%EB%B0%94%EA%BE%B8%EB%8A%94_%ED%94%84%EB%A1%9C%EA%B7%B8%EB%9E%A8.ipynb\" target=\"_parent\"><img src=\"https://colab.research.google.com/assets/colab-badge.svg\" alt=\"Open In Colab\"/></a>"
      ]
    },
    {
      "cell_type": "code",
      "metadata": {
        "id": "m0og8l56sMEG",
        "colab_type": "code",
        "outputId": "a7012ac1-1bed-4b41-c821-03dd1cc5692a",
        "colab": {
          "base_uri": "https://localhost:8080/",
          "height": 53
        }
      },
      "source": [
        "# 이진수 입력 받기\n",
        "bin = input(\"이진수를 입력하세요: \")\n",
        "\n",
        "# 십진수 계산\n",
        "dec = 0\n",
        "j = 0 # 지수 계산\n",
        "for i in range(len(bin), 0, -1): # 이진수의 끝부터 2^n을 곱하면서 더해준다.\n",
        "    dec += int(bin[i-1]) * (2**j)\n",
        "    j += 1\n",
        "print(dec)"
      ],
      "execution_count": 13,
      "outputs": [
        {
          "output_type": "stream",
          "text": [
            "이진수를 입력하세요: 1010101\n",
            "85\n"
          ],
          "name": "stdout"
        }
      ]
    },
    {
      "cell_type": "code",
      "metadata": {
        "id": "PgeXIW9V27pR",
        "colab_type": "code",
        "colab": {}
      },
      "source": [
        ""
      ],
      "execution_count": 0,
      "outputs": []
    }
  ]
}