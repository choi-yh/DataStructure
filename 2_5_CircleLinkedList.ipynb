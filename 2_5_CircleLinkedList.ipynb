{
  "nbformat": 4,
  "nbformat_minor": 0,
  "metadata": {
    "colab": {
      "name": "2_5_CircleLinkedList.ipynb",
      "provenance": [],
      "collapsed_sections": [],
      "authorship_tag": "ABX9TyPVEsgwhcSnV/GoEwoZJwVy",
      "include_colab_link": true
    },
    "kernelspec": {
      "name": "python3",
      "display_name": "Python 3"
    }
  },
  "cells": [
    {
      "cell_type": "markdown",
      "metadata": {
        "id": "view-in-github",
        "colab_type": "text"
      },
      "source": [
        "<a href=\"https://colab.research.google.com/github/choi-yh/DataStructure/blob/master/2_5_CircleLinkedList.ipynb\" target=\"_parent\"><img src=\"https://colab.research.google.com/assets/colab-badge.svg\" alt=\"Open In Colab\"/></a>"
      ]
    },
    {
      "cell_type": "markdown",
      "metadata": {
        "id": "Zz1n1d_u9Pkl",
        "colab_type": "text"
      },
      "source": [
        "* **CircleLinkedList** 는 마지막 노드의 링크에 root 노드의 주소를 삽입한 것이다.  \n",
        "* Single Linked List는 항상 root로 부터 순차탐색을 해야 하는데 Circle Linked List는 아무 위치에서나 원형으로 탐색이 가능하다.  \n",
        "* 무한반복 mp3, 혹은 사진 슬라이드 쇼 플레이 순서를 만드는 예와 같이 순서가 계속 반복되는 원형 자료구조에 적합하다.  \n",
        "\n",
        "    * tail (root가 삭제될 경우, tail.link 갱신) 과 current (리스트 순환을 위함) 를 관리한다. \n",
        "    * **setCurrent**: item을 가지는 노드를 current 노드로 지정한다.  \n",
        "    * **moveNext**: current 노드를 다음 노드로 바꾼다.  \n",
        "    * **insert**: current 다음에 item을 삽입한다.  \n",
        "    current가 tail이면 tail 갱신\n",
        "    * **delete**: 주어진 값을 이용해 해당 노드를 찾고 지운다.  \n",
        "    curNode = preNode = root로 초기 지정하고 curNode를 움직일 때 마다 preNode는 curNode의 이전 노드로 갱신한다.  \n",
        "del item이 첫번째 노드면 root에 del item의 링크를 넣고 tail노드의 링크에 값을 root로 갱신한다.  \n",
        "del item이 중간노드면 preNode 링크에 del item의 링크를 넣는다.  \n",
        "마지막 노드라면 preNode 링크에 del item의 링크를 넣고 tail 노드를 preNode로 갱신한다.  "
      ]
    },
    {
      "cell_type": "code",
      "metadata": {
        "id": "ArNEhTME9vI5",
        "colab_type": "code",
        "colab": {
          "base_uri": "https://localhost:8080/",
          "height": 287
        },
        "outputId": "85eb9a08-b432-41a4-8776-bfb1f4eebaa8"
      },
      "source": [
        "class Node:\n",
        "    def __init__(self, item=None):\n",
        "        self.item = item\n",
        "        self.link = None\n",
        "\n",
        "class CircleLinkedList:\n",
        "    def __init__(self):\n",
        "        self.root = Node()\n",
        "        self.tail = self.root\n",
        "        self.current = self.root\n",
        "\n",
        "    def append(self, item):\n",
        "        newNode = Node(item)\n",
        "        if self.root.item == None:\n",
        "            self.root = newNode\n",
        "            self.tail = newNode\n",
        "            newNode.link = self.root\n",
        "        else:\n",
        "            self.tail.link = newNode\n",
        "            newNode.link = self.root\n",
        "            self.tail = newNode\n",
        "\n",
        "    def setCurrent(self, item):\n",
        "        curNode = self.root\n",
        "        while curNode.item != item:\n",
        "            curNode = curNode.link\n",
        "        self.current = curNode\n",
        "\n",
        "    def moveNext(self):\n",
        "        self.current = self.current.link\n",
        "        print(\"현재 위치는 \", self.current.item, \"입니다.\")\n",
        "\n",
        "    def insert(self, item):\n",
        "        newNode = Node(item)\n",
        "        newNode.link = self.current.link\n",
        "        self.current.link = newNode\n",
        "        # self.current가 tail일 경우 새 노드를 tail로 재지정\n",
        "        if self.current == self.tail:\n",
        "            self.tail = newNode\n",
        "    \n",
        "    def delete(self, item):\n",
        "        delYN = False # 지울 노드가 리스트에 있는지 확인\n",
        "        curNode = self.root\n",
        "        # root 노드를 지울 경우 root와 tail 갱신\n",
        "        if self.root.item == item:\n",
        "            self.root = self.root.link\n",
        "            self.tail = self.root\n",
        "            delYN = True\n",
        "        # tail 노드를 지울경우 tail 갱신\n",
        "        else:\n",
        "            while curNode.link != self.root:\n",
        "                preNode = curNode\n",
        "                curNode = curNode.link\n",
        "                if curNode.item == item:\n",
        "                    preNode.link = curNode.link\n",
        "                    if curNode == self.tail:\n",
        "                        self.tail = preNode\n",
        "                    delYN = True\n",
        "        if delYN == False:\n",
        "            print(\"해당 아이템이 리스트에 없습니다.\")        \n",
        "\n",
        "    def listSize(self):\n",
        "        curNode = self.root\n",
        "        cnt = 1\n",
        "        while curNode.link != self.root:\n",
        "            curNode = curNode.link\n",
        "            cnt += 1\n",
        "        return cnt\n",
        "\n",
        "    def print(self):\n",
        "        curNode = self.root\n",
        "        while curNode.link != self.root:\n",
        "            print(curNode.item, end=' - ')\n",
        "            curNode = curNode.link\n",
        "        print(curNode.item)\n",
        "\n",
        "\n",
        "\n",
        "fruits = CircleLinkedList()\n",
        "fruits.append('사과')\n",
        "fruits.append('앵두')\n",
        "fruits.append('오렌지')\n",
        "fruits.append('포도')\n",
        "\n",
        "fruits.print()\n",
        "print('listSize : ', fruits.listSize())\n",
        "fruits.setCurrent(\"포도\")\n",
        "fruits.insert(\"수박\")\n",
        "print('tail :', fruits.tail.item)\n",
        "\n",
        "fruits.setCurrent('오렌지')\n",
        "for i in range(5):\n",
        "    fruits.moveNext()\n",
        "print('\\n')\n",
        "\n",
        "fruits.delete('포도')\n",
        "fruits.setCurrent('오렌지')\n",
        "for i in range(5):\n",
        "    fruits.moveNext()"
      ],
      "execution_count": 29,
      "outputs": [
        {
          "output_type": "stream",
          "text": [
            "사과 - 앵두 - 오렌지 - 포도\n",
            "listSize :  4\n",
            "tail : 수박\n",
            "현재 위치는  포도 입니다.\n",
            "현재 위치는  수박 입니다.\n",
            "현재 위치는  사과 입니다.\n",
            "현재 위치는  앵두 입니다.\n",
            "현재 위치는  오렌지 입니다.\n",
            "\n",
            "\n",
            "현재 위치는  수박 입니다.\n",
            "현재 위치는  사과 입니다.\n",
            "현재 위치는  앵두 입니다.\n",
            "현재 위치는  오렌지 입니다.\n",
            "현재 위치는  수박 입니다.\n"
          ],
          "name": "stdout"
        }
      ]
    },
    {
      "cell_type": "code",
      "metadata": {
        "id": "Li1EwCniEhWl",
        "colab_type": "code",
        "colab": {}
      },
      "source": [
        ""
      ],
      "execution_count": 0,
      "outputs": []
    }
  ]
}