{
  "nbformat": 4,
  "nbformat_minor": 0,
  "metadata": {
    "colab": {
      "name": "5_5_B_Tree.ipynb",
      "provenance": [],
      "collapsed_sections": [],
      "authorship_tag": "ABX9TyOSQ2WZdrkOHbeIsHfRJ5Wt",
      "include_colab_link": true
    },
    "kernelspec": {
      "name": "python3",
      "display_name": "Python 3"
    }
  },
  "cells": [
    {
      "cell_type": "markdown",
      "metadata": {
        "id": "view-in-github",
        "colab_type": "text"
      },
      "source": [
        "<a href=\"https://colab.research.google.com/github/choi-yh/DataStructure/blob/master/5_5_B_Tree.ipynb\" target=\"_parent\"><img src=\"https://colab.research.google.com/assets/colab-badge.svg\" alt=\"Open In Colab\"/></a>"
      ]
    },
    {
      "cell_type": "markdown",
      "metadata": {
        "id": "PG_DQtfXENbn",
        "colab_type": "text"
      },
      "source": [
        "####  B Tree\n",
        "* 이진트리는  자식노드가 2개이기 때문에 노드가 많아지면 높이가 증가한다.\n",
        "* B-Tree는 자식노드의 수를 2개 이상 가질 수 있게 하여 트리의 높이를 낮출 수 있어 방대한 자료를 처리하는데 유용하다.\n",
        "* B-Tree는 데이터베이스와 같이 거대자료를 탐색하고, 삽입, 삭제하는 자료구조로 사용된다.\n",
        "* 키는 정렬된 상태로 노드에 저장한다. \n",
        "* M차 B-Tree는 트리의 각 노드에서 가질 수 있는 자식노드의 수가 ceil(M/2) ~ M개 이다. \n",
        "* 루트노드가 잎노드가 아닐 때, 적어도 2개 이상의 자식을 가져야 한다.\n",
        "* 루트를 제외한 모든 노드는 ceil(M/2)-1 ~ M-1개의 키를 가지고 있어야 한다.\n",
        "* 입력자료는 중복될 수 없다.\n",
        "* 잎 노드는 모두 같은 레벨에 있어야 한다. 즉, 루트에서 부터 잎노드로 가는 경로 길이는 같다.\n",
        "\n",
        " ![]( https://drive.google.com/uc?id=184OBB7ACgTOPwm3h4aE_XUB1S_FdaGUW) </center>\n",
        "\n",
        "* 아래 그림은 5차 B Tree다.\n",
        " ![](https://drive.google.com/uc?id=1yAsgN6eyliV3850uc1z8NQfMq3u5MdVD) </center>\n",
        "\n",
        "* 삽입연산(M이 홀수 일 때)\n",
        "  * M=3으로 예를 든다.\n",
        "  * 삽입은 탐색 알고리즘으로 삽입할 위치를 찾아 삽입한다.\n",
        "  * 만약, 이미 M-1개의 키가 존재해 삽입이 불가능하면 기존 M-1개 키와 새로 삽입할 키 1개를 포함해 M개의 중앙값을 구하고 중앙값을 기준으로 노드를 좌우 두개로 분리한다. 이후, M을 삽입 대상 노드의 부모노드로 보낸다.\n",
        "  * 만약, 부모노드에서도 수용할 수 없다면 부모노드로 올리는 작업을 반복한다.\n",
        "  * 만약, 루트도 수용할 수 없다면 루트노드에서 중앙값이 루트가 되고 중앙값을 기준으로 좌우노드가 자식노드가 된다.\n",
        "\n",
        "   ![](https://drive.google.com/uc?id=1dZnPRCshWSn_0ATO_1zhBb2SWIqBGyh1) </center>\n",
        "\n",
        "* 삭제연산\n",
        "  * 삭제는 잎 노드에서만 가능하다. 만약, 삭제할 대상이 잎노드에 없다면 잎 노드에서 삭제 키와 유사한 값을 찾아 위치를 교환한 후, 잎 노드에서 삭제를 수행한다.\n",
        "  * 삭제 연산에는 이동연산과 통합연산이 있다.\n",
        "  * 이동연산: 잎노드에서 키가 삭제된 후, 키의 수가 ceil(M/2)-1 보다 작으면 B 트리의 조건을 위반한 것으로 underflow가 발생한 것이다. 이 때에는 형제노드 중에 하나의 값을 입양한다.\n",
        "\n",
        " ![]( https://drive.google.com/uc?id=1QPNpUnboR8FQIUhpGQ93wtfYRkTIUoOn) </center>\n",
        "  ![]( https://drive.google.com/uc?id=1SbwWRrqBQgcGKm3pOkko4VtSguRD4oyz) </center>\n",
        " \n",
        "  * 통합연산: 이동연산을 할 수 없을 경우, 해당 노드와 형제노드를 통합하고 두 노드의 부모가 되는 키를 끌어내린다. 부모노드의 키를 끌어내리는 과정에서 다시 underflow가 발생하면 다시 그의 부모노드의 키를 끌어내리는 연산을 반복한다.\n",
        "  \n",
        "    ![]( https://drive.google.com/uc?id=16abvFi_zr_yR9F_IC3rZ2nPCwZ9TqnXP) </center>\n",
        "    ![]( https://drive.google.com/uc?id=1QxJLMUgHt1kaz0Z_Hz6Z8BJ9_l6fcTGY) </center>"
      ]
    },
    {
      "cell_type": "code",
      "metadata": {
        "id": "9yDZ7o8vETyx",
        "colab_type": "code",
        "colab": {}
      },
      "source": [
        ""
      ],
      "execution_count": 0,
      "outputs": []
    }
  ]
}